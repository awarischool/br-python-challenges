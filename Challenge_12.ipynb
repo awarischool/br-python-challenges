{
  "cells": [
    {
      "cell_type": "markdown",
      "metadata": {
        "id": "AYHY2YXQf6J2"
      },
      "source": [
        "### Challenge 12\n",
        "\n",
        "Write a Python function to check the validity of a password.\n",
        "\n",
        "The password must have:\n",
        "\n",
        "* At least 1 letter between [a-z] and 1 letter between [A-Z].\n",
        "* At least 1 number between [0-9].\n",
        "* At least 1 character of [$#@].\n",
        "* Minimum length of 6 characters.\n",
        "* Maximum length of 16 characters.\n",
        "\n",
        "Entries: \"12345678\", \"J3sus0\", \"#Te5t300\", \"J*90j12374\", \"Michheeul\", \"Monk3y6\"\n",
        "\n",
        "The output should be the password and a text indicating whether the password is valid or invalid:\n",
        "\n",
        "```\n",
        "\"1234\" - Invalid password\n",
        "\"Qw#1234\" - Valid password\n",
        "```"
      ]
    },
    {
      "cell_type": "code",
      "execution_count": 9,
      "metadata": {
        "id": "UGgtGYGGf6J3"
      },
      "outputs": [],
      "source": [
        "# Code\n",
        "\n",
        "def password_check(password):\n",
        "  # checking password lenght\n",
        "  valid = 1\n",
        "  if len(password) < 6:\n",
        "    valid = 0\n",
        "  if len(password) > 16:\n",
        "    valid = 0\n",
        "  # checking if at least 1 character meets conditions\n",
        "  # at least 1 lowercase\n",
        "  check = 0\n",
        "  for c in password:\n",
        "    if c.islower() == True:\n",
        "      check = 1\n",
        "  if check == 0:\n",
        "    valid = 0\n",
        "  # at least 1 uppercase\n",
        "  check = 0\n",
        "  for c in password:\n",
        "    if c.isupper() == True:\n",
        "      check = 1\n",
        "  if check == 0:\n",
        "    valid = 0\n",
        "  # at least 1 number\n",
        "  check = 0\n",
        "  for c in password:\n",
        "    if c.isnumeric() == True:\n",
        "      check = 1\n",
        "  if check == 0:\n",
        "    valid = 0\n",
        "  # at least 1 of [$, #, @]\n",
        "  check = 0\n",
        "  for c in password:\n",
        "    if c == '$' or c == '#' or c == '@':\n",
        "      check = 1\n",
        "  if check == 0:\n",
        "    valid = 0\n",
        "  # formatting the output\n",
        "  if valid == 1:\n",
        "    valid = 'Valid'\n",
        "  else:\n",
        "    valid = 'Invalid'\n",
        "  output = str('\"{}\" - {} password'.format(password, valid))\n",
        "  return output"
      ]
    },
    {
      "cell_type": "code",
      "source": [
        "# Testing\n",
        "# \"1234\" - Invalid password\n",
        "# \"Qw#1234\" - Valid password\n",
        "\n",
        "print(password_check('1234'))\n",
        "print(password_check('Qw#1234'))"
      ],
      "metadata": {
        "id": "N_A8L3uHQQ0P",
        "outputId": "1cbd6949-01d1-42f0-e28c-b02055ea2053",
        "colab": {
          "base_uri": "https://localhost:8080/"
        }
      },
      "execution_count": 12,
      "outputs": [
        {
          "output_type": "stream",
          "name": "stdout",
          "text": [
            "\"1234\" - Invalid password\n",
            "\"Qw#1234\" - Valid password\n"
          ]
        }
      ]
    },
    {
      "cell_type": "code",
      "source": [
        "# Testing\n",
        "\n",
        "entries = [\"12345678\", \"J3sus0\", \"#Te5t300\", \"J*90j12374\", \"Michheeul\", \"Monk3y6\"]\n",
        "\n",
        "for password in entries:\n",
        "  print(password_check(password))"
      ],
      "metadata": {
        "id": "pwvTMhKCODF2",
        "outputId": "24c1173e-4353-4867-ed6f-74f5d0afb5ec",
        "colab": {
          "base_uri": "https://localhost:8080/"
        }
      },
      "execution_count": 10,
      "outputs": [
        {
          "output_type": "stream",
          "name": "stdout",
          "text": [
            "\"12345678\" - Invalid password\n",
            "\"J3sus0\" - Invalid password\n",
            "\"#Te5t300\" - Valid password\n",
            "\"J*90j12374\" - Invalid password\n",
            "\"Michheeul\" - Invalid password\n",
            "\"Monk3y6\" - Invalid password\n"
          ]
        }
      ]
    }
  ],
  "metadata": {
    "anaconda-cloud": {},
    "colab": {
      "name": "Desafio 12.ipynb",
      "provenance": []
    },
    "kernelspec": {
      "display_name": "Python 3",
      "language": "python",
      "name": "python3"
    },
    "language_info": {
      "codemirror_mode": {
        "name": "ipython",
        "version": 3
      },
      "file_extension": ".py",
      "mimetype": "text/x-python",
      "name": "python",
      "nbconvert_exporter": "python",
      "pygments_lexer": "ipython3",
      "version": "3.7.9"
    }
  },
  "nbformat": 4,
  "nbformat_minor": 0
}