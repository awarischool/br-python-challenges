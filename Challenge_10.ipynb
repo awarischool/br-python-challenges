{
  "cells": [
    {
      "cell_type": "markdown",
      "metadata": {
        "id": "a4-FLDRof6Jv"
      },
      "source": [
        "### Challenge 10\n",
        "\n",
        "Given a list, divide it into 3 equal parts and reverse the order of each list.\n",
        "\n",
        "**Example:** \n",
        "\n",
        "Entry: \\\n",
        "sampleList = [11, 45, 8, 23, 14, 12, 78, 45, 89]\n",
        "\n",
        "Output: \\\n",
        "Part 1 [8, 45, 11] \\\n",
        "Part 2 [12, 14, 23] \\\n",
        "Part 3 [89, 45, 78] "
      ]
    },
    {
      "cell_type": "code",
      "execution_count": 19,
      "metadata": {
        "colab": {
          "base_uri": "https://localhost:8080/"
        },
        "id": "IJ70pUjnf6Jw",
        "outputId": "e55ce3db-777b-4e85-efd7-c53bb96770c2"
      },
      "outputs": [
        {
          "output_type": "stream",
          "name": "stdout",
          "text": [
            "List size is equal to 9\n",
            "Part size is equal to 3\n",
            "[8, 45, 11]\n",
            "[12, 14, 23]\n",
            "[89, 45, 78]\n"
          ]
        }
      ],
      "source": [
        "# code\n",
        "\n",
        "sampleList = [11, 45, 8, 23, 14, 12, 78, 45, 89]\n",
        "\n",
        "# getting the size of the partitions\n",
        "\n",
        "print('List size is equal to {}'.format(len(sampleList)))\n",
        "n = len(sampleList) // 3\n",
        "print('Part size is equal to {}'.format(n))\n",
        "\n",
        "# partitions of the list\n",
        "# if lenght is not a multiple of 3, the mid partition will get the rest\n",
        "# example: if list lenght = 10:\n",
        "# part 1 and part 3 will be lenght 3, and part 2 will be lenght 4\n",
        "\n",
        "part_1 = sampleList[0 : n]\n",
        "part_1 = list(reversed(part_1))\n",
        "\n",
        "part_2 = sampleList[n : ( len(sampleList) - n)]\n",
        "part_2 = list(reversed(part_2))\n",
        "\n",
        "part_3 = sampleList[-n :]\n",
        "part_3 = list(reversed(part_3))\n",
        "\n",
        "print(part_1)\n",
        "print(part_2)\n",
        "print(part_3)"
      ]
    },
    {
      "cell_type": "code",
      "execution_count": 20,
      "metadata": {
        "colab": {
          "base_uri": "https://localhost:8080/"
        },
        "id": "pNrXNVqf8Wc1",
        "outputId": "560e022a-068e-430e-8441-f719cfbfa717"
      },
      "outputs": [
        {
          "output_type": "stream",
          "name": "stdout",
          "text": [
            "List size is equal to 14\n",
            "Part size is equal to 4\n",
            "[23, 8, 45, 11]\n",
            "[55, 89, 45, 78, 12, 14]\n",
            "[56, 41, 53, 19]\n"
          ]
        }
      ],
      "source": [
        "sampleList = [11, 45, 8, 23, 14, 12, 78, 45, 89, 55, 19, 53, 41, 56]\n",
        "print('List size is equal to {}'.format(len(sampleList)))\n",
        "n = len(sampleList) // 3\n",
        "print('Part size is equal to {}'.format(n))\n",
        "\n",
        "part_1 = sampleList[0 : n]\n",
        "part_1 = list(reversed(part_1))\n",
        "\n",
        "part_2 = sampleList[n : ( len(sampleList) - n)]\n",
        "part_2 = list(reversed(part_2))\n",
        "\n",
        "part_3 = sampleList[-n :]\n",
        "part_3 = list(reversed(part_3))\n",
        "\n",
        "print(part_1)\n",
        "print(part_2)\n",
        "print(part_3)"
      ]
    }
  ],
  "metadata": {
    "anaconda-cloud": {},
    "colab": {
      "name": "Desafio 10.ipynb",
      "provenance": []
    },
    "kernelspec": {
      "display_name": "Python 3",
      "language": "python",
      "name": "python3"
    },
    "language_info": {
      "codemirror_mode": {
        "name": "ipython",
        "version": 3
      },
      "file_extension": ".py",
      "mimetype": "text/x-python",
      "name": "python",
      "nbconvert_exporter": "python",
      "pygments_lexer": "ipython3",
      "version": "3.7.9"
    }
  },
  "nbformat": 4,
  "nbformat_minor": 0
}