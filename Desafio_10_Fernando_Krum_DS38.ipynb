{
  "cells": [
    {
      "cell_type": "markdown",
      "metadata": {
        "id": "view-in-github",
        "colab_type": "text"
      },
      "source": [
        "<a href=\"https://colab.research.google.com/github/ferkrum/DS-Notebooks-br-python-challenges/blob/master/Desafio_10_Fernando_Krum_DS38.ipynb\" target=\"_parent\"><img src=\"https://colab.research.google.com/assets/colab-badge.svg\" alt=\"Open In Colab\"/></a>"
      ]
    },
    {
      "cell_type": "markdown",
      "metadata": {
        "id": "a4-FLDRof6Jv"
      },
      "source": [
        "### Desafio 10\n",
        "\n",
        "Dada uma lista, divida-a em 3 partes iguais e reverta a ordem de cada lista.\n",
        "\n",
        "**Exemplo:** \n",
        "\n",
        "Entrada: \\\n",
        "sampleList = [11, 45, 8, 23, 14, 12, 78, 45, 89]\n",
        "\n",
        "Saída: \\\n",
        "Parte 1 [8, 45, 11] \\\n",
        "Parte 2 [12, 14, 23] \\\n",
        "Parte 3 [89, 45, 78] "
      ]
    },
    {
      "cell_type": "code",
      "execution_count": null,
      "metadata": {
        "id": "IJ70pUjnf6Jw"
      },
      "outputs": [],
      "source": [
        "# Seu código"
      ]
    },
    {
      "cell_type": "code",
      "execution_count": 44,
      "metadata": {
        "id": "pNrXNVqf8Wc1"
      },
      "outputs": [],
      "source": [
        "sampleList = [11, 45, 8, 23, 14, 12, 78, 45, 89, 99, 100, 101]"
      ]
    },
    {
      "cell_type": "code",
      "source": [
        "lista=[1,2,3]"
      ],
      "metadata": {
        "id": "tG5QTZY_1t6W"
      },
      "execution_count": 43,
      "outputs": []
    },
    {
      "cell_type": "code",
      "source": [
        "len(sampleList)"
      ],
      "metadata": {
        "id": "gEefROR80Slp",
        "outputId": "42592c1f-a978-411a-800f-c1179553ad90",
        "colab": {
          "base_uri": "https://localhost:8080/"
        }
      },
      "execution_count": 3,
      "outputs": [
        {
          "output_type": "execute_result",
          "data": {
            "text/plain": [
              "9"
            ]
          },
          "metadata": {},
          "execution_count": 3
        }
      ]
    },
    {
      "cell_type": "code",
      "source": [
        "def funcaoLista(lista):\n",
        "  tamanho = len(lista)\n",
        "  if (tamanho % 3) == 0:\n",
        "    qElem = int(tamanho / 3)\n",
        "    parte1 = lista[0 : qElem]\n",
        "    parte2 = lista[(qElem) : qElem * 2]\n",
        "    parte3 = lista[(qElem *2) : qElem * 3] \n",
        "    print(parte1)\n",
        "    print(parte2)\n",
        "    print(parte3)\n",
        "  else:\n",
        "    print('A lista não pode ser dividida em 3 partes iguais.')"
      ],
      "metadata": {
        "id": "OJS9-VhB0api"
      },
      "execution_count": 45,
      "outputs": []
    },
    {
      "cell_type": "code",
      "source": [
        "funcaoLista(sampleList)"
      ],
      "metadata": {
        "id": "pqhVh_WA1pFm",
        "outputId": "a959f964-c0f5-4f5d-b299-e8306af14e1c",
        "colab": {
          "base_uri": "https://localhost:8080/"
        }
      },
      "execution_count": 46,
      "outputs": [
        {
          "output_type": "stream",
          "name": "stdout",
          "text": [
            "[11, 45, 8, 23]\n",
            "[14, 12, 78, 45]\n",
            "[89, 99, 100, 101]\n"
          ]
        }
      ]
    }
  ],
  "metadata": {
    "anaconda-cloud": {},
    "colab": {
      "name": "Desafio 10.ipynb",
      "provenance": [],
      "include_colab_link": true
    },
    "kernelspec": {
      "display_name": "Python 3",
      "language": "python",
      "name": "python3"
    },
    "language_info": {
      "codemirror_mode": {
        "name": "ipython",
        "version": 3
      },
      "file_extension": ".py",
      "mimetype": "text/x-python",
      "name": "python",
      "nbconvert_exporter": "python",
      "pygments_lexer": "ipython3",
      "version": "3.7.9"
    }
  },
  "nbformat": 4,
  "nbformat_minor": 0
}