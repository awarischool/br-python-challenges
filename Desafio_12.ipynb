{
  "nbformat": 4,
  "nbformat_minor": 0,
  "metadata": {
    "anaconda-cloud": {},
    "colab": {
      "name": "Desafio 12.ipynb",
      "provenance": [],
      "include_colab_link": true
    },
    "kernelspec": {
      "display_name": "Python 3",
      "language": "python",
      "name": "python3"
    },
    "language_info": {
      "codemirror_mode": {
        "name": "ipython",
        "version": 3
      },
      "file_extension": ".py",
      "mimetype": "text/x-python",
      "name": "python",
      "nbconvert_exporter": "python",
      "pygments_lexer": "ipython3",
      "version": "3.7.9"
    }
  },
  "cells": [
    {
      "cell_type": "markdown",
      "metadata": {
        "id": "view-in-github",
        "colab_type": "text"
      },
      "source": [
        "<a href=\"https://colab.research.google.com/github/BielSousa/br-python-challenges/blob/master/Desafio_12.ipynb\" target=\"_parent\"><img src=\"https://colab.research.google.com/assets/colab-badge.svg\" alt=\"Open In Colab\"/></a>"
      ]
    },
    {
      "cell_type": "markdown",
      "metadata": {
        "id": "AYHY2YXQf6J2"
      },
      "source": [
        "\n",
        "### Desafio 12\n",
        "\n",
        "Escreva uma função em Python para verificar a validade de uma senha.\n",
        "\n",
        "A senha deve ter:\n",
        "\n",
        "* Pelo menos 1 letra entre [a-z] e 1 letra entre [A-Z].\n",
        "* Pelo menos 1 número entre [0-9].\n",
        "* Pelo menos 1 caractere de [$ # @].\n",
        "* Comprimento mínimo de 6 caracteres.\n",
        "* Comprimento máximo de 16 caracteres.\n",
        "\n",
        "Entradas: \"12345678\", \"J3sus0\", \"#Te5t300\", \"J*90j12374\", \"Michheeul\", \"Monk3y6\"\n",
        "\n",
        "A saída deve ser a senha e um texto indicando se a senha é válida ou inválida:\n",
        "\n",
        "```\n",
        "\"1234\" - Senha inválida\n",
        "\"Qw#1234\" - Senha válida\n",
        "```"
      ]
    },
    {
      "cell_type": "code",
      "metadata": {
        "colab": {
          "base_uri": "https://localhost:8080/"
        },
        "id": "UGgtGYGGf6J3",
        "outputId": "b678be7d-518f-4504-f3ff-a5180ec9d6f9"
      },
      "source": [
        "import re\n",
        "\n",
        "def valida_senha(senha):\n",
        "\n",
        "    regex = \"^(?=.*[a-z])(?=.*[A-Z])(?=.*\\d)(?=.*[@$#])[A-Za-z\\d@$#]{6,20}$\"\n",
        "\n",
        "    if re.search(regex, senha):\n",
        "        print(f'{senha} - senha valida')\n",
        "    else:\n",
        "        print(f'{senha} - senha invalida')\n",
        "\n",
        "valida_senha(\"1234\")\n",
        "valida_senha(\"Qw#1234\")\n",
        "valida_senha(\"12345678\") \n",
        "valida_senha(\"J3sus0\")\n",
        "valida_senha(\"#Te5t300\")\n",
        "valida_senha(\"J*90j12374\")\n",
        "valida_senha(\"Michheeul\")\n",
        "valida_senha( \"Monk3y6\")"
      ],
      "execution_count": 13,
      "outputs": [
        {
          "output_type": "stream",
          "text": [
            "1234 - senha invalida\n",
            "Qw#1234 - senha valida\n",
            "12345678 - senha invalida\n",
            "J3sus0 - senha invalida\n",
            "#Te5t300 - senha valida\n",
            "J*90j12374 - senha invalida\n",
            "Michheeul - senha invalida\n",
            "Monk3y6 - senha invalida\n"
          ],
          "name": "stdout"
        }
      ]
    }
  ]
}