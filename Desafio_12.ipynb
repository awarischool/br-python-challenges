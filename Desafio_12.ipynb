{
  "nbformat": 4,
  "nbformat_minor": 0,
  "metadata": {
    "colab": {
      "name": "Desafio_12.ipynb",
      "provenance": [],
      "collapsed_sections": [],
      "authorship_tag": "ABX9TyN5+FrjznV+8rjnXvIrC1eL",
      "include_colab_link": true
    },
    "kernelspec": {
      "name": "python3",
      "display_name": "Python 3"
    },
    "language_info": {
      "name": "python"
    }
  },
  "cells": [
    {
      "cell_type": "markdown",
      "metadata": {
        "id": "view-in-github",
        "colab_type": "text"
      },
      "source": [
        "<a href=\"https://colab.research.google.com/github/matcarvalho/br-python-challenges/blob/master/Desafio_12.ipynb\" target=\"_parent\"><img src=\"https://colab.research.google.com/assets/colab-badge.svg\" alt=\"Open In Colab\"/></a>"
      ]
    },
    {
      "cell_type": "markdown",
      "metadata": {
        "id": "gZ3S40YwMli8"
      },
      "source": [
        "Escreva uma função em Python para verificar a validade de uma senha.\n",
        "\n",
        "A senha deve ter:\n",
        "\n",
        "* Pelo menos 1 letra entre [a-z] e 1 letra entre [A-Z].\n",
        "* Pelo menos 1 número entre [0-9].\n",
        "* Pelo menos 1 caractere de [$ # @].\n",
        "* Comprimento mínimo de 6 caracteres.\n",
        "* Comprimento máximo de 16 caracteres.\n",
        "\n",
        "* Entradas: \"12345678\", \"J3sus0\", \"#Te5t300\", \"J*90j12374\", \"Michheeul\", \"Monk3y6\"\n",
        "\n",
        "A saída deve ser a senha e um texto indicando se a senha é válida ou inválida:\n",
        "\n",
        "* \"1234\" - Senha inválida\n",
        "* \"Qw#1234\" - Senha válida"
      ]
    },
    {
      "cell_type": "code",
      "metadata": {
        "id": "JYqkT85gyC9K"
      },
      "source": [
        "import re\n",
        "\n",
        "def verifica_senha(senha):\n",
        "  regras_regex = [\"[0-9]\", \"[a-z]\", \"[A-Z]\", \"[$#@]\"]\n",
        "  tamanho_max = 16\n",
        "  tamanho_min = 6\n",
        "  erros = []\n",
        "\n",
        "  for validacao in regras_regex:\n",
        "    if len(re.findall(validacao,senha)) == 0:\n",
        "      erros.append(f\"Erro na senha {validacao}\")\n",
        "  if len(senha)<=tamanho_min:\n",
        "    erros.append(f\"A senha contém menos que 6 caracteres. Deve ter de 6 a 16 carcateres\")\n",
        "  if len(senha)>=tamanho_max:\n",
        "    erros.append(f\"A senha contém mais que 16 caracteres. Deve ter de 6 a 16 carcateres\")\n",
        "  if len(erros)>0:\n",
        "    print(erros)\n",
        "    return \"Senha invalida\"\n",
        "  else:\n",
        "    return \"Senha válida\""
      ],
      "execution_count": 12,
      "outputs": []
    },
    {
      "cell_type": "code",
      "metadata": {
        "colab": {
          "base_uri": "https://localhost:8080/",
          "height": 52
        },
        "id": "UcRCpnmMjUyu",
        "outputId": "144116bb-6b0b-4b18-c2b2-2da3c4a4a079"
      },
      "source": [
        "verifica_senha(\"teste123@\")"
      ],
      "execution_count": 16,
      "outputs": [
        {
          "output_type": "stream",
          "text": [
            "['Erro na senha [A-Z]']\n"
          ],
          "name": "stdout"
        },
        {
          "output_type": "execute_result",
          "data": {
            "application/vnd.google.colaboratory.intrinsic+json": {
              "type": "string"
            },
            "text/plain": [
              "'Senha invalida'"
            ]
          },
          "metadata": {
            "tags": []
          },
          "execution_count": 16
        }
      ]
    }
  ]
}