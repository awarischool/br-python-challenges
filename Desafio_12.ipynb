{
  "nbformat": 4,
  "nbformat_minor": 0,
  "metadata": {
    "anaconda-cloud": {},
    "colab": {
      "name": "Cópia de Desafio 12.ipynb",
      "provenance": [],
      "include_colab_link": true
    },
    "kernelspec": {
      "display_name": "Python 3",
      "language": "python",
      "name": "python3"
    },
    "language_info": {
      "codemirror_mode": {
        "name": "ipython",
        "version": 3
      },
      "file_extension": ".py",
      "mimetype": "text/x-python",
      "name": "python",
      "nbconvert_exporter": "python",
      "pygments_lexer": "ipython3",
      "version": "3.7.9"
    }
  },
  "cells": [
    {
      "cell_type": "markdown",
      "metadata": {
        "id": "view-in-github",
        "colab_type": "text"
      },
      "source": [
        "<a href=\"https://colab.research.google.com/github/sergioGMedinaP/br-python-challenges/blob/master/Desafio_12.ipynb\" target=\"_parent\"><img src=\"https://colab.research.google.com/assets/colab-badge.svg\" alt=\"Open In Colab\"/></a>"
      ]
    },
    {
      "cell_type": "markdown",
      "metadata": {
        "id": "AYHY2YXQf6J2"
      },
      "source": [
        "### Desafio 12\n",
        "\n",
        "Escreva uma função em Python para verificar a validade de uma senha.\n",
        "\n",
        "A senha deve ter:\n",
        "\n",
        "* Pelo menos 1 letra entre [a-z] e 1 letra entre [A-Z].\n",
        "* Pelo menos 1 número entre [0-9].\n",
        "* Pelo menos 1 caractere de [$ # @].\n",
        "* Comprimento mínimo de 6 caracteres.\n",
        "* Comprimento máximo de 16 caracteres.\n",
        "\n",
        "Entradas: \"12345678\", \"J3sus0\", \"#Te5t300\", \"J*90j12374\", \"Michheeul\", \"Monk3y6\"\n",
        "\n",
        "A saída deve ser a senha e um texto indicando se a senha é válida ou inválida:\n",
        "\n",
        "```\n",
        "\"1234\" - Senha inválida\n",
        "\"Qw#1234\" - Senha válida\n",
        "```"
      ]
    },
    {
      "cell_type": "code",
      "metadata": {
        "colab": {
          "base_uri": "https://localhost:8080/"
        },
        "id": "UGgtGYGGf6J3",
        "outputId": "a1631148-2838-4fb5-a14e-ff350a4e6a84"
      },
      "source": [
        "# Seu código\n",
        "import re\n",
        "\n",
        "def verificacao_tamanho(senha):\n",
        "  if (len(senha) >= 6) and (len(senha) <= 16):\n",
        "    print (\"Formato valido\")\n",
        "    print(\"Tamanho da senha =\",len(senha))\n",
        "    return 1\n",
        "  else:\n",
        "    print (\"Formato invalido\")\n",
        "    print(\"Tamanho da senha =\", len(senha))\n",
        "    return 0\n",
        "\n",
        "\n",
        "def verificacao_minuscula(senha):\n",
        "  if  (res_minuscula ==[]):\n",
        "    print (\"Senha invalida (minuscula) =\",res_minuscula)\n",
        "    return 0\n",
        "  else:\n",
        "    print (\"Senha valida (minuscula) =\",res_minuscula)\n",
        "    return 1\n",
        "\n",
        "\n",
        "def verificacao_maiuscula(senha):\n",
        "  if  (res_maiuscula ==[]): \n",
        "    print (\"Senha invalida (MAISCULA) =\",res_maiuscula)\n",
        "    return 0\n",
        "  else:\n",
        "    print (\"Senha valida (MAISCULA) =\",res_maiuscula)\n",
        "    return 1\n",
        "\n",
        "\n",
        "def verificacao_car_especiais(senha):\n",
        "  if  (res_car_especiais ==[]): \n",
        "    print (\"Senha invalida (Caracteres especiais) =\",res_car_especiais)\n",
        "    return 0\n",
        "  else:\n",
        "    print (\"Senha valida (Caracteres especiais) =\",res_car_especiais)\n",
        "    return 1\n",
        "\n",
        "def verificacao_numeros(senha):\n",
        "  if  (res_numeros ==[]): \n",
        "    print (\"Senha invalida (Numeros) =\",res_numeros)\n",
        "    return 0\n",
        "  else:\n",
        "    print (\"Senha valida (Numeros) =\",res_numeros)\n",
        "    return 1\n",
        "\n",
        "\n",
        "\n",
        "senha = \"Qw#1234\"\n",
        "#senha = \"1234\" \n",
        "\n",
        "res_minuscula = re.findall(r'[a-z]', senha) \n",
        "#print (\"Letras minusculas =\", res_minuscula)\n",
        "\n",
        "res_maiuscula = re.findall(r'[A-Z]', senha) \n",
        "#print (\"Letras Maiusculas =\",res_maiuscula)\n",
        "\n",
        "res_car_especiais = re.findall(r'[$ # @]', senha) \n",
        "#print (\"Caracteres especiais [$ # @] =\",res_car_especiais)\n",
        "\n",
        "res_numeros = re.findall(r'[0-9]', senha) \n",
        "#print (\"Caracteres especiais [$ # @] =\",res_car_especiais)\n",
        "\n",
        "#print (\"Teste de tamanho = \", verificacao_tamanho(senha))\n",
        "#print (\"Teste de minuscula = \", verificacao_minuscula(senha))\n",
        "#print (\"Teste de MAIUSCULA = \", verificacao_minuscula(senha))\n",
        "#print (\"Teste de caracteres especiais = \", verificacao_car_especiais(senha))\n",
        "\n",
        "\n",
        "if (verificacao_tamanho(senha) ==1) and (verificacao_minuscula(senha))and (verificacao_maiuscula(senha)) and (verificacao_car_especiais(senha)) and (verificacao_numeros(senha)):\n",
        "  print(\"Saida\")\n",
        "  print(\"Parabens!!!A senha é VALIDA\")\n",
        "else:\n",
        "  print(\"Saida\")\n",
        "  print(\"Senha invalida, tente novamente,\")\n",
        "  print(\"Requisitos para uma senha valida\")\n",
        "  print(\"Pelo menos 1 letra entre [a-z]\")\n",
        "  print(\"Pelo menos 1 letra entre [A-Z].\")\n",
        "  print(\"Comprimento mínimo de 6 caracteres.\")\n",
        "  print(\"Comprimento máximo de 16 caracteres.\")\n",
        "  print(\"Pelo menos 1 número entre [0-9].\")\n",
        "  print(\"Pelo menos 1 caractere de [$ # @].\")\n",
        "  \n",
        "\n"
      ],
      "execution_count": 35,
      "outputs": [
        {
          "output_type": "stream",
          "text": [
            "Formato valido\n",
            "Tamanho da senha = 7\n",
            "Senha valida (minuscula) = ['w']\n",
            "Senha valida (MAISCULA) = ['Q']\n",
            "Senha valida (Caracteres especiais) = ['#']\n",
            "Senha valida (Numeros) = ['1', '2', '3', '4']\n",
            "Saida\n",
            "Parabens!!!A senha é VALIDA\n"
          ],
          "name": "stdout"
        }
      ]
    },
    {
      "cell_type": "code",
      "metadata": {
        "id": "PWH2Ru6gt7ZE"
      },
      "source": [
        ""
      ],
      "execution_count": null,
      "outputs": []
    }
  ]
}