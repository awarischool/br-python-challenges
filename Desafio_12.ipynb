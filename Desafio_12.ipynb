{
  "nbformat": 4,
  "nbformat_minor": 0,
  "metadata": {
    "anaconda-cloud": {},
    "kernelspec": {
      "display_name": "Python 3",
      "language": "python",
      "name": "python3"
    },
    "language_info": {
      "codemirror_mode": {
        "name": "ipython",
        "version": 3
      },
      "file_extension": ".py",
      "mimetype": "text/x-python",
      "name": "python",
      "nbconvert_exporter": "python",
      "pygments_lexer": "ipython3",
      "version": "3.7.9-final"
    },
    "colab": {
      "name": "Desafio 12.ipynb",
      "provenance": [],
      "include_colab_link": true
    }
  },
  "cells": [
    {
      "cell_type": "markdown",
      "metadata": {
        "id": "view-in-github",
        "colab_type": "text"
      },
      "source": [
        "<a href=\"https://colab.research.google.com/github/WittmannF/br-data-science/blob/master/python/challenges/Desafio_12.ipynb\" target=\"_parent\"><img src=\"https://colab.research.google.com/assets/colab-badge.svg\" alt=\"Open In Colab\"/></a>"
      ]
    },
    {
      "cell_type": "markdown",
      "metadata": {
        "id": "AYHY2YXQf6J2",
        "colab_type": "text"
      },
      "source": [
        "### Desafio 12\n",
        "\n",
        "Escreva uma função em Python para verificar a validade de uma senha.\n",
        "\n",
        "Validação:\n",
        "\n",
        "* Pelo menos 1 letra entre [a-z] e 1 letra entre [A-Z].\n",
        "* Pelo menos 1 número entre [0-9].\n",
        "* Pelo menos 1 caractere de [$ # @].\n",
        "* Comprimento mínimo de 6 caracteres.\n",
        "* Comprimento máximo de 16 caracteres.\n",
        "\n",
        "Entradas: \"12345678\", \"J3sus0\", \"#Te5t300\", \"J*90j12374\", \"Michheeul\", \"Monk3y6\"\n",
        "\n",
        "A saída deve ser a senha e um texto indicando se a senha é válida ou inválida:\n",
        "\n",
        "```\n",
        "\"1234\" - Senha inválida\n",
        "\"Qw#1234\" - Senha válida\n",
        "```"
      ]
    },
    {
      "cell_type": "code",
      "metadata": {
        "id": "UGgtGYGGf6J3",
        "colab_type": "code",
        "colab": {}
      },
      "source": [
        "def password_check(pwd):\n",
        "    '''Checks for password validity'''\n",
        "    if 6 <= len(pwd) <= 16:\n",
        "        if (at_least_one(is_digit, pwd) and \n",
        "                at_least_one(is_letter, pwd) and \n",
        "                    at_least_one(is_spec_chars, pwd)):\n",
        "            return f'{pwd} - Valid Password.'\n",
        "    else:\n",
        "        return f'{pwd} - Invalid Password.'\n",
        "\n",
        "# helper functions\n",
        "def is_letter(c):\n",
        "    return c.isalpha()\n",
        "\n",
        "def is_digit(n):\n",
        "    return n.isdigit()\n",
        "\n",
        "def is_spec_chars(c):\n",
        "    spec_chars = ['$', '#', '@']\n",
        "    return c in spec_chars\n",
        "\n",
        "def at_least_one(f, lst):\n",
        "    return any(list(map(f, lst)))\n",
        "\n",
        "    "
      ],
      "execution_count": 80,
      "outputs": []
    },
    {
      "cell_type": "code",
      "execution_count": 81,
      "metadata": {},
      "outputs": [
        {
          "output_type": "execute_result",
          "data": {
            "text/plain": [
              "'1234 - Invalid Password.'"
            ]
          },
          "metadata": {},
          "execution_count": 81
        }
      ],
      "source": [
        "password_check('1234')"
      ]
    },
    {
      "cell_type": "code",
      "execution_count": 82,
      "metadata": {},
      "outputs": [
        {
          "output_type": "execute_result",
          "data": {
            "text/plain": [
              "'Qw#1234 - Valid Password.'"
            ]
          },
          "metadata": {},
          "execution_count": 82
        }
      ],
      "source": [
        "password_check('Qw#1234')"
      ]
    },
    {
      "cell_type": "code",
      "execution_count": null,
      "metadata": {},
      "outputs": [],
      "source": []
    }
  ]
}