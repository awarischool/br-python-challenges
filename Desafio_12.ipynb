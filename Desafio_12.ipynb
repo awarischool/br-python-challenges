{
  "cells": [
    {
      "cell_type": "markdown",
      "metadata": {
        "id": "view-in-github",
        "colab_type": "text"
      },
      "source": [
        "<a href=\"https://colab.research.google.com/github/PedroMarcusso09/br-python-challenges/blob/master/Desafio_12.ipynb\" target=\"_parent\"><img src=\"https://colab.research.google.com/assets/colab-badge.svg\" alt=\"Open In Colab\"/></a>"
      ]
    },
    {
      "cell_type": "markdown",
      "metadata": {
        "id": "AYHY2YXQf6J2"
      },
      "source": [
        "### Desafio 12\n",
        "\n",
        "Escreva uma função em Python para verificar a validade de uma senha.\n",
        "\n",
        "A senha deve ter:\n",
        "\n",
        "* Pelo menos 1 letra entre [a-z] e 1 letra entre [A-Z].\n",
        "* Pelo menos 1 número entre [0-9].\n",
        "* Pelo menos 1 caractere de [$ # @].\n",
        "* Comprimento mínimo de 6 caracteres.\n",
        "* Comprimento máximo de 16 caracteres.\n",
        "\n",
        "Entradas: \"12345678\", \"J3sus0\", \"#Te5t300\", \"J*90j12374\", \"Michheeul\", \"Monk3y6\"\n",
        "\n",
        "A saída deve ser a senha e um texto indicando se a senha é válida ou inválida:\n",
        "\n",
        "```\n",
        "\"1234\" - Senha inválida\n",
        "\"Qw#1234\" - Senha válida\n",
        "```"
      ]
    },
    {
      "cell_type": "code",
      "source": [
        "senhas = ['12345678',\n",
        "          'J3sus0',\n",
        "          '#Te5t300',\n",
        "          'J*90j12374',\n",
        "          'Michheeul',\n",
        "          'Monk3y6',\n",
        "          '1234',\n",
        "          'Qw#1234']"
      ],
      "metadata": {
        "id": "rOXi5mbjSi_A"
      },
      "execution_count": 8,
      "outputs": []
    },
    {
      "cell_type": "code",
      "execution_count": 9,
      "metadata": {
        "colab": {
          "base_uri": "https://localhost:8080/"
        },
        "id": "UGgtGYGGf6J3",
        "outputId": "38454963-649c-4fe3-9d5e-d3e169cc7b64"
      },
      "outputs": [
        {
          "output_type": "stream",
          "name": "stdout",
          "text": [
            "\"12345678\" - senha inválida\n",
            "\"J3sus0\" - senha inválida\n",
            "\"#Te5t300\" - senha válida\n",
            "\"J*90j12374\" - senha inválida\n",
            "\"Michheeul\" - senha inválida\n",
            "\"Monk3y6\" - senha inválida\n",
            "\"1234\" - senha inválida\n",
            "\"Qw#1234\" - senha válida\n"
          ]
        }
      ],
      "source": [
        "import re\n",
        "def status_senhas(password):\n",
        "    regex = re.compile(r'^(?=.*[a-z])(?=.*[A-Z])(?=.*[0-9])(?=.*[$#@]).{6,16}$',\n",
        "                       flags=re.M)\n",
        "    resultado = re.findall(regex, password)\n",
        "    if resultado:\n",
        "        print(f'\"{password}\" - senha válida')\n",
        "    else:\n",
        "        print(f'\"{password}\" - senha inválida')\n",
        "\n",
        "\n",
        "for senha in senhas:\n",
        "    status_senhas(senha)"
      ]
    }
  ],
  "metadata": {
    "anaconda-cloud": {},
    "colab": {
      "name": "Desafio 12.ipynb",
      "provenance": [],
      "include_colab_link": true
    },
    "kernelspec": {
      "display_name": "Python 3",
      "language": "python",
      "name": "python3"
    },
    "language_info": {
      "codemirror_mode": {
        "name": "ipython",
        "version": 3
      },
      "file_extension": ".py",
      "mimetype": "text/x-python",
      "name": "python",
      "nbconvert_exporter": "python",
      "pygments_lexer": "ipython3",
      "version": "3.7.9"
    }
  },
  "nbformat": 4,
  "nbformat_minor": 0
}