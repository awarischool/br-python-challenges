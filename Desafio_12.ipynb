{
  "nbformat": 4,
  "nbformat_minor": 0,
  "metadata": {
    "anaconda-cloud": {},
    "kernelspec": {
      "display_name": "Python 3",
      "language": "python",
      "name": "python3"
    },
    "language_info": {
      "codemirror_mode": {
        "name": "ipython",
        "version": 3
      },
      "file_extension": ".py",
      "mimetype": "text/x-python",
      "name": "python",
      "nbconvert_exporter": "python",
      "pygments_lexer": "ipython3",
      "version": "3.6.5"
    },
    "colab": {
      "name": "Desafio 12.ipynb",
      "provenance": [],
      "include_colab_link": true
    }
  },
  "cells": [
    {
      "cell_type": "markdown",
      "metadata": {
        "id": "view-in-github",
        "colab_type": "text"
      },
      "source": [
        "<a href=\"https://colab.research.google.com/github/Frascino/br-python-challenges/blob/master/Desafio_12.ipynb\" target=\"_parent\"><img src=\"https://colab.research.google.com/assets/colab-badge.svg\" alt=\"Open In Colab\"/></a>"
      ]
    },
    {
      "cell_type": "markdown",
      "metadata": {
        "id": "AYHY2YXQf6J2",
        "colab_type": "text"
      },
      "source": [
        "### Desafio 12\n",
        "\n",
        "Escreva uma função em Python para verificar a validade de uma senha.\n",
        "\n",
        "Validação:\n",
        "\n",
        "* Pelo menos 1 letra entre [a-z] e 1 letra entre [A-Z].\n",
        "* Pelo menos 1 número entre [0-9].\n",
        "* Pelo menos 1 caractere de [$ # @].\n",
        "* Comprimento mínimo de 6 caracteres.\n",
        "* Comprimento máximo de 16 caracteres.\n",
        "\n",
        "Entradas: \"12345678\", \"J3sus0\", \"#Te5t300\", \"J*90j12374\", \"Michheeul\", \"Monk3y6\"\n",
        "\n",
        "A saída deve ser a senha e um texto indicando se a senha é válida ou inválida:\n",
        "\n",
        "```\n",
        "\"1234\" - Senha inválida\n",
        "\"Qw#1234\" - Senha válida\n",
        "```"
      ]
    },
    {
      "cell_type": "code",
      "metadata": {
        "id": "UGgtGYGGf6J3",
        "colab_type": "code",
        "colab": {
          "base_uri": "https://localhost:8080/",
          "height": 306
        },
        "outputId": "804544a7-838d-468a-895c-30312025a70d"
      },
      "source": [
        "# Usando caracter do numpy\n",
        "import numpy as np\n",
        "import pandas as pd\n",
        "#senha_input = input('Digite uma senha que contenha entre 6 e 16 caracteres, 1 letra minúscula, 1 maiúscula, 1 número e 1 caracter especial: ')\n",
        "senha_input = [\"12345678\", \"J3sus0\", \"#Te5t300\", \"J*90j12374\", \"Michheeul\", \"Monk3y6\",\"Qw#1234\"]\n",
        "#for caracter in senha:\n",
        "  #print(caracter.isdigit())\n",
        "#any(caracter.isdigit() for caracter in senha) # any:retorna verdadeiro se qquer valor da condição for verdadeiro\n",
        "#not any(caracter.isdigit() for caracter in senha) # not any: retorna falso se qquer valor da condição for verdadeiro\n",
        "def senha_valida(senha):\n",
        "  caracteres_especiais = ['$','#','@']\n",
        "  variavel_dummy = True\n",
        "\n",
        "  if len(senha) < 6:\n",
        "    variavel_dummy = False\n",
        "    print('Senha inválida por ter menos que 6 digitos')\n",
        "  if len(senha) > 16:\n",
        "    variavel_dummy = False\n",
        "    print('Senha inválida por ter mais que 16 digitos')\n",
        "  if not any(caracter.isdigit() for caracter in senha):\n",
        "    variavel_dummy = False\n",
        "    print('Senha inválida por não possuir nenhum número')\n",
        "  if not any(caracter.islower() for caracter in senha):\n",
        "    variavel_dummy = False\n",
        "    print('Senha inválida por não possuir nenhuma letra minúscula')\n",
        "  if not any(caracter.isupper() for caracter in senha):\n",
        "    variavel_dummy = False\n",
        "    print('Senha inválida por não possuir nenhuma letra maiúscula')\n",
        "  if not any(caracter in caracteres_especiais for caracter in senha):\n",
        "    variavel_dummy = False\n",
        "    print('Senha inválida por não possuir um dos seguintes caracteres especiais: $,#,@')\n",
        "  if variavel_dummy == True:\n",
        "    print('Senha Válida')\n",
        "    \n",
        "#senha_valida(senha in senha_input for senha in [6])\n",
        "for r in senha_input:\n",
        "  print(r)\n",
        "  senha_valida(senha = r)"
      ],
      "execution_count": 3,
      "outputs": [
        {
          "output_type": "stream",
          "text": [
            "12345678\n",
            "Senha inválida por não possuir nenhuma letra minúscula\n",
            "Senha inválida por não possuir nenhuma letra maiúscula\n",
            "Senha inválida por não possuir um dos seguintes caracteres especiais: $,#,@\n",
            "J3sus0\n",
            "Senha inválida por não possuir um dos seguintes caracteres especiais: $,#,@\n",
            "#Te5t300\n",
            "Senha Válida\n",
            "J*90j12374\n",
            "Senha inválida por não possuir um dos seguintes caracteres especiais: $,#,@\n",
            "Michheeul\n",
            "Senha inválida por não possuir nenhum número\n",
            "Senha inválida por não possuir um dos seguintes caracteres especiais: $,#,@\n",
            "Monk3y6\n",
            "Senha inválida por não possuir um dos seguintes caracteres especiais: $,#,@\n",
            "Qw#1234\n",
            "Senha Válida\n"
          ],
          "name": "stdout"
        }
      ]
    },
    {
      "cell_type": "code",
      "metadata": {
        "id": "KrL-w8eDp19c",
        "colab_type": "code",
        "colab": {}
      },
      "source": [
        "# Usando string\n",
        "import string\n",
        "def verifica_senha(senha):\n",
        "  import string\n",
        "  especiais = [\"$\",\"#\",\"@\"]\n",
        "  minusculas = list(string.ascii_lowercase)\n",
        "  maiusculas = list(string.ascii_uppercase)\n",
        "  range_list = [str(i) for i in range(10)]\n",
        "  if len(senha) < 6 or len(senha) > 16:\n",
        "    return \"Senha Inválida\"\n",
        "  elif len(set(senha) & set(minusculas)) == 0:\n",
        "    return \"Senha inválida\"\n",
        "  elif len(set(senha) & set(maiusculas)) == 0:\n",
        "    return \"Senha inválida\"\n",
        "  elif len(set(senha) & set(range_list)) == 0:\n",
        "    return \"Senha inválida\"\n",
        "  else: \n",
        "    return\"Senha válida\""
      ],
      "execution_count": 5,
      "outputs": []
    },
    {
      "cell_type": "code",
      "metadata": {
        "id": "n8F01NzD9uHm",
        "colab_type": "code",
        "colab": {
          "base_uri": "https://localhost:8080/",
          "height": 35
        },
        "outputId": "7bd0df76-c7cf-4b7e-cf73-318aa646e613"
      },
      "source": [
        "verifica_senha('sE1#tgh')"
      ],
      "execution_count": 6,
      "outputs": [
        {
          "output_type": "execute_result",
          "data": {
            "application/vnd.google.colaboratory.intrinsic+json": {
              "type": "string"
            },
            "text/plain": [
              "'Senha válida'"
            ]
          },
          "metadata": {
            "tags": []
          },
          "execution_count": 6
        }
      ]
    },
    {
      "cell_type": "code",
      "metadata": {
        "id": "mzPDaQIuqcz5",
        "colab_type": "code",
        "colab": {
          "base_uri": "https://localhost:8080/",
          "height": 35
        },
        "outputId": "9e2c40a9-c55a-48e5-ed30-0e06ee124cb8"
      },
      "source": [
        "verifica_senha('1234')"
      ],
      "execution_count": 8,
      "outputs": [
        {
          "output_type": "execute_result",
          "data": {
            "application/vnd.google.colaboratory.intrinsic+json": {
              "type": "string"
            },
            "text/plain": [
              "'Senha Inválida'"
            ]
          },
          "metadata": {
            "tags": []
          },
          "execution_count": 8
        }
      ]
    }
  ]
}