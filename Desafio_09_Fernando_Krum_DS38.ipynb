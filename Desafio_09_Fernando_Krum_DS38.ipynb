{
  "cells": [
    {
      "cell_type": "markdown",
      "metadata": {
        "id": "view-in-github",
        "colab_type": "text"
      },
      "source": [
        "<a href=\"https://colab.research.google.com/github/ferkrum/DS-Notebooks-br-python-challenges/blob/master/Desafio_09_Fernando_Krum_DS38.ipynb\" target=\"_parent\"><img src=\"https://colab.research.google.com/assets/colab-badge.svg\" alt=\"Open In Colab\"/></a>"
      ]
    },
    {
      "cell_type": "markdown",
      "metadata": {
        "id": "HpvTpUBGf6Jr"
      },
      "source": [
        "### Desafio 9\n",
        "\n",
        "Escreva uma função que retorne a soma dos múltiplos de 3 e 5 entre 0 e um número limite, que vai ser utilizado como parâmetro. \\\n",
        "Por exemplo, se o limite for 20, ele retornará a soma de 3, 5, 6, 9, 10, 12, 15, 18, 20."
      ]
    },
    {
      "cell_type": "code",
      "execution_count": null,
      "metadata": {
        "id": "195C6bw-f6Js"
      },
      "outputs": [],
      "source": [
        "# Seu código"
      ]
    },
    {
      "cell_type": "code",
      "execution_count": 33,
      "metadata": {
        "id": "a_6aqcKp6wrN"
      },
      "outputs": [],
      "source": [
        "def funcao(limite):\n",
        "  multiplos = []\n",
        "  soma = 0\n",
        "  for i in range(limite + 1):\n",
        "    #print(i)\n",
        "    if (i % 3) == 0 or (i % 5) == 0:\n",
        "      multiplos.append(i)\n",
        "      soma = soma + i\n",
        "  print('lista de múltiplos:', multiplos)\n",
        "  print('soma: ',soma)\n"
      ]
    },
    {
      "cell_type": "code",
      "source": [
        "funcao(20)"
      ],
      "metadata": {
        "id": "Pz9ddt2qvekA",
        "outputId": "29752ab0-004f-4de8-b9f5-7f1b4ca0ba82",
        "colab": {
          "base_uri": "https://localhost:8080/"
        }
      },
      "execution_count": 34,
      "outputs": [
        {
          "output_type": "stream",
          "name": "stdout",
          "text": [
            "lista de múltiplos: [0, 3, 5, 6, 9, 10, 12, 15, 18, 20]\n",
            "soma:  98\n"
          ]
        }
      ]
    },
    {
      "cell_type": "code",
      "source": [
        ""
      ],
      "metadata": {
        "id": "oiEj2pniviyN",
        "outputId": "878816c0-1813-46a8-c1d8-1f56007cf566",
        "colab": {
          "base_uri": "https://localhost:8080/"
        }
      },
      "execution_count": 21,
      "outputs": [
        {
          "output_type": "execute_result",
          "data": {
            "text/plain": [
              "0"
            ]
          },
          "metadata": {},
          "execution_count": 21
        }
      ]
    }
  ],
  "metadata": {
    "anaconda-cloud": {},
    "colab": {
      "name": "Desafio 9.ipynb",
      "provenance": [],
      "include_colab_link": true
    },
    "kernelspec": {
      "display_name": "Python 3",
      "language": "python",
      "name": "python3"
    },
    "language_info": {
      "codemirror_mode": {
        "name": "ipython",
        "version": 3
      },
      "file_extension": ".py",
      "mimetype": "text/x-python",
      "name": "python",
      "nbconvert_exporter": "python",
      "pygments_lexer": "ipython3",
      "version": "3.7.9"
    }
  },
  "nbformat": 4,
  "nbformat_minor": 0
}