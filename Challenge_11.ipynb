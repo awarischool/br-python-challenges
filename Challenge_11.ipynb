{
  "cells": [
    {
      "cell_type": "markdown",
      "metadata": {
        "id": "y1R0m4oWf6Jz"
      },
      "source": [
        "### Challenge 11\n",
        "Given a sequence with `n` integers, determine how many numbers in the sequence are even and how many are odd.\\\n",
        "For example, for the sequence\n",
        "\n",
        "`6   2   7  -5   8  -4`\n",
        "\n",
        "your function should return the number 4 for the even number and 2 for the odd number.\\\n",
        "The output should be a **tuple** containing first the even number and then the odd number.\\\n",
        "For the previous example, the output would be `(4, 2)`."
      ]
    },
    {
      "cell_type": "code",
      "execution_count": 1,
      "metadata": {
        "id": "pSIzX4zUf6Jz"
      },
      "outputs": [],
      "source": [
        "# Code\n",
        "\n",
        "def count_even_odd(data):\n",
        "  even = 0\n",
        "  odd = 0\n",
        "  for n in data:\n",
        "    if n % 2 == 0:\n",
        "      even += 1\n",
        "    if n % 2 != 0:\n",
        "      odd += 1\n",
        "  output = (even, odd)\n",
        "  return output"
      ]
    },
    {
      "cell_type": "code",
      "execution_count": 3,
      "metadata": {
        "colab": {
          "base_uri": "https://localhost:8080/"
        },
        "id": "OQG6erslSjri",
        "outputId": "b248adc4-9bc5-41f6-9dcd-0684acacc515"
      },
      "outputs": [
        {
          "output_type": "stream",
          "name": "stdout",
          "text": [
            "Even and odd values count is:\n",
            "(4, 2)\n"
          ]
        }
      ],
      "source": [
        "input = [6, 2, 7, -5, 8, -4]\n",
        "\n",
        "print ('Even and odd values count is:')\n",
        "print (count_even_odd(input))"
      ]
    },
    {
      "cell_type": "code",
      "source": [
        "input = (1, 4, 8, 5, 9, -1, -5)\n",
        "\n",
        "print ('Even and odd values count is:')\n",
        "print (count_even_odd(input))"
      ],
      "metadata": {
        "id": "wpu0HswYLVFU",
        "outputId": "23d996b0-a9d9-467e-f2e0-22c6154f62bd",
        "colab": {
          "base_uri": "https://localhost:8080/"
        }
      },
      "execution_count": 4,
      "outputs": [
        {
          "output_type": "stream",
          "name": "stdout",
          "text": [
            "Even and odd values count is:\n",
            "(2, 5)\n"
          ]
        }
      ]
    }
  ],
  "metadata": {
    "anaconda-cloud": {},
    "colab": {
      "name": "Desafio 11.ipynb",
      "provenance": []
    },
    "kernelspec": {
      "display_name": "Python 3",
      "language": "python",
      "name": "python3"
    },
    "language_info": {
      "codemirror_mode": {
        "name": "ipython",
        "version": 3
      },
      "file_extension": ".py",
      "mimetype": "text/x-python",
      "name": "python",
      "nbconvert_exporter": "python",
      "pygments_lexer": "ipython3",
      "version": "3.7.9"
    }
  },
  "nbformat": 4,
  "nbformat_minor": 0
}