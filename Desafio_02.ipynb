{
 "cells": [
  {
   "cell_type": "markdown",
   "metadata": {},
   "source": [
    "![](https://i.imgur.com/YX6UATs.png)"
   ]
  },
  {
   "cell_type": "markdown",
   "metadata": {
    "colab_type": "text",
    "id": "q1NCks7Af6JN"
   },
   "source": [
    "### Desafio 2\n",
    "\n",
    "Escreva uma função que receba um número inteiro de horas e converta esse número para segundos.\n",
    "\n",
    "Exemplo:\n",
    "\n",
    "convert(5) ➞ 18000\n",
    "\n",
    "convert(3) ➞ 10800\n",
    "\n",
    "convert(2) ➞ 7200"
   ]
  },
  {
   "cell_type": "code",
   "execution_count": 1,
   "metadata": {
    "colab": {},
    "colab_type": "code",
    "id": "sSm6F7sff6JO"
   },
   "outputs": [],
   "source": [
    "def convert_to_sec(number):\n",
    "    \n",
    "    return number*3600"
   ]
  },
  {
   "cell_type": "code",
   "execution_count": 2,
   "metadata": {},
   "outputs": [
    {
     "output_type": "execute_result",
     "data": {
      "text/plain": [
       "18000"
      ]
     },
     "metadata": {},
     "execution_count": 2
    }
   ],
   "source": [
    "convert_to_sec(5)"
   ]
  },
  {
   "cell_type": "code",
   "execution_count": 3,
   "metadata": {},
   "outputs": [
    {
     "output_type": "execute_result",
     "data": {
      "text/plain": [
       "10800"
      ]
     },
     "metadata": {},
     "execution_count": 3
    }
   ],
   "source": [
    "convert_to_sec(3)"
   ]
  },
  {
   "cell_type": "code",
   "execution_count": 4,
   "metadata": {},
   "outputs": [
    {
     "output_type": "execute_result",
     "data": {
      "text/plain": [
       "7200"
      ]
     },
     "metadata": {},
     "execution_count": 4
    }
   ],
   "source": [
    "convert_to_sec(2)"
   ]
  }
 ],
 "metadata": {
  "anaconda-cloud": {},
  "colab": {
   "include_colab_link": true,
   "name": "Desafio 2.ipynb",
   "provenance": []
  },
  "kernelspec": {
   "display_name": "Python 3",
   "language": "python",
   "name": "python3"
  },
  "language_info": {
   "codemirror_mode": {
    "name": "ipython",
    "version": 3
   },
   "file_extension": ".py",
   "mimetype": "text/x-python",
   "name": "python",
   "nbconvert_exporter": "python",
   "pygments_lexer": "ipython3",
   "version": "3.8.5"
  }
 },
 "nbformat": 4,
 "nbformat_minor": 1
}