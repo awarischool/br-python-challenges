{
  "cells": [
    {
      "cell_type": "markdown",
      "metadata": {
        "id": "view-in-github",
        "colab_type": "text"
      },
      "source": [
        "<a href=\"https://colab.research.google.com/github/ferkrum/DS-Notebooks-br-python-challenges/blob/master/Desafio_08_Fernando_Krum_DS38.ipynb\" target=\"_parent\"><img src=\"https://colab.research.google.com/assets/colab-badge.svg\" alt=\"Open In Colab\"/></a>"
      ]
    },
    {
      "cell_type": "markdown",
      "metadata": {
        "id": "o3tkeMDNf6Jo"
      },
      "source": [
        "### Desafio 8\n",
        "\n",
        "Escreva um script Python para encontrar as 10 palavras mais longas em um arquivo de texto.\n",
        "O arquivo .txt está localizado na mesma pasta do projeto (**texto.txt**)."
      ]
    },
    {
      "cell_type": "code",
      "execution_count": 1,
      "metadata": {
        "id": "EknxjSG0f6Jo"
      },
      "outputs": [],
      "source": [
        "# Seu código"
      ]
    },
    {
      "cell_type": "code",
      "source": [
        "#ao inves de fazer upload do arquivo, vamos usálo direto do endereco do github, usando a biblioteca requests\n",
        "url = 'https://raw.githubusercontent.com/ferkrum/DS-Notebooks-br-python-challenges/master/texto.txt'"
      ],
      "metadata": {
        "id": "CMflrIicldpp"
      },
      "execution_count": 64,
      "outputs": []
    },
    {
      "cell_type": "code",
      "source": [
        "import requests"
      ],
      "metadata": {
        "id": "KTByewpcpwJZ"
      },
      "execution_count": 65,
      "outputs": []
    },
    {
      "cell_type": "code",
      "source": [
        "texto = requests.get(url)"
      ],
      "metadata": {
        "id": "l0qdwrlwpxzV"
      },
      "execution_count": 66,
      "outputs": []
    },
    {
      "cell_type": "code",
      "source": [
        "type(texto)"
      ],
      "metadata": {
        "id": "HHpV-KeQrAYJ",
        "outputId": "6ee23fe0-48c2-430f-fa78-59c3abf7fcde",
        "colab": {
          "base_uri": "https://localhost:8080/"
        }
      },
      "execution_count": 67,
      "outputs": [
        {
          "output_type": "execute_result",
          "data": {
            "text/plain": [
              "requests.models.Response"
            ]
          },
          "metadata": {},
          "execution_count": 67
        }
      ]
    },
    {
      "cell_type": "code",
      "source": [
        "listaTexto = texto.content.decode('utf-8').replace('\\n', '').replace(',', '').replace(')', '').replace('(', '').replace('.', '').replace('?', '').replace('\\r', '').strip().split()"
      ],
      "metadata": {
        "id": "Y52H_dQjp3mD"
      },
      "execution_count": 69,
      "outputs": []
    },
    {
      "cell_type": "code",
      "source": [
        "len(listaTexto)"
      ],
      "metadata": {
        "id": "CgwIb012sUrY",
        "outputId": "fbe60d38-83da-4d49-f9d4-48286cd5c692",
        "colab": {
          "base_uri": "https://localhost:8080/"
        }
      },
      "execution_count": 70,
      "outputs": [
        {
          "output_type": "execute_result",
          "data": {
            "text/plain": [
              "99"
            ]
          },
          "metadata": {},
          "execution_count": 70
        }
      ]
    },
    {
      "cell_type": "code",
      "source": [
        "#É possível sortear uma lista usando uma função como argumento de sort (que não seja unicamente a ordem alfabética do elemento).\n",
        "#https://www.w3schools.com/python/ref_list_sort.asp\n",
        "def tamanho(e):\n",
        "  return len(e)\n",
        "\n",
        "listaTexto.sort(reverse=True, key = tamanho)"
      ],
      "metadata": {
        "id": "J1ZJ--EetgKo"
      },
      "execution_count": 76,
      "outputs": []
    },
    {
      "cell_type": "code",
      "source": [
        "listaTexto[:10]"
      ],
      "metadata": {
        "id": "htPYAEuEuVTt",
        "outputId": "bc66c663-36f0-4928-b372-7d95bab9d57c",
        "colab": {
          "base_uri": "https://localhost:8080/"
        }
      },
      "execution_count": 78,
      "outputs": [
        {
          "output_type": "execute_result",
          "data": {
            "text/plain": [
              "['general-purpose',\n",
              " 'object-oriented',\n",
              " 'comprehensive',\n",
              " 'intermediate',\n",
              " 'interpreted',\n",
              " 'programming',\n",
              " 'languageIts',\n",
              " 'readability',\n",
              " 'programmers',\n",
              " 'programming']"
            ]
          },
          "metadata": {},
          "execution_count": 78
        }
      ]
    }
  ],
  "metadata": {
    "anaconda-cloud": {},
    "colab": {
      "name": "Desafio 8.ipynb",
      "provenance": [],
      "include_colab_link": true
    },
    "kernelspec": {
      "display_name": "Python 3",
      "language": "python",
      "name": "python3"
    },
    "language_info": {
      "codemirror_mode": {
        "name": "ipython",
        "version": 3
      },
      "file_extension": ".py",
      "mimetype": "text/x-python",
      "name": "python",
      "nbconvert_exporter": "python",
      "pygments_lexer": "ipython3",
      "version": "3.7.9"
    }
  },
  "nbformat": 4,
  "nbformat_minor": 0
}