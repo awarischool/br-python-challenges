{
  "nbformat": 4,
  "nbformat_minor": 0,
  "metadata": {
    "anaconda-cloud": {},
    "colab": {
      "name": "Desafio 11.ipynb",
      "provenance": [],
      "include_colab_link": true
    },
    "kernelspec": {
      "display_name": "Python 3",
      "language": "python",
      "name": "python3"
    },
    "language_info": {
      "codemirror_mode": {
        "name": "ipython",
        "version": 3
      },
      "file_extension": ".py",
      "mimetype": "text/x-python",
      "name": "python",
      "nbconvert_exporter": "python",
      "pygments_lexer": "ipython3",
      "version": "3.7.9"
    }
  },
  "cells": [
    {
      "cell_type": "markdown",
      "metadata": {
        "id": "view-in-github",
        "colab_type": "text"
      },
      "source": [
        "<a href=\"https://colab.research.google.com/github/BielSousa/br-python-challenges/blob/master/Desafio_11.ipynb\" target=\"_parent\"><img src=\"https://colab.research.google.com/assets/colab-badge.svg\" alt=\"Open In Colab\"/></a>"
      ]
    },
    {
      "cell_type": "markdown",
      "metadata": {
        "id": "y1R0m4oWf6Jz"
      },
      "source": [
        "### Desafio 11\n",
        "Dados uma sequência com `n` números inteiros, determinar quantos números da sequência são pares e quantos são ímpares.\\\n",
        "Por exemplo, para a sequência\n",
        "\n",
        "`6   2   7  -5   8  -4`\n",
        "\n",
        "a sua função deve retornar o número 4 para o número de pares e 2 para o de ímpares.\\\n",
        "A saída deve ser um **tupla** contendo primeiramente o número de pares e em seguida o número de ímpares.\\\n",
        "Para o exemplo anterior, a saída seria `(4, 2)`."
      ]
    },
    {
      "cell_type": "code",
      "metadata": {
        "colab": {
          "base_uri": "https://localhost:8080/"
        },
        "id": "pSIzX4zUf6Jz",
        "outputId": "f41a7431-fb27-467b-a471-f439cca15551"
      },
      "source": [
        "def contar_pares_impares(entrada):\n",
        "    pares = 0\n",
        "    impares = 0\n",
        "    \n",
        "    for e in entrada:\n",
        "        if e%2 == 0:\n",
        "            pares+=1\n",
        "        else:\n",
        "            impares+=1\n",
        "        \n",
        "    return (pares,impares)\n",
        "\n",
        "print(contar_pares_impares([6,2,7,-5,8,-4]))"
      ],
      "execution_count": 3,
      "outputs": [
        {
          "output_type": "stream",
          "text": [
            "(4, 2)\n"
          ],
          "name": "stdout"
        }
      ]
    }
  ]
}