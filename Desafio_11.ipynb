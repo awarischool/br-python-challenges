{
  "nbformat": 4,
  "nbformat_minor": 0,
  "metadata": {
    "colab": {
      "name": "Desafio_11.ipynb",
      "provenance": [],
      "collapsed_sections": [],
      "authorship_tag": "ABX9TyOba2cSixn2P4ZVebTJa13X",
      "include_colab_link": true
    },
    "kernelspec": {
      "name": "python3",
      "display_name": "Python 3"
    },
    "language_info": {
      "name": "python"
    }
  },
  "cells": [
    {
      "cell_type": "markdown",
      "metadata": {
        "id": "view-in-github",
        "colab_type": "text"
      },
      "source": [
        "<a href=\"https://colab.research.google.com/github/matcarvalho/br-python-challenges/blob/master/Desafio_11.ipynb\" target=\"_parent\"><img src=\"https://colab.research.google.com/assets/colab-badge.svg\" alt=\"Open In Colab\"/></a>"
      ]
    },
    {
      "cell_type": "markdown",
      "metadata": {
        "id": "7Hdo34V0IF_0"
      },
      "source": [
        "Dados uma sequência com n números inteiros, determinar quantos números da sequência são pares e quantos são ímpares.\\ Por exemplo, para a sequência\n",
        "\n",
        "6   2   7  -5   8  -4\n",
        "\n",
        "a sua função deve retornar o número 4 para o número de pares e 2 para o de ímpares.\\ A saída deve ser um tupla contendo primeiramente o número de pares e em seguida o número de ímpares.\\ Para o exemplo anterior, a saída seria (4, 2).\n",
        "\n",
        "def contar_pares_impares(entrada):\n",
        "    pass"
      ]
    },
    {
      "cell_type": "code",
      "metadata": {
        "colab": {
          "base_uri": "https://localhost:8080/"
        },
        "id": "K6NcSXK4IBei",
        "outputId": "6aa32750-f5be-47ff-d558-c66c72ad1bf5"
      },
      "source": [
        "#Lista de valores\n",
        "valores = [6,2,7,-5,8,-4]\n",
        "contagem = []\n",
        "def contar_pares_impares(entrada):\n",
        "  for i in valores:\n",
        "#Verificando se o valor é parte ou impar\n",
        "    if i % 2==0:\n",
        "      contagem.append(\"par\")\n",
        "    else:\n",
        "      contagem.append(\"impar\")\n",
        "\n",
        "contar_pares_impares(valores) \n",
        "#criando uma tupla com a quantidade de valores pares e impares\n",
        "tupla = (contagem.count(\"par\"), contagem.count(\"impar\"))\n",
        "print(tupla)"
      ],
      "execution_count": 10,
      "outputs": [
        {
          "output_type": "stream",
          "text": [
            "(4, 2)\n"
          ],
          "name": "stdout"
        }
      ]
    }
  ]
}