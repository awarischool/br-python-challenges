{
  "nbformat": 4,
  "nbformat_minor": 0,
  "metadata": {
    "anaconda-cloud": {},
    "colab": {
      "name": "Cópia de Desafio 11.ipynb",
      "provenance": [],
      "include_colab_link": true
    },
    "kernelspec": {
      "display_name": "Python 3",
      "language": "python",
      "name": "python3"
    },
    "language_info": {
      "codemirror_mode": {
        "name": "ipython",
        "version": 3
      },
      "file_extension": ".py",
      "mimetype": "text/x-python",
      "name": "python",
      "nbconvert_exporter": "python",
      "pygments_lexer": "ipython3",
      "version": "3.7.9"
    }
  },
  "cells": [
    {
      "cell_type": "markdown",
      "metadata": {
        "id": "view-in-github",
        "colab_type": "text"
      },
      "source": [
        "<a href=\"https://colab.research.google.com/github/sergioGMedinaP/br-python-challenges/blob/master/Desafio_11.ipynb\" target=\"_parent\"><img src=\"https://colab.research.google.com/assets/colab-badge.svg\" alt=\"Open In Colab\"/></a>"
      ]
    },
    {
      "cell_type": "markdown",
      "metadata": {
        "id": "y1R0m4oWf6Jz"
      },
      "source": [
        "### Desafio 8\n",
        "Dados uma sequência com `n` números inteiros, determinar quantos números da sequência são pares e quantos são ímpares.\\\n",
        "Por exemplo, para a sequência\n",
        "\n",
        "`6   2   7  -5   8  -4`\n",
        "\n",
        "a sua função deve retornar o número 4 para o número de pares e 2 para o de ímpares.\\\n",
        "A saída deve ser um **tupla** contendo primeiramente o número de pares e em seguida o número de ímpares.\\\n",
        "Para o exemplo anterior, a saída seria `(4, 2)`."
      ]
    },
    {
      "cell_type": "code",
      "metadata": {
        "colab": {
          "base_uri": "https://localhost:8080/"
        },
        "id": "pSIzX4zUf6Jz",
        "outputId": "8e42298f-2ccf-4401-83b4-41085e2fb8d3"
      },
      "source": [
        "# Seu código\n",
        "def contar_pares_impares(entrada):\n",
        "  c_par = 0\n",
        "  c_impar = 0\n",
        "\n",
        "  for n in entrada:\n",
        "    if (n % 2 == 0):\n",
        "      c_par = c_par + 1\n",
        "      #print(\"Valor  de n =\", n)\n",
        "      #print(\"Contador par =\", c_par)\n",
        "    else:\n",
        "      c_impar = c_impar + 1\n",
        "      #print(c_impar)\n",
        "      #print(\"Contador impar =\", c_impar)\n",
        "  \n",
        "  return (c_par, c_impar)\n",
        "\n",
        "\n",
        "entrada = [6, 2, 7, 5, 8, 4]\n",
        "\n",
        "saida = contar_pares_impares(entrada)\n",
        "saida2 = tuple(saida)\n",
        "print(f\"Tipo de estrutura de dados {type(saida2)}\")\n",
        "print(f\"Saida dos dados =  {saida2}\")\n",
        "  \n"
      ],
      "execution_count": 78,
      "outputs": [
        {
          "output_type": "stream",
          "text": [
            "Tipo de estrutura de dados <class 'tuple'>\n",
            "Saida dos dados =  (4, 2)\n"
          ],
          "name": "stdout"
        }
      ]
    },
    {
      "cell_type": "code",
      "metadata": {
        "id": "OQG6erslSjri"
      },
      "source": [
        ""
      ],
      "execution_count": null,
      "outputs": []
    }
  ]
}