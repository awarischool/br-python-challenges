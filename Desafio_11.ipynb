{
  "nbformat": 4,
  "nbformat_minor": 0,
  "metadata": {
    "anaconda-cloud": {},
    "kernelspec": {
      "display_name": "Python 3",
      "language": "python",
      "name": "python3"
    },
    "language_info": {
      "codemirror_mode": {
        "name": "ipython",
        "version": 3
      },
      "file_extension": ".py",
      "mimetype": "text/x-python",
      "name": "python",
      "nbconvert_exporter": "python",
      "pygments_lexer": "ipython3",
      "version": "3.6.5"
    },
    "colab": {
      "name": "Desafio 11.ipynb",
      "provenance": [],
      "include_colab_link": true
    }
  },
  "cells": [
    {
      "cell_type": "markdown",
      "metadata": {
        "id": "view-in-github",
        "colab_type": "text"
      },
      "source": [
        "<a href=\"https://colab.research.google.com/github/Frascino/br-python-challenges/blob/master/Desafio_11.ipynb\" target=\"_parent\"><img src=\"https://colab.research.google.com/assets/colab-badge.svg\" alt=\"Open In Colab\"/></a>"
      ]
    },
    {
      "cell_type": "markdown",
      "metadata": {
        "id": "y1R0m4oWf6Jz",
        "colab_type": "text"
      },
      "source": [
        "### Desafio 8\n",
        "Dados uma sequência com `n` números inteiros, determinar quantos números da sequência são pares e quantos são ímpares. Por exemplo, para a sequência\n",
        "\n",
        "`6   2   7  -5   8  -4`\n",
        "\n",
        "a sua função deve retornar o número 4 para o número de pares e 2 para o de ímpares. A saída deve ser um tupla contendo primeiramente o número de pares e em seguida o número de ímpares. Para o exemplo anterior, a saída seria `(4, 2)`."
      ]
    },
    {
      "cell_type": "code",
      "metadata": {
        "id": "pSIzX4zUf6Jz",
        "colab_type": "code",
        "colab": {}
      },
      "source": [
        "# Usando tupla\n",
        "def par_e_impar(lista_numeros):\n",
        "  pares = 0\n",
        "  impares = 0\n",
        "  for num in lista_numeros:\n",
        "    if num % 2 == 0:\n",
        "      pares = pares+1\n",
        "    else:\n",
        "      impares= impares+1\n",
        "  return tuple((pares,impares))"
      ],
      "execution_count": 1,
      "outputs": []
    },
    {
      "cell_type": "code",
      "metadata": {
        "id": "OQG6erslSjri",
        "colab_type": "code",
        "colab": {
          "base_uri": "https://localhost:8080/",
          "height": 34
        },
        "outputId": "50d84ca4-1c83-42eb-d6f7-39533231ac6a"
      },
      "source": [
        "sequencia = [6, 2, 7, -5, 8, -4]\n",
        "par_e_impar(sequencia)"
      ],
      "execution_count": 3,
      "outputs": [
        {
          "output_type": "execute_result",
          "data": {
            "text/plain": [
              "(4, 2)"
            ]
          },
          "metadata": {
            "tags": []
          },
          "execution_count": 3
        }
      ]
    },
    {
      "cell_type": "code",
      "metadata": {
        "id": "BSuBza0GSjyM",
        "colab_type": "code",
        "colab": {
          "base_uri": "https://localhost:8080/",
          "height": 34
        },
        "outputId": "a73e401d-7469-4c6d-fd61-4d480ddf0c54"
      },
      "source": [
        "# Usando base de dados grande via random\n",
        "#par_impar = [6, 2, 7, -5, 8, -4]\n",
        "import numpy as np\n",
        "import pandas as pd\n",
        "par_impar = np.random.randint(0,4000,1000)\n",
        "count_par = 0\n",
        "count_impar = 0\n",
        "for i in par_impar:\n",
        "  if i % 2 == 0:\n",
        "    count_par = count_par +1\n",
        "    #print('par')\n",
        "  else:\n",
        "    count_impar = count_impar + 1\n",
        "    #print('impar')\n",
        "resultado = (count_par, count_impar)\n",
        "print(resultado)"
      ],
      "execution_count": 5,
      "outputs": [
        {
          "output_type": "stream",
          "text": [
            "(518, 482)\n"
          ],
          "name": "stdout"
        }
      ]
    }
  ]
}