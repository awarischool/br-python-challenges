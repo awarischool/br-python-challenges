{
 "cells": [
  {
   "cell_type": "markdown",
   "metadata": {
    "colab_type": "text",
    "id": "view-in-github"
   },
   "source": [
    "<a href=\"https://colab.research.google.com/github/WittmannF/br-data-science/blob/master/python/challenges/Desafio_10.ipynb\" target=\"_parent\"><img src=\"https://colab.research.google.com/assets/colab-badge.svg\" alt=\"Open In Colab\"/></a>"
   ]
  },
  {
   "cell_type": "markdown",
   "metadata": {
    "colab_type": "text",
    "id": "a4-FLDRof6Jv"
   },
   "source": [
    "### Desafio 10\n",
    "\n",
    "Dada uma lista, divida-a em 3 partes iguais e reverta cada lista.\n",
    "\n",
    "Exemplo: \n",
    "\n",
    "sampleList = [11, 45, 8, 23, 14, 12, 78, 45, 89]\n",
    "\n",
    "Parte 1 [8, 45, 11]\n",
    "\n",
    "Parte 2 [12, 14, 23]\n",
    "\n",
    "Parte 3 [89, 45, 78]"
   ]
  },
  {
   "cell_type": "code",
   "execution_count": 93,
   "metadata": {
    "colab": {},
    "colab_type": "code",
    "id": "IJ70pUjnf6Jw"
   },
   "outputs": [
    {
     "name": "stdout",
     "output_type": "stream",
     "text": [
      "[8, 45, 11] [12, 14, 23] [89, 45, 78]\n"
     ]
    }
   ],
   "source": [
    "# Seu código\n",
    "sampleList = [11, 45, 8, 23, 14, 12, 78, 45, 89]\n",
    "list1 = []\n",
    "list2 = []\n",
    "list3 = []\n",
    "for x in sampleList:\n",
    "    if len(list1)<3:\n",
    "        list1.insert(0, x)\n",
    "    elif len(list2)<3:\n",
    "        list2.insert(0, x)\n",
    "    else:\n",
    "        list3.insert(0, x)\n",
    "print(list1, list2, list3)\n",
    "\n",
    "'''\n",
    "Como o enunciado pede que os valores sejam revertidos, no argumento de posição do insert, utilizei inicialmente -1,\n",
    "para que a inserção fosse feita de trás para frente. Porém usando a posição 0, as listas ficaram com a ordem correta. \n",
    "Por que isso ocorreu?\n",
    "'''\n"
   ]
  },
  {
   "cell_type": "code",
   "execution_count": null,
   "metadata": {},
   "outputs": [],
   "source": []
  }
 ],
 "metadata": {
  "anaconda-cloud": {},
  "colab": {
   "include_colab_link": true,
   "name": "Desafio 10.ipynb",
   "provenance": []
  },
  "kernelspec": {
   "display_name": "Python 3",
   "language": "python",
   "name": "python3"
  },
  "language_info": {
   "codemirror_mode": {
    "name": "ipython",
    "version": 3
   },
   "file_extension": ".py",
   "mimetype": "text/x-python",
   "name": "python",
   "nbconvert_exporter": "python",
   "pygments_lexer": "ipython3",
   "version": "3.7.1"
  }
 },
 "nbformat": 4,
 "nbformat_minor": 1
}
