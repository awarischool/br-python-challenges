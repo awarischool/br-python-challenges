{
 "cells": [
  {
   "cell_type": "markdown",
   "metadata": {
    "colab_type": "text",
    "id": "view-in-github"
   },
   "source": [
    "![](https://i.imgur.com/YX6UATs.png)"
   ]
  },
  {
   "cell_type": "markdown",
   "metadata": {
    "colab_type": "text",
    "id": "a4-FLDRof6Jv"
   },
   "source": [
    "### Desafio 10\n",
    "\n",
    "Dada uma lista, divida-a em 3 partes iguais e reverta a ordem de cada lista.\n",
    "\n",
    "**Exemplo:** \n",
    "\n",
    "Entrada: \\\n",
    "sampleList = [11, 45, 8, 23, 14, 12, 78, 45, 89]\n",
    "\n",
    "Saída: \\\n",
    "Parte 1 [8, 45, 11] \\\n",
    "Parte 2 [12, 14, 23] \\\n",
    "Parte 3 [89, 45, 78] "
   ]
  },
  {
   "cell_type": "code",
   "execution_count": 1,
   "metadata": {
    "colab": {},
    "colab_type": "code",
    "id": "IJ70pUjnf6Jw"
   },
   "outputs": [],
   "source": [
    "# Seu código\n",
    "def retorna_lista(lista):\n",
    "    tamanho_da_lista = len(lista)\n",
    "    if tamanho_da_lista%3 == 0:\n",
    "        tamanho_listinha = int(tamanho_da_lista/3)\n",
    "        for i in range(0,3):\n",
    "            listinha = lista[tamanho_listinha*i:tamanho_listinha*(i+1)][::-1]\n",
    "            print(f\"Parte {i+1}: {listinha}\")\n",
    "        return None\n",
    "    else: \n",
    "        return print(\"Nao divisivel por 3\")"
   ]
  },
  {
   "cell_type": "code",
   "execution_count": 2,
   "metadata": {
    "colab": {},
    "colab_type": "code",
    "id": "pNrXNVqf8Wc1"
   },
   "outputs": [
    {
     "name": "stdout",
     "output_type": "stream",
     "text": [
      "Parte 1: [8, 45, 11]\n",
      "Parte 2: [12, 14, 23]\n",
      "Parte 3: [89, 45, 78]\n"
     ]
    }
   ],
   "source": [
    "retorna_lista([11, 45, 8, 23, 14, 12, 78, 45, 89])"
   ]
  },
  {
   "cell_type": "code",
   "execution_count": 3,
   "metadata": {},
   "outputs": [
    {
     "data": {
      "text/plain": [
       "[1, 2]"
      ]
     },
     "execution_count": 3,
     "metadata": {},
     "output_type": "execute_result"
    }
   ],
   "source": [
    "[1, 2, 3, 4, 5][0:2]"
   ]
  },
  {
   "cell_type": "code",
   "execution_count": null,
   "metadata": {},
   "outputs": [],
   "source": []
  },
  {
   "cell_type": "code",
   "execution_count": null,
   "metadata": {},
   "outputs": [],
   "source": []
  }
 ],
 "metadata": {
  "anaconda-cloud": {},
  "colab": {
   "include_colab_link": true,
   "name": "Desafio 10.ipynb",
   "provenance": []
  },
  "kernelspec": {
   "display_name": "Python 3",
   "language": "python",
   "name": "python3"
  },
  "language_info": {
   "codemirror_mode": {
    "name": "ipython",
    "version": 3
   },
   "file_extension": ".py",
   "mimetype": "text/x-python",
   "name": "python",
   "nbconvert_exporter": "python",
   "pygments_lexer": "ipython3",
   "version": "3.8.5"
  }
 },
 "nbformat": 4,
 "nbformat_minor": 1
}
