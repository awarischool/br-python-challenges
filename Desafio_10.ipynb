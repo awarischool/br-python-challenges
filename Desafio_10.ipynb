{
  "nbformat": 4,
  "nbformat_minor": 0,
  "metadata": {
    "anaconda-cloud": {},
    "kernelspec": {
      "display_name": "Python 3",
      "language": "python",
      "name": "python3"
    },
    "language_info": {
      "codemirror_mode": {
        "name": "ipython",
        "version": 3
      },
      "file_extension": ".py",
      "mimetype": "text/x-python",
      "name": "python",
      "nbconvert_exporter": "python",
      "pygments_lexer": "ipython3",
      "version": "3.6.5"
    },
    "colab": {
      "name": "Desafio 10.ipynb",
      "provenance": [],
      "include_colab_link": true
    }
  },
  "cells": [
    {
      "cell_type": "markdown",
      "metadata": {
        "id": "view-in-github",
        "colab_type": "text"
      },
      "source": [
        "<a href=\"https://colab.research.google.com/github/Frascino/br-python-challenges/blob/master/Desafio_10.ipynb\" target=\"_parent\"><img src=\"https://colab.research.google.com/assets/colab-badge.svg\" alt=\"Open In Colab\"/></a>"
      ]
    },
    {
      "cell_type": "markdown",
      "metadata": {
        "id": "a4-FLDRof6Jv",
        "colab_type": "text"
      },
      "source": [
        "### Desafio 10\n",
        "\n",
        "Dada uma lista, divida-a em 3 partes iguais e reverta cada lista.\n",
        "\n",
        "Exemplo: \n",
        "\n",
        "sampleList = [11, 45, 8, 23, 14, 12, 78, 45, 89]\n",
        "\n",
        "Parte 1 [8, 45, 11]\n",
        "\n",
        "Parte 2 [12, 14, 23]\n",
        "\n",
        "Parte 3 [89, 45, 78]"
      ]
    },
    {
      "cell_type": "code",
      "metadata": {
        "id": "IJ70pUjnf6Jw",
        "colab_type": "code",
        "colab": {
          "base_uri": "https://localhost:8080/",
          "height": 34
        },
        "outputId": "cedac1ff-f04f-4d7c-b795-187aedd53e0d"
      },
      "source": [
        "# Usando len e reverse\n",
        "import numpy as np\n",
        "import pandas as pd\n",
        "sampleList = [11, 45, 8, 23, 14, 12, 78, 45, 89]\n",
        "#sampleList = [11, 45, 8, 23, 14, 12, 78, 45, 89,100,101,102]\n",
        "quant = len(sampleList)\n",
        "if (quant%3 ==0):\n",
        "  tamanho_particao = int(quant/3)\n",
        "  lista_um=sampleList[0:tamanho_particao]\n",
        "  lista_dois=sampleList[tamanho_particao:tamanho_particao*2]\n",
        "  lista_tres=sampleList[tamanho_particao*2:]\n",
        "  lista_um.reverse()\n",
        "  lista_dois.reverse()\n",
        "  lista_tres.reverse()\n",
        "  #inverter + else\n",
        "  print((lista_um),(lista_dois),(lista_tres))\n",
        "else:\n",
        "  print('A lista não é múltipla de 3')"
      ],
      "execution_count": 2,
      "outputs": [
        {
          "output_type": "stream",
          "text": [
            "[8, 45, 11] [12, 14, 23] [89, 45, 78]\n"
          ],
          "name": "stdout"
        }
      ]
    },
    {
      "cell_type": "code",
      "metadata": {
        "id": "4A1XiSy3lXTH",
        "colab_type": "code",
        "colab": {}
      },
      "source": [
        "# usando len\n",
        "def quebra_inverte(lista):\n",
        "  terco_1 = int(len(lista)/3)\n",
        "  terco_2 = terco_1*2\n",
        "  parada_1 = lista[0:terco_1]\n",
        "  parada_2 = lista[terco_1:terco_2]\n",
        "  parada_3 = lista[terco_2:]\n",
        "  return parada_1[::-1],parada_2[::-1],parada_3[::-1],"
      ],
      "execution_count": 5,
      "outputs": []
    },
    {
      "cell_type": "code",
      "metadata": {
        "id": "pNrXNVqf8Wc1",
        "colab_type": "code",
        "colab": {
          "base_uri": "https://localhost:8080/",
          "height": 34
        },
        "outputId": "f91f91c5-62a4-437c-f3e5-260ccc6c4490"
      },
      "source": [
        "quebra_inverte(sampleList)"
      ],
      "execution_count": 4,
      "outputs": [
        {
          "output_type": "execute_result",
          "data": {
            "text/plain": [
              "([8, 45, 11], [12, 14, 23], [89, 45, 78])"
            ]
          },
          "metadata": {
            "tags": []
          },
          "execution_count": 4
        }
      ]
    }
  ]
}