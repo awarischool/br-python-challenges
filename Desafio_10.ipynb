{
 "cells": [
  {
   "cell_type": "markdown",
   "metadata": {
    "colab_type": "text",
    "id": "view-in-github"
   },
   "source": [
    "<a href=\"https://colab.research.google.com/github/WittmannF/br-data-science/blob/master/python/challenges/Desafio_10.ipynb\" target=\"_parent\"><img src=\"https://colab.research.google.com/assets/colab-badge.svg\" alt=\"Open In Colab\"/></a>"
   ]
  },
  {
   "cell_type": "markdown",
   "metadata": {
    "colab_type": "text",
    "id": "a4-FLDRof6Jv"
   },
   "source": [
    "### Desafio 10\n",
    "\n",
    "Dada uma lista, divida-a em 3 partes iguais e reverta cada lista.\n",
    "\n",
    "Exemplo: \n",
    "\n",
    "sampleList = [11, 45, 8, 23, 14, 12, 78, 45, 89]\n",
    "\n",
    "Parte 1 [8, 45, 11]\n",
    "\n",
    "Parte 2 [12, 14, 23]\n",
    "\n",
    "Parte 3 [89, 45, 78]"
   ]
  },
  {
   "cell_type": "code",
   "execution_count": 98,
   "metadata": {
    "colab": {},
    "colab_type": "code",
    "id": "IJ70pUjnf6Jw"
   },
   "outputs": [],
   "source": [
    "sampleList = [11, 45, 8, 23, 14, 12, 78, 45, 89, 34, 56, 90]"
   ]
  },
  {
   "cell_type": "code",
   "execution_count": 99,
   "metadata": {},
   "outputs": [],
   "source": [
    "def div_reverse(lista):\n",
    "    if len(lista)%3 == 0:\n",
    "        lista_1 = []\n",
    "        lista_2 = []\n",
    "        lista_3 = []\n",
    "        cont_1 = int(len(lista)/3)\n",
    "        cont_2 = 2*cont_1\n",
    "        cont_3 = cont_2 + cont_1\n",
    "        for numero in range(0, cont_1):\n",
    "            lista_1.append(lista[numero])\n",
    "        for numero in range(cont_1, cont_2):\n",
    "            lista_2.append(lista[numero])\n",
    "        for numero in range(cont_2, cont_3):\n",
    "            lista_3.append(lista[numero])\n",
    "        lista_1.reverse()\n",
    "        lista_2.reverse()\n",
    "        lista_3.reverse()\n",
    "                \n",
    "        print(f'O primeiro conjunto invertido: {lista_1}')\n",
    "        print(f'O segundo conjunto invertido: {lista_2}')\n",
    "        print(f'O terceiro conjunto invertido: {lista_3}')\n",
    "    else:\n",
    "        print('Não tem como dividir a lista em 3 blocos iguais')"
   ]
  },
  {
   "cell_type": "code",
   "execution_count": 100,
   "metadata": {
    "colab": {},
    "colab_type": "code",
    "id": "pNrXNVqf8Wc1"
   },
   "outputs": [
    {
     "name": "stdout",
     "output_type": "stream",
     "text": [
      "O primeiro conjunto invertido: [23, 8, 45, 11]\n",
      "O segundo conjunto invertido: [45, 78, 12, 14]\n",
      "O terceiro conjunto invertido: [90, 56, 34, 89]\n"
     ]
    }
   ],
   "source": [
    "div_reverse(sampleList)"
   ]
  }
 ],
 "metadata": {
  "anaconda-cloud": {},
  "colab": {
   "include_colab_link": true,
   "name": "Desafio 10.ipynb",
   "provenance": []
  },
  "kernelspec": {
   "display_name": "Python 3",
   "language": "python",
   "name": "python3"
  },
  "language_info": {
   "codemirror_mode": {
    "name": "ipython",
    "version": 3
   },
   "file_extension": ".py",
   "mimetype": "text/x-python",
   "name": "python",
   "nbconvert_exporter": "python",
   "pygments_lexer": "ipython3",
   "version": "3.7.6"
  }
 },
 "nbformat": 4,
 "nbformat_minor": 1
}
