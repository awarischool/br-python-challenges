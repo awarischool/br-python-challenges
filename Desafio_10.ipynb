{
  "nbformat": 4,
  "nbformat_minor": 0,
  "metadata": {
    "colab": {
      "name": "Desafio_10.ipynb",
      "provenance": [],
      "collapsed_sections": [],
      "authorship_tag": "ABX9TyN/VxX3vX37Fphq4s0/I3Ia",
      "include_colab_link": true
    },
    "kernelspec": {
      "name": "python3",
      "display_name": "Python 3"
    },
    "language_info": {
      "name": "python"
    }
  },
  "cells": [
    {
      "cell_type": "markdown",
      "metadata": {
        "id": "view-in-github",
        "colab_type": "text"
      },
      "source": [
        "<a href=\"https://colab.research.google.com/github/matcarvalho/br-python-challenges/blob/master/Desafio_10.ipynb\" target=\"_parent\"><img src=\"https://colab.research.google.com/assets/colab-badge.svg\" alt=\"Open In Colab\"/></a>"
      ]
    },
    {
      "cell_type": "markdown",
      "metadata": {
        "id": "NX3x0OcS0rPv"
      },
      "source": [
        "Dada uma lista, divida-a em 3 partes iguais e reverta a ordem de cada lista.\n",
        "\n",
        "Exemplo:\n",
        "\n",
        "Entrada: \\ sampleList = [11, 45, 8, 23, 14, 12, 78, 45, 89]\n",
        "\n",
        "Saída: \\ Parte 1 [8, 45, 11] \\ Parte 2 [12, 14, 23] \\ Parte 3 [89, 45, 78]"
      ]
    },
    {
      "cell_type": "code",
      "metadata": {
        "id": "RnuokNPz0qj1"
      },
      "source": [
        "#lista\n",
        "sampleList = [11, 45, 8, 23, 14, 12, 78, 45, 89]"
      ],
      "execution_count": 11,
      "outputs": []
    },
    {
      "cell_type": "code",
      "metadata": {
        "colab": {
          "base_uri": "https://localhost:8080/"
        },
        "id": "u8x_ORVC1-wO",
        "outputId": "3f3b7766-d97e-44e2-d447-0722b5911d83"
      },
      "source": [
        "partes = 3 #número de partes da lista\n",
        "newList = [] #Criando a nova lista\n",
        "\n",
        "#Range vai permitir que o for execute de 0 a 9 a cada 3 passos, ou seja, criará 3 listas. \n",
        "for i in range(0, len(sampleList), partes):\n",
        "# Na primeira interação adiciono os elementos de 0:3 de forma inversa\n",
        "  newList.append(sampleList[i:i+partes][::-1])\n",
        "\n",
        "newList\n",
        "\n"
      ],
      "execution_count": 79,
      "outputs": [
        {
          "output_type": "execute_result",
          "data": {
            "text/plain": [
              "[[8, 45, 11], [12, 14, 23], [89, 45, 78]]"
            ]
          },
          "metadata": {
            "tags": []
          },
          "execution_count": 79
        }
      ]
    }
  ]
}