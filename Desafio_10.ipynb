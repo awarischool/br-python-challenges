{
  "nbformat": 4,
  "nbformat_minor": 0,
  "metadata": {
    "anaconda-cloud": {},
    "colab": {
      "name": "Cópia de Desafio 10.ipynb",
      "provenance": [],
      "include_colab_link": true
    },
    "kernelspec": {
      "display_name": "Python 3",
      "language": "python",
      "name": "python3"
    },
    "language_info": {
      "codemirror_mode": {
        "name": "ipython",
        "version": 3
      },
      "file_extension": ".py",
      "mimetype": "text/x-python",
      "name": "python",
      "nbconvert_exporter": "python",
      "pygments_lexer": "ipython3",
      "version": "3.7.9"
    }
  },
  "cells": [
    {
      "cell_type": "markdown",
      "metadata": {
        "id": "view-in-github",
        "colab_type": "text"
      },
      "source": [
        "<a href=\"https://colab.research.google.com/github/sergioGMedinaP/br-python-challenges/blob/master/Desafio_10.ipynb\" target=\"_parent\"><img src=\"https://colab.research.google.com/assets/colab-badge.svg\" alt=\"Open In Colab\"/></a>"
      ]
    },
    {
      "cell_type": "markdown",
      "metadata": {
        "id": "a4-FLDRof6Jv"
      },
      "source": [
        "### Desafio 10\n",
        "\n",
        "Dada uma lista, divida-a em 3 partes iguais e reverta a ordem de cada lista.\n",
        "\n",
        "**Exemplo:** \n",
        "\n",
        "Entrada: \\\n",
        "sampleList = [11, 45, 8, 23, 14, 12, 78, 45, 89]\n",
        "\n",
        "Saída: \\\n",
        "Parte 1 [8, 45, 11] \\\n",
        "Parte 2 [12, 14, 23] \\\n",
        "Parte 3 [89, 45, 78] "
      ]
    },
    {
      "cell_type": "code",
      "metadata": {
        "id": "IJ70pUjnf6Jw"
      },
      "source": [
        "# Seu código"
      ],
      "execution_count": null,
      "outputs": []
    },
    {
      "cell_type": "code",
      "metadata": {
        "colab": {
          "base_uri": "https://localhost:8080/"
        },
        "id": "pNrXNVqf8Wc1",
        "outputId": "86a18118-1e89-4521-eb3c-395b7a09ff46"
      },
      "source": [
        "sampleList = [11, 45, 8, 23, 14, 12, 78, 45, 89]\n",
        "n= len(sampleList)\n",
        "print(\"Tamanho da lista = \", len(sampleList))\n",
        "\n",
        "lista1 = sampleList[0: int(n/3)]\n",
        "lista2 = sampleList[int(n/3+1) : int (n/3 +3)]\n",
        "lista3 = sampleList[int (n/3 +3): n]\n",
        "\n",
        "print(\"Lista 1 normal =\", lista1)\n",
        "lista1.reverse()\n",
        "print(\"Lista 1 invertida =\", lista1)\n",
        "print(\"Lista 2 normal =\", lista2)\n",
        "lista2.reverse()\n",
        "print(\"Lista 2 invertida =\", lista2)\n",
        "print(\"Lista 3 normal =\", lista3)\n",
        "lista3.reverse()\n",
        "print(\"Lista 3 invertida =\", lista3)\n",
        "\n"
      ],
      "execution_count": null,
      "outputs": [
        {
          "output_type": "stream",
          "text": [
            "Tamanho da lista =  9\n",
            "Lista 1 normal = [11, 45, 8]\n",
            "Lista 1 invertida = [8, 45, 11]\n",
            "Lista 2 normal = [14, 12]\n",
            "Lista 2 invertida = [12, 14]\n",
            "Lista 3 normal = [78, 45, 89]\n",
            "Lista 3 invertida = [89, 45, 78]\n"
          ],
          "name": "stdout"
        }
      ]
    },
    {
      "cell_type": "code",
      "metadata": {
        "id": "1aiWo9kx9QSd"
      },
      "source": [
        ""
      ],
      "execution_count": null,
      "outputs": []
    }
  ]
}