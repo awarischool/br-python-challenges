{
  "cells": [
    {
      "cell_type": "markdown",
      "metadata": {
        "id": "gQbaWOWcW1g_"
      },
      "source": [
        "# Challenge 5\n",
        "\n",
        "You work in a shoe store and must contact a series of customers. Your phone numbers are listed below. However, it is possible to notice duplicate numbers in the given list. Would you be able to remove these duplicates to prevent customers from being contacted more than once?"
      ]
    },
    {
      "cell_type": "code",
      "execution_count": 5,
      "metadata": {
        "id": "T68FjcUmWear"
      },
      "outputs": [],
      "source": [
        "phone_numbers = [\n",
        "'(765) 368-1506',\n",
        "'(285) 608-2448',\n",
        "'(255) 826-9050',\n",
        "'(554) 994-1517',\n",
        "'(285) 608-2448',\n",
        "'(596) 336-5508',\n",
        "'(511) 821-7870',\n",
        "'(410) 665-4447',\n",
        "'(821) 642-8987',\n",
        "'(285) 608-2448',\n",
        "'(311) 799-3883',\n",
        "'(935) 875-2054',\n",
        "'(464) 788-2397',\n",
        "'(765) 368-1506',\n",
        "'(650) 684-1437',\n",
        "'(812) 816-0881',\n",
        "'(285) 608-2448',\n",
        "'(885) 407-1719',\n",
        "'(943) 769-1061',\n",
        "'(596) 336-5508',\n",
        "'(765) 368-1506',\n",
        "'(255) 826-9050',\n",
        "]"
      ]
    },
    {
      "cell_type": "code",
      "execution_count": 6,
      "metadata": {
        "colab": {
          "base_uri": "https://localhost:8080/"
        },
        "id": "F8n1sN-4XrW3",
        "outputId": "cdf886db-ec17-4ab5-de2b-74b3c97787a6"
      },
      "outputs": [
        {
          "output_type": "stream",
          "name": "stdout",
          "text": [
            "There are 22 numbers on the list.\n",
            "There are 15 non-duplicate numbers on the list.\n",
            "['(285) 608-2448', '(511) 821-7870', '(935) 875-2054', '(255) 826-9050', '(464) 788-2397', '(885) 407-1719', '(812) 816-0881', '(596) 336-5508', '(943) 769-1061', '(311) 799-3883', '(765) 368-1506', '(554) 994-1517', '(410) 665-4447', '(821) 642-8987', '(650) 684-1437']\n"
          ]
        }
      ],
      "source": [
        "#Code\n",
        "\n",
        "print('There are {} numbers on the list.'.format(len(phone_numbers)))\n",
        "\n",
        "phone_numbers = set(phone_numbers)\n",
        "\n",
        "phone_numbers = list(phone_numbers)\n",
        "\n",
        "print('There are {} non-duplicate numbers on the list.'.format(len(phone_numbers)))\n",
        "\n",
        "print(phone_numbers)"
      ]
    }
  ],
  "metadata": {
    "colab": {
      "name": "Desafio 5.ipynb",
      "provenance": []
    },
    "kernelspec": {
      "display_name": "Python 3",
      "language": "python",
      "name": "python3"
    },
    "language_info": {
      "codemirror_mode": {
        "name": "ipython",
        "version": 3
      },
      "file_extension": ".py",
      "mimetype": "text/x-python",
      "name": "python",
      "nbconvert_exporter": "python",
      "pygments_lexer": "ipython3",
      "version": "3.7.9"
    }
  },
  "nbformat": 4,
  "nbformat_minor": 0
}