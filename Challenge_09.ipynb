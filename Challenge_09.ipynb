{
  "cells": [
    {
      "cell_type": "markdown",
      "metadata": {
        "id": "HpvTpUBGf6Jr"
      },
      "source": [
        "### Challenge 9\n",
        "\n",
        "Write a function that returns the sum of multiples of 3 and 5 between 0 and a limit number, which will be used as a parameter. \\\n",
        "For example, if the limit is 20, it will return the sum of 3, 5, 6, 9, 10, 12, 15, 18, 20."
      ]
    },
    {
      "cell_type": "code",
      "execution_count": 1,
      "metadata": {
        "id": "a_6aqcKp6wrN"
      },
      "outputs": [],
      "source": [
        "# Code\n",
        "\n",
        "def to_sum(limit):\n",
        "  # selecting the numbers multiple of 3 and 5\n",
        "  to_sum = []\n",
        "  for n in range(limit + 1):\n",
        "    if n % 3 == 0 or n % 5 == 0:\n",
        "      to_sum.append(n)\n",
        "  return sum(to_sum)"
      ]
    },
    {
      "cell_type": "code",
      "execution_count": 3,
      "metadata": {
        "colab": {
          "base_uri": "https://localhost:8080/"
        },
        "id": "195C6bw-f6Js",
        "outputId": "3bdc1731-de57-4a83-8838-528dc70f1f50"
      },
      "outputs": [
        {
          "output_type": "stream",
          "name": "stdout",
          "text": [
            "The chosen limit is:\n",
            "20\n",
            "The sum of the multiples between 0 and limit is:\n",
            "98\n"
          ]
        }
      ],
      "source": [
        "# chosen limit\n",
        "limit = 20\n",
        "\n",
        "print('The chosen limit is:')\n",
        "print(limit)\n",
        "\n",
        "print('The sum of the multiples between 0 and limit is:')\n",
        "print(to_sum(limit))"
      ]
    }
  ],
  "metadata": {
    "anaconda-cloud": {},
    "colab": {
      "name": "Desafio 9.ipynb",
      "provenance": []
    },
    "kernelspec": {
      "display_name": "Python 3",
      "language": "python",
      "name": "python3"
    },
    "language_info": {
      "codemirror_mode": {
        "name": "ipython",
        "version": 3
      },
      "file_extension": ".py",
      "mimetype": "text/x-python",
      "name": "python",
      "nbconvert_exporter": "python",
      "pygments_lexer": "ipython3",
      "version": "3.7.9"
    }
  },
  "nbformat": 4,
  "nbformat_minor": 0
}