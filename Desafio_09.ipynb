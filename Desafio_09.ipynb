{
  "nbformat": 4,
  "nbformat_minor": 0,
  "metadata": {
    "anaconda-cloud": {},
    "kernelspec": {
      "display_name": "Python 3",
      "language": "python",
      "name": "python3"
    },
    "language_info": {
      "codemirror_mode": {
        "name": "ipython",
        "version": 3
      },
      "file_extension": ".py",
      "mimetype": "text/x-python",
      "name": "python",
      "nbconvert_exporter": "python",
      "pygments_lexer": "ipython3",
      "version": "3.6.5"
    },
    "colab": {
      "name": "Desafio 9.ipynb",
      "provenance": [],
      "include_colab_link": true
    }
  },
  "cells": [
    {
      "cell_type": "markdown",
      "metadata": {
        "id": "view-in-github",
        "colab_type": "text"
      },
      "source": [
        "<a href=\"https://colab.research.google.com/github/Frascino/br-python-challenges/blob/master/Desafio_09.ipynb\" target=\"_parent\"><img src=\"https://colab.research.google.com/assets/colab-badge.svg\" alt=\"Open In Colab\"/></a>"
      ]
    },
    {
      "cell_type": "markdown",
      "metadata": {
        "id": "HpvTpUBGf6Jr",
        "colab_type": "text"
      },
      "source": [
        "### Desafio 9\n",
        "\n",
        "Escreva uma função que retorne a soma dos múltiplos de 3 e 5 entre 0 e um número limite (parâmetro). Por exemplo, se o limite for 20, ele retornará a soma de 3, 5, 6, 9, 10, 12, 15, 18, 20."
      ]
    },
    {
      "cell_type": "code",
      "metadata": {
        "id": "195C6bw-f6Js",
        "colab_type": "code",
        "colab": {}
      },
      "source": [
        "# Usando append\n",
        "def multiplos(limite):\n",
        "  lista = []\n",
        "  for i in range(limite):\n",
        "    x = i*3\n",
        "    y = i*5\n",
        "    lista.append(x)\n",
        "    lista.append(y)\n",
        "  lista_limitada = sorted(i for i in lista if i <=limite)\n",
        "  lista_soma = sum(lista_limitada)\n",
        "  return lista_soma\n",
        "  #multiplos(20)\n",
        "  \n"
      ],
      "execution_count": 14,
      "outputs": []
    },
    {
      "cell_type": "code",
      "metadata": {
        "id": "6TO0TNmyisvE",
        "colab_type": "code",
        "colab": {
          "base_uri": "https://localhost:8080/",
          "height": 34
        },
        "outputId": "5b491865-822a-4dc9-92a4-71770db985c2"
      },
      "source": [
        "multiplos(20)"
      ],
      "execution_count": 16,
      "outputs": [
        {
          "output_type": "execute_result",
          "data": {
            "text/plain": [
              "93"
            ]
          },
          "metadata": {
            "tags": []
          },
          "execution_count": 16
        }
      ]
    },
    {
      "cell_type": "code",
      "metadata": {
        "id": "KVf_Pa0qh21E",
        "colab_type": "code",
        "colab": {
          "base_uri": "https://localhost:8080/",
          "height": 51
        },
        "outputId": "3f6d9b7f-596b-45e6-c40b-8923022d4c0a"
      },
      "source": [
        "# Usando arange\n",
        "import numpy as np\n",
        "import pandas as pd\n",
        "a= int(input('Digite um número para encontrarmos os múltiplos de 3 ou 5: '))\n",
        "def soma_mult_3_5(numero):\n",
        "  arr = np.arange(1,numero+1) # arr é um array que vai de 1 até o número a que iremos inputar; 1,2,3,4,5,6... a\n",
        "  resultado = arr[(arr%3 == 0) | (arr%5 == 0)] # filtrando o array com as condições de divisão por 3 e 5 serão armazenados no array resultado\n",
        "  soma_resultado = np.sum(resultado)\n",
        "  return soma_resultado\n",
        "soma_mult_3_5(a)"
      ],
      "execution_count": 12,
      "outputs": [
        {
          "output_type": "stream",
          "text": [
            "Digite um número para encontrarmos os múltiplos de 3 ou 5: 20\n"
          ],
          "name": "stdout"
        },
        {
          "output_type": "execute_result",
          "data": {
            "text/plain": [
              "98"
            ]
          },
          "metadata": {
            "tags": []
          },
          "execution_count": 12
        }
      ]
    },
    {
      "cell_type": "code",
      "metadata": {
        "id": "9Ge1_lWwiZ7-",
        "colab_type": "code",
        "colab": {
          "base_uri": "https://localhost:8080/",
          "height": 34
        },
        "outputId": "becc8c9e-fae7-4f5c-b350-0994b41e8990"
      },
      "source": [
        "3+ 5+ 6+ 9+ 10+ 12+ 15+ 18+20"
      ],
      "execution_count": 13,
      "outputs": [
        {
          "output_type": "execute_result",
          "data": {
            "text/plain": [
              "98"
            ]
          },
          "metadata": {
            "tags": []
          },
          "execution_count": 13
        }
      ]
    }
  ]
}