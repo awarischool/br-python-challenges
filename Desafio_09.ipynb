{
  "nbformat": 4,
  "nbformat_minor": 0,
  "metadata": {
    "colab": {
      "name": "Desafio_09.ipynb",
      "provenance": [],
      "collapsed_sections": [],
      "authorship_tag": "ABX9TyMFrI549S0eDgToEuCH7Qh5",
      "include_colab_link": true
    },
    "kernelspec": {
      "name": "python3",
      "display_name": "Python 3"
    },
    "language_info": {
      "name": "python"
    }
  },
  "cells": [
    {
      "cell_type": "markdown",
      "metadata": {
        "id": "view-in-github",
        "colab_type": "text"
      },
      "source": [
        "<a href=\"https://colab.research.google.com/github/matcarvalho/br-python-challenges/blob/master/Desafio_09.ipynb\" target=\"_parent\"><img src=\"https://colab.research.google.com/assets/colab-badge.svg\" alt=\"Open In Colab\"/></a>"
      ]
    },
    {
      "cell_type": "markdown",
      "metadata": {
        "id": "S-Z7j_caCQvb"
      },
      "source": [
        "Escreva uma função que retorne a soma dos múltiplos de 3 e 5 entre 0 e um número limite, que vai ser utilizado como parâmetro. \\ Por exemplo, se o limite for 20, ele retornará a soma de 3, 5, 6, 9, 10, 12, 15, 18, 20."
      ]
    },
    {
      "cell_type": "code",
      "metadata": {
        "colab": {
          "base_uri": "https://localhost:8080/"
        },
        "id": "hEgUMunLCQCB",
        "outputId": "5a99b27d-fa20-49ae-ba02-5e8437ea2eee"
      },
      "source": [
        "#Função para retornar os multiplos de 3 e 5\n",
        "valores = []\n",
        "def multiplo_3_5(limite):\n",
        "  for i in range(1, limite+1):\n",
        "  #Para saber se é um multiplo eu verifico se o resto da divisão por 3 e 5 é zero\n",
        "    if i%3 == 0 or i%5 == 0:\n",
        "     valores.append(i)\n",
        "  print(sum(valores))\n",
        "  \n",
        "#Printando o resultado\n",
        "multiplo_3_5(20)"
      ],
      "execution_count": 30,
      "outputs": [
        {
          "output_type": "stream",
          "text": [
            "98\n"
          ],
          "name": "stdout"
        }
      ]
    }
  ]
}