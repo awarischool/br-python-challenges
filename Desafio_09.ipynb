{
  "nbformat": 4,
  "nbformat_minor": 0,
  "metadata": {
    "colab": {
      "name": "Desafio_09.ipynb",
      "provenance": [],
      "collapsed_sections": [],
      "authorship_tag": "ABX9TyPgldT5E4dubCk+9FAWcnsD",
      "include_colab_link": true
    },
    "kernelspec": {
      "name": "python3",
      "display_name": "Python 3"
    },
    "language_info": {
      "name": "python"
    }
  },
  "cells": [
    {
      "cell_type": "markdown",
      "metadata": {
        "id": "view-in-github",
        "colab_type": "text"
      },
      "source": [
        "<a href=\"https://colab.research.google.com/github/matcarvalho/br-python-challenges/blob/master/Desafio_09.ipynb\" target=\"_parent\"><img src=\"https://colab.research.google.com/assets/colab-badge.svg\" alt=\"Open In Colab\"/></a>"
      ]
    },
    {
      "cell_type": "markdown",
      "metadata": {
        "id": "S-Z7j_caCQvb"
      },
      "source": [
        "Escreva uma função que retorne a soma dos múltiplos de 3 e 5 entre 0 e um número limite, que vai ser utilizado como parâmetro. \\ Por exemplo, se o limite for 20, ele retornará a soma de 3, 5, 6, 9, 10, 12, 15, 18, 20."
      ]
    },
    {
      "cell_type": "code",
      "metadata": {
        "colab": {
          "base_uri": "https://localhost:8080/"
        },
        "id": "hEgUMunLCQCB",
        "outputId": "8f47f10f-9d30-4ff9-f79b-bcd665bbbe59"
      },
      "source": [
        "#Função para retornar os multiplos de 3 e 5\n",
        "def multiplo_3_5(limite):\n",
        "  for i in range(1, limite+1):\n",
        "  #Para saber se é um multiplo eu verifico se o resto da divisão por 3 e 5 é zero\n",
        "    if i%3 == 0 or i%5 == 0:\n",
        "      print(i)\n",
        "      \n",
        "#Printando o resultado\n",
        "multiplo_3_5(20)"
      ],
      "execution_count": 7,
      "outputs": [
        {
          "output_type": "stream",
          "text": [
            "3\n",
            "5\n",
            "6\n",
            "9\n",
            "10\n",
            "12\n",
            "15\n",
            "18\n",
            "20\n"
          ],
          "name": "stdout"
        }
      ]
    }
  ]
}