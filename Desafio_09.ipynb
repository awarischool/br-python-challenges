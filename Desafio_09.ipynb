{
  "nbformat": 4,
  "nbformat_minor": 0,
  "metadata": {
    "anaconda-cloud": {},
    "colab": {
      "name": "Desafio 9.ipynb",
      "provenance": [],
      "include_colab_link": true
    },
    "kernelspec": {
      "display_name": "Python 3",
      "language": "python",
      "name": "python3"
    },
    "language_info": {
      "codemirror_mode": {
        "name": "ipython",
        "version": 3
      },
      "file_extension": ".py",
      "mimetype": "text/x-python",
      "name": "python",
      "nbconvert_exporter": "python",
      "pygments_lexer": "ipython3",
      "version": "3.7.9"
    }
  },
  "cells": [
    {
      "cell_type": "markdown",
      "metadata": {
        "id": "view-in-github",
        "colab_type": "text"
      },
      "source": [
        "<a href=\"https://colab.research.google.com/github/BielSousa/br-python-challenges/blob/master/Desafio_09.ipynb\" target=\"_parent\"><img src=\"https://colab.research.google.com/assets/colab-badge.svg\" alt=\"Open In Colab\"/></a>"
      ]
    },
    {
      "cell_type": "markdown",
      "metadata": {
        "id": "HpvTpUBGf6Jr"
      },
      "source": [
        "### Desafio 9\n",
        "\n",
        "Escreva uma função que retorne a soma dos múltiplos de 3 e 5 entre 0 e um número limite, que vai ser utilizado como parâmetro. \\\n",
        "Por exemplo, se o limite for 20, ele retornará a soma de 3, 5, 6, 9, 10, 12, 15, 18, 20."
      ]
    },
    {
      "cell_type": "code",
      "metadata": {
        "colab": {
          "base_uri": "https://localhost:8080/"
        },
        "id": "195C6bw-f6Js",
        "outputId": "bd3b69e7-a961-49af-dd4e-1b0776350b49"
      },
      "source": [
        "def multiplos(limite):\n",
        "    lista_multiplos = []\n",
        "\n",
        "    #Calcula multiplos de 3\n",
        "    aux = 0\n",
        "    while True:\n",
        "        aux+=1\n",
        "        if 3*aux <= limite:\n",
        "            lista_multiplos.append(3*aux)\n",
        "        else:\n",
        "            break\n",
        "    #Calcula multiplos de 5\n",
        "    aux = 0\n",
        "    while True:\n",
        "        aux+=1\n",
        "        if 5*aux <= limite:\n",
        "            lista_multiplos.append(5*aux)\n",
        "        else:\n",
        "            break\n",
        "\n",
        "    #retira duplicados        \n",
        "    lista_multiplos = list(set(lista_multiplos))\n",
        "    \n",
        "    #soma lista\n",
        "    soma = 0\n",
        "    for i in lista_multiplos:\n",
        "        soma+=i\n",
        "    return soma\n",
        "\n",
        "multiplos(20)"
      ],
      "execution_count": 6,
      "outputs": [
        {
          "output_type": "execute_result",
          "data": {
            "text/plain": [
              "98"
            ]
          },
          "metadata": {
            "tags": []
          },
          "execution_count": 6
        }
      ]
    }
  ]
}