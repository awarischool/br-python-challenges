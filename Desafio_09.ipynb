{
  "nbformat": 4,
  "nbformat_minor": 0,
  "metadata": {
    "anaconda-cloud": {},
    "colab": {
      "name": "Desafio 9.ipynb",
      "provenance": [],
      "include_colab_link": true
    },
    "kernelspec": {
      "display_name": "Python 3",
      "language": "python",
      "name": "python3"
    },
    "language_info": {
      "codemirror_mode": {
        "name": "ipython",
        "version": 3
      },
      "file_extension": ".py",
      "mimetype": "text/x-python",
      "name": "python",
      "nbconvert_exporter": "python",
      "pygments_lexer": "ipython3",
      "version": "3.7.9"
    }
  },
  "cells": [
    {
      "cell_type": "markdown",
      "metadata": {
        "id": "view-in-github",
        "colab_type": "text"
      },
      "source": [
        "<a href=\"https://colab.research.google.com/github/sergioGMedinaP/br-python-challenges/blob/master/Desafio_09.ipynb\" target=\"_parent\"><img src=\"https://colab.research.google.com/assets/colab-badge.svg\" alt=\"Open In Colab\"/></a>"
      ]
    },
    {
      "cell_type": "markdown",
      "metadata": {
        "id": "HpvTpUBGf6Jr"
      },
      "source": [
        "### Desafio 9\n",
        "\n",
        "Escreva uma função que retorne a soma dos múltiplos de 3 e 5 entre 0 e um número limite, que vai ser utilizado como parâmetro. \\\n",
        "Por exemplo, se o limite for 20, ele retornará a soma de 3, 5, 6, 9, 10, 12, 15, 18, 20."
      ]
    },
    {
      "cell_type": "code",
      "metadata": {
        "colab": {
          "base_uri": "https://localhost:8080/"
        },
        "id": "195C6bw-f6Js",
        "outputId": "ad5690fd-3421-4489-e73d-cb95719e74de"
      },
      "source": [
        "def determina_multiplo(num, base):  \n",
        "  if (num % base == 0):\n",
        "    print(\"Valor e num \", num)\n",
        "    return num  \n",
        "  else:\n",
        "    return 0\n",
        "\n",
        "num = int(input(\"Digite um numero inteiro = \"))\n",
        "soma = 0\n",
        "\n",
        "for n in range(0, num+1):\n",
        "  soma = soma + determina_multiplo(n,3)\n",
        "  soma = soma + determina_multiplo(n,5)\n",
        "  #print(soma)\n",
        "\n",
        "print(f'Resultdo da soma de todos os elementos múltiplos de 3 e 5 dentro do limite (0 , {num}) informado é de: {soma}')"
      ],
      "execution_count": 6,
      "outputs": [
        {
          "output_type": "stream",
          "text": [
            "Digite um numero inteiro = 10\n",
            "Valor e num  0\n",
            "Valor e num  0\n",
            "Valor e num  3\n",
            "Valor e num  5\n",
            "Valor e num  6\n",
            "Valor e num  9\n",
            "Valor e num  10\n",
            "Resultdo da soma de todos os elementos múltiplos de 3 e 5 dentro do limite (0 , 10) informado é de: 33\n"
          ],
          "name": "stdout"
        }
      ]
    },
    {
      "cell_type": "code",
      "metadata": {
        "id": "a_6aqcKp6wrN"
      },
      "source": [
        ""
      ],
      "execution_count": null,
      "outputs": []
    }
  ]
}