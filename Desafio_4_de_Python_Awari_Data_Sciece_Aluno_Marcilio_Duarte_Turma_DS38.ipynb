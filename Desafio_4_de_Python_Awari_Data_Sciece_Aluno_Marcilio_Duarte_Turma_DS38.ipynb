{
  "nbformat": 4,
  "nbformat_minor": 0,
  "metadata": {
    "colab": {
      "name": "Desafio 4 de Python - Awari_Data Sciece - Aluno: Marcilio Duarte_Turma_DS38",
      "provenance": [],
      "authorship_tag": "ABX9TyMTOwDCgFfFshjPFNAtLafb",
      "include_colab_link": true
    },
    "kernelspec": {
      "name": "python3",
      "display_name": "Python 3"
    },
    "language_info": {
      "name": "python"
    }
  },
  "cells": [
    {
      "cell_type": "markdown",
      "metadata": {
        "id": "view-in-github",
        "colab_type": "text"
      },
      "source": [
        "<a href=\"https://colab.research.google.com/github/marcilioduarte/br-python-challenges/blob/master/Desafio_4_de_Python_Awari_Data_Sciece_Aluno_Marcilio_Duarte_Turma_DS38.ipynb\" target=\"_parent\"><img src=\"https://colab.research.google.com/assets/colab-badge.svg\" alt=\"Open In Colab\"/></a>"
      ]
    },
    {
      "cell_type": "markdown",
      "source": [
        "![](https://i.imgur.com/YX6UATs.png)"
      ],
      "metadata": {
        "id": "zJMbmQmzfgfm"
      }
    },
    {
      "cell_type": "markdown",
      "source": [
        "##Desafio 4\n",
        "\n",
        "Escreva uma função cuja entrada é uma string e a saída é outra string com as palavras em ordem inversa.\n",
        "\n",
        "Exemplo:\n",
        "\n",
        "inverte_texto(\"Python é legal\") ➞ \"legal é Python\""
      ],
      "metadata": {
        "id": "bo-dCPFwkpJ1"
      }
    },
    {
      "cell_type": "code",
      "source": [
        "import re\n",
        "def inverter(frase, regex=re.compile(r\"[^\\-,.?!\\s]+\")):\n",
        "  return \" \".join(re.findall(regex, frase)[::-1])\n",
        "\n",
        "print(inverter(\"Eu roubei nessa questão porque não consegui resolver sozinho. Por isso, colei da internet.\"))\n"
      ],
      "metadata": {
        "colab": {
          "base_uri": "https://localhost:8080/"
        },
        "id": "QDU3b--Bfuzr",
        "outputId": "fd24c1c7-6407-4f44-d8c7-cf10f1c996f4"
      },
      "execution_count": 5,
      "outputs": [
        {
          "output_type": "stream",
          "name": "stdout",
          "text": [
            "internet da colei isso Por sozinho resolver consegui não porque questão nessa roubei Eu\n"
          ]
        }
      ]
    }
  ]
}