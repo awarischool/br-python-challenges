{
  "cells": [
    {
      "cell_type": "markdown",
      "metadata": {
        "id": "AiI1_KNTf6Jh"
      },
      "source": [
        "### Challenge 6\n",
        "\n",
        "Create a function that takes two lists and returns a list that contains only the common elements between the lists (no repetition). The function must support different size list.\n"
      ]
    },
    {
      "cell_type": "markdown",
      "metadata": {
        "id": "FJD5vNjCI368"
      },
      "source": [
        "**Lists**"
      ]
    },
    {
      "cell_type": "code",
      "execution_count": 2,
      "metadata": {
        "id": "zvaXhmPMI369"
      },
      "outputs": [],
      "source": [
        "a = [1, 1, 2, 3, 5, 8, 13, 21, 34, 55, 89]\n",
        "b = [1, 2, 3, 4, 5, 6, 7, 8, 9, 10, 11, 12, 13]"
      ]
    },
    {
      "cell_type": "code",
      "execution_count": 1,
      "metadata": {
        "id": "mvxpy_vCf6Jh"
      },
      "outputs": [],
      "source": [
        "# Code\n",
        "\n",
        "def list_inner_join(list_a, list_b):\n",
        "  set_a = set(list_a)\n",
        "  set_b = set(list_b)\n",
        "  join = set_a.intersection(list_b)\n",
        "  return list(join)"
      ]
    },
    {
      "cell_type": "code",
      "source": [
        "print(list_inner_join(a, b))"
      ],
      "metadata": {
        "id": "GS-7jhwkK6ar",
        "outputId": "e955b3be-4b2f-4fad-dca0-98486ef63a0a",
        "colab": {
          "base_uri": "https://localhost:8080/"
        }
      },
      "execution_count": 3,
      "outputs": [
        {
          "output_type": "stream",
          "name": "stdout",
          "text": [
            "[1, 2, 3, 5, 8, 13]\n"
          ]
        }
      ]
    }
  ],
  "metadata": {
    "anaconda-cloud": {},
    "colab": {
      "name": "Desafio 6.ipynb",
      "provenance": []
    },
    "kernelspec": {
      "display_name": "Python 3",
      "language": "python",
      "name": "python3"
    },
    "language_info": {
      "codemirror_mode": {
        "name": "ipython",
        "version": 3
      },
      "file_extension": ".py",
      "mimetype": "text/x-python",
      "name": "python",
      "nbconvert_exporter": "python",
      "pygments_lexer": "ipython3",
      "version": "3.7.9"
    }
  },
  "nbformat": 4,
  "nbformat_minor": 0
}