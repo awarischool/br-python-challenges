{
  "nbformat": 4,
  "nbformat_minor": 0,
  "metadata": {
    "colab": {
      "name": "Desafio 1 de Python - Awari_Data Sciece - Aluno: Marcilio Duarte_Turma_DS38",
      "provenance": [],
      "collapsed_sections": [],
      "authorship_tag": "ABX9TyPjGxy2il8K34GItJLeNrOT",
      "include_colab_link": true
    },
    "kernelspec": {
      "name": "python3",
      "display_name": "Python 3"
    },
    "language_info": {
      "name": "python"
    }
  },
  "cells": [
    {
      "cell_type": "markdown",
      "metadata": {
        "id": "view-in-github",
        "colab_type": "text"
      },
      "source": [
        "<a href=\"https://colab.research.google.com/github/marcilioduarte/br-python-challenges/blob/master/Desafio_1_de_Python_Awari_Data_Sciece_Aluno_Marcilio_Duarte_Turma_DS38.ipynb\" target=\"_parent\"><img src=\"https://colab.research.google.com/assets/colab-badge.svg\" alt=\"Open In Colab\"/></a>"
      ]
    },
    {
      "cell_type": "markdown",
      "source": [
        "###**Resolução do Desafio 1 de Python - Awari_Data Sciece - Aluno: Marcilio Duarte_Turma_DS38**"
      ],
      "metadata": {
        "id": "dlI3SegUDwzM"
      }
    },
    {
      "cell_type": "markdown",
      "source": [
        "### Desafio 1\n",
        "\n",
        "Escreva um programa em Python para contabilizar a quantidade de ocorrências de cada palavra.\n"
      ],
      "metadata": {
        "id": "EVfe6n01EzIk"
      }
    },
    {
      "cell_type": "code",
      "source": [
        "palavras = [\n",
        "   'red', 'green', 'black', 'pink', 'black', 'white', 'black', 'eyes',\n",
        "   'white', 'black', 'orange', 'pink', 'pink', 'red', 'red', 'white', 'orange',\n",
        "   'white', \"black\", 'pink', 'green', 'green', 'pink', 'green', 'pink',\n",
        "   'white', 'orange', \"orange\", 'red'\n",
        "]"
      ],
      "metadata": {
        "id": "P6bYkr3eE4dK"
      },
      "execution_count": 2,
      "outputs": []
    },
    {
      "cell_type": "code",
      "source": [
        "#Opção 1:\n",
        "from collections import Counter\n",
        "dicionario = Counter(palavras)\n",
        "dicionario"
      ],
      "metadata": {
        "colab": {
          "base_uri": "https://localhost:8080/"
        },
        "id": "aLxpqRYMFyAL",
        "outputId": "27ba8b8b-3c23-4a47-eda8-b36a90b81c67"
      },
      "execution_count": 8,
      "outputs": [
        {
          "output_type": "execute_result",
          "data": {
            "text/plain": [
              "Counter({'black': 5,\n",
              "         'eyes': 1,\n",
              "         'green': 4,\n",
              "         'orange': 4,\n",
              "         'pink': 6,\n",
              "         'red': 4,\n",
              "         'white': 5})"
            ]
          },
          "metadata": {},
          "execution_count": 8
        }
      ]
    },
    {
      "cell_type": "code",
      "source": [
        "#Opção 2:\n",
        "contagem={}\n",
        "for n in palavras:\n",
        "  total=palavras.count(n)\n",
        "  contagem[f'{n}']=total\n",
        "print(contagem)"
      ],
      "metadata": {
        "colab": {
          "base_uri": "https://localhost:8080/"
        },
        "id": "Q2fiDUNYGgZ_",
        "outputId": "03872bae-d829-4104-fe96-731f84f301f7"
      },
      "execution_count": 9,
      "outputs": [
        {
          "output_type": "stream",
          "name": "stdout",
          "text": [
            "{'red': 4, 'green': 4, 'black': 5, 'pink': 6, 'white': 5, 'eyes': 1, 'orange': 4}\n"
          ]
        }
      ]
    },
    {
      "cell_type": "code",
      "source": [
        "#Opção 3:\n",
        "for n in palavras:\n",
        "    print (n + \" \" + str(dicionario[n]) if n in palavras else 0)"
      ],
      "metadata": {
        "colab": {
          "base_uri": "https://localhost:8080/"
        },
        "id": "pftwYNeuH-bb",
        "outputId": "51632af5-d717-40e4-83e6-8d23191b23e4"
      },
      "execution_count": 10,
      "outputs": [
        {
          "output_type": "stream",
          "name": "stdout",
          "text": [
            "red 4\n",
            "green 4\n",
            "black 5\n",
            "pink 6\n",
            "black 5\n",
            "white 5\n",
            "black 5\n",
            "eyes 1\n",
            "white 5\n",
            "black 5\n",
            "orange 4\n",
            "pink 6\n",
            "pink 6\n",
            "red 4\n",
            "red 4\n",
            "white 5\n",
            "orange 4\n",
            "white 5\n",
            "black 5\n",
            "pink 6\n",
            "green 4\n",
            "green 4\n",
            "pink 6\n",
            "green 4\n",
            "pink 6\n",
            "white 5\n",
            "orange 4\n",
            "orange 4\n",
            "red 4\n"
          ]
        }
      ]
    }
  ]
}