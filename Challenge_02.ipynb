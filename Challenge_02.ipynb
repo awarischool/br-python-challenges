{
  "cells": [
    {
      "cell_type": "markdown",
      "metadata": {
        "id": "q1NCks7Af6JN"
      },
      "source": [
        "### Challenge 2\n",
        "\n",
        "Write a function that takes an integer number of hours and converts that number to seconds.\n",
        "\n",
        "Example:\n",
        "\n",
        "convert(5) ➞ 18000\n",
        "\n",
        "convert(3) ➞ 10800\n",
        "\n",
        "convert(2) ➞ 7200"
      ]
    },
    {
      "cell_type": "code",
      "execution_count": 1,
      "metadata": {
        "id": "sSm6F7sff6JO"
      },
      "outputs": [],
      "source": [
        "def convert_to_sec(number):\n",
        "    seconds = number * 60 * 60\n",
        "    return seconds"
      ]
    },
    {
      "cell_type": "code",
      "source": [
        "print(convert_to_sec(5))\n",
        "print(convert_to_sec(3))\n",
        "print(convert_to_sec(2))\n",
        "\n",
        "print(convert_to_sec(10))\n",
        "print(convert_to_sec(8))\n",
        "print(convert_to_sec(1))"
      ],
      "metadata": {
        "id": "-lpAkLKQoFK3",
        "outputId": "94f7e9e8-86f6-4983-959a-dbed9ebc9cc6",
        "colab": {
          "base_uri": "https://localhost:8080/"
        }
      },
      "execution_count": 6,
      "outputs": [
        {
          "output_type": "stream",
          "name": "stdout",
          "text": [
            "18000\n",
            "10800\n",
            "7200\n",
            "36000\n",
            "28800\n",
            "3600\n"
          ]
        }
      ]
    }
  ],
  "metadata": {
    "anaconda-cloud": {},
    "colab": {
      "name": "Desafio 2.ipynb",
      "provenance": []
    },
    "kernelspec": {
      "display_name": "Python 3",
      "language": "python",
      "name": "python3"
    },
    "language_info": {
      "codemirror_mode": {
        "name": "ipython",
        "version": 3
      },
      "file_extension": ".py",
      "mimetype": "text/x-python",
      "name": "python",
      "nbconvert_exporter": "python",
      "pygments_lexer": "ipython3",
      "version": "3.7.9"
    }
  },
  "nbformat": 4,
  "nbformat_minor": 0
}