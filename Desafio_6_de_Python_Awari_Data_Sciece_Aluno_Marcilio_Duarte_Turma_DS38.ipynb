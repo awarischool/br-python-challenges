{
  "nbformat": 4,
  "nbformat_minor": 0,
  "metadata": {
    "colab": {
      "name": "Desafio 6 de Python - Awari_Data Sciece - Aluno: Marcilio Duarte_Turma_DS38",
      "provenance": [],
      "authorship_tag": "ABX9TyPHjkLGeAUAA4p8PbI9Arc0",
      "include_colab_link": true
    },
    "kernelspec": {
      "name": "python3",
      "display_name": "Python 3"
    },
    "language_info": {
      "name": "python"
    }
  },
  "cells": [
    {
      "cell_type": "markdown",
      "metadata": {
        "id": "view-in-github",
        "colab_type": "text"
      },
      "source": [
        "<a href=\"https://colab.research.google.com/github/marcilioduarte/br-python-challenges/blob/master/Desafio_6_de_Python_Awari_Data_Sciece_Aluno_Marcilio_Duarte_Turma_DS38.ipynb\" target=\"_parent\"><img src=\"https://colab.research.google.com/assets/colab-badge.svg\" alt=\"Open In Colab\"/></a>"
      ]
    },
    {
      "cell_type": "markdown",
      "source": [
        "![](https://i.imgur.com/YX6UATs.png)"
      ],
      "metadata": {
        "id": "3YJTe3gaw4CW"
      }
    },
    {
      "cell_type": "markdown",
      "source": [
        "### Desafio 6\n",
        "\n",
        "Crie uma função que receba duas listas e retorne uma lista que contenha apenas os elementos comuns entre as listas (sem repetição). A função deve suportar lista de tamanhos diferentes.\n"
      ],
      "metadata": {
        "id": "QFyhVdGjw8Jv"
      }
    },
    {
      "cell_type": "markdown",
      "source": [
        "**Listas**"
      ],
      "metadata": {
        "id": "nq5U0jf5xATE"
      }
    },
    {
      "cell_type": "code",
      "execution_count": 19,
      "metadata": {
        "id": "iRBV_p97wex0"
      },
      "outputs": [],
      "source": [
        "a = [1, 1, 2, 3, 5, 8, 13, 21, 34, 55, 89]\n",
        "b = [1, 2, 3, 4, 5, 6, 7, 8, 9, 10, 11, 12, 13]"
      ]
    },
    {
      "cell_type": "code",
      "source": [
        "#opção 1:\n",
        "\n",
        "def join_listas (x,y):\n",
        "  z=list(sorted(set([*x, *y])))\n",
        "  return z\n",
        "join_listas(a,b)\n"
      ],
      "metadata": {
        "colab": {
          "base_uri": "https://localhost:8080/"
        },
        "id": "2UGGOdqExJAJ",
        "outputId": "dc5d6604-88b0-4d8b-ab03-cc27a323b8db"
      },
      "execution_count": 20,
      "outputs": [
        {
          "output_type": "execute_result",
          "data": {
            "text/plain": [
              "[1, 2, 3, 4, 5, 6, 7, 8, 9, 10, 11, 12, 13, 21, 34, 55, 89]"
            ]
          },
          "metadata": {},
          "execution_count": 20
        }
      ]
    },
    {
      "cell_type": "code",
      "source": [
        "#opção 2:\n",
        "\n",
        "def join_listas (x,y):\n",
        "  z=x+y\n",
        "  return sorted(set(z))\n",
        "join_listas(a,b)\n"
      ],
      "metadata": {
        "colab": {
          "base_uri": "https://localhost:8080/"
        },
        "id": "y1lLTKM71BN_",
        "outputId": "7f89dd8e-b372-48ee-9e5e-e5960d2f3ee1"
      },
      "execution_count": 21,
      "outputs": [
        {
          "output_type": "execute_result",
          "data": {
            "text/plain": [
              "[1, 2, 3, 4, 5, 6, 7, 8, 9, 10, 11, 12, 13, 21, 34, 55, 89]"
            ]
          },
          "metadata": {},
          "execution_count": 21
        }
      ]
    },
    {
      "cell_type": "code",
      "source": [
        "#opção 3:\n",
        "\n",
        "def join_listas (x,y):\n",
        "  for i in y: \n",
        "    x.append(i)\n",
        "  return sorted(set(x))\n",
        "join_listas(a,b)"
      ],
      "metadata": {
        "colab": {
          "base_uri": "https://localhost:8080/"
        },
        "id": "kSi-G-wBzWVs",
        "outputId": "d314b80c-b813-4c7c-ebf3-dbc9d6b026d0"
      },
      "execution_count": 22,
      "outputs": [
        {
          "output_type": "execute_result",
          "data": {
            "text/plain": [
              "[1, 2, 3, 4, 5, 6, 7, 8, 9, 10, 11, 12, 13, 21, 34, 55, 89]"
            ]
          },
          "metadata": {},
          "execution_count": 22
        }
      ]
    },
    {
      "cell_type": "code",
      "source": [
        "#opção 4:\n",
        "import itertools \n",
        "def join_listas(x,y):\n",
        "  z = list(itertools.chain(x,y))\n",
        "  return sorted(set(z))\n",
        "join_listas(a,b)"
      ],
      "metadata": {
        "colab": {
          "base_uri": "https://localhost:8080/"
        },
        "id": "6GpfdfMs1nca",
        "outputId": "e53bf4ee-c40e-47ed-bec9-336054961239"
      },
      "execution_count": 24,
      "outputs": [
        {
          "output_type": "execute_result",
          "data": {
            "text/plain": [
              "[1, 2, 3, 4, 5, 6, 7, 8, 9, 10, 11, 12, 13, 21, 34, 55, 89]"
            ]
          },
          "metadata": {},
          "execution_count": 24
        }
      ]
    }
  ]
}