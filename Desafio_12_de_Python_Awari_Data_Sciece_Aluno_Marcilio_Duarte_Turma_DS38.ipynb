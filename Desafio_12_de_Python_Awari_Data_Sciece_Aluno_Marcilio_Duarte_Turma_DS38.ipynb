{
  "nbformat": 4,
  "nbformat_minor": 0,
  "metadata": {
    "colab": {
      "name": "Desafio 12 de Python - Awari_Data Sciece - Aluno: Marcilio Duarte_Turma_DS38",
      "provenance": [],
      "authorship_tag": "ABX9TyN1B3CeubEslwNZiHhd77Fo",
      "include_colab_link": true
    },
    "kernelspec": {
      "name": "python3",
      "display_name": "Python 3"
    },
    "language_info": {
      "name": "python"
    }
  },
  "cells": [
    {
      "cell_type": "markdown",
      "metadata": {
        "id": "view-in-github",
        "colab_type": "text"
      },
      "source": [
        "<a href=\"https://colab.research.google.com/github/marcilioduarte/br-python-challenges/blob/master/Desafio_12_de_Python_Awari_Data_Sciece_Aluno_Marcilio_Duarte_Turma_DS38.ipynb\" target=\"_parent\"><img src=\"https://colab.research.google.com/assets/colab-badge.svg\" alt=\"Open In Colab\"/></a>"
      ]
    },
    {
      "cell_type": "markdown",
      "source": [
        "![](https://i.imgur.com/YX6UATs.png)"
      ],
      "metadata": {
        "id": "Khf4Hipaom-h"
      }
    },
    {
      "cell_type": "markdown",
      "source": [
        "### Desafio 12\n",
        "\n",
        "Escreva uma função em Python para verificar a validade de uma senha.\n",
        "\n",
        "A senha deve ter:\n",
        "\n",
        "* Pelo menos 1 letra entre [a-z] e 1 letra entre [A-Z].\n",
        "* Pelo menos 1 número entre [0-9].\n",
        "* Pelo menos 1 caractere de [$ # @].\n",
        "* Comprimento mínimo de 6 caracteres.\n",
        "* Comprimento máximo de 16 caracteres.\n",
        "\n",
        "Entradas: \"12345678\", \"J3sus0\", \"#Te5t300\", \"J*90j12374\", \"Michheeul\", \"Monk3y6\"\n",
        "\n",
        "A saída deve ser a senha e um texto indicando se a senha é válida ou inválida:\n",
        "\n",
        "```\n",
        "\"1234\" - Senha inválida\n",
        "\"Qw#1234\" - Senha válida\n",
        "```"
      ],
      "metadata": {
        "id": "_NGs9dWWodso"
      }
    },
    {
      "cell_type": "code",
      "source": [
        "#Resposta 1: Awari"
      ],
      "metadata": {
        "id": "ynQu_IqGyU3k"
      },
      "execution_count": null,
      "outputs": []
    },
    {
      "cell_type": "code",
      "source": [
        "lista_senhas = ['12345678',\n",
        "          'J3sus0',\n",
        "          '#Te5t300',\n",
        "          'J*90j12374',\n",
        "          'Michheeul',\n",
        "          'Monk3y6',\n",
        "          '1234',\n",
        "          'Qw#1234']"
      ],
      "metadata": {
        "id": "Ih84NRo0aGxE"
      },
      "execution_count": 86,
      "outputs": []
    },
    {
      "cell_type": "code",
      "source": [
        "import re\n",
        "def valida_senhas(password):\n",
        "    regex = re.compile(r'^(?=.*[a-z])(?=.*[A-Z])(?=.*[0-9])(?=.*[$#@]).{6,16}$',\n",
        "                       flags=re.M)\n",
        "    resultado = re.findall(regex, password)\n",
        "    if resultado:\n",
        "        print(f'\"{password}\" - Senha válida')\n",
        "    else:\n",
        "        print(f'\"{password}\" - Senha inválida')\n"
      ],
      "metadata": {
        "id": "nJtDo945Z4jr"
      },
      "execution_count": 87,
      "outputs": []
    },
    {
      "cell_type": "code",
      "source": [
        "for senha in lista_senhas:\n",
        "    valida_senhas(senha)"
      ],
      "metadata": {
        "colab": {
          "base_uri": "https://localhost:8080/"
        },
        "id": "mYfAf4EtZ9Ik",
        "outputId": "9571d711-bb4c-4778-a59c-0e7279e2c9ed"
      },
      "execution_count": 88,
      "outputs": [
        {
          "output_type": "stream",
          "name": "stdout",
          "text": [
            "\"12345678\" - Senha inválida\n",
            "\"J3sus0\" - Senha inválida\n",
            "\"#Te5t300\" - Senha válida\n",
            "\"J*90j12374\" - Senha inválida\n",
            "\"Michheeul\" - Senha inválida\n",
            "\"Monk3y6\" - Senha inválida\n",
            "\"1234\" - Senha inválida\n",
            "\"Qw#1234\" - Senha válida\n"
          ]
        }
      ]
    },
    {
      "cell_type": "code",
      "source": [
        "### Resposta 2: ERRADA, CORRIGIR COM MENTOR"
      ],
      "metadata": {
        "id": "t5rIQy7VPx63"
      },
      "execution_count": null,
      "outputs": []
    },
    {
      "cell_type": "code",
      "source": [
        "import re\n",
        "senha=[\"12345678\", \"J3sus0\", \"#Te5t300\", \"J*90j12374\", \"Michheeul\", \"Monk3y6\"]\n",
        "def validacao_senha(n):\n",
        "  min, mai, num, ces = 0, 0, 0, 0\n",
        "  if len(n)>=6 & len(n) <=16:\n",
        "    for i in n:\n",
        "      if i.islower:\n",
        "        min+=1\n",
        "      if i.isupper:\n",
        "        mai+=1\n",
        "      if i.isdigit:\n",
        "        num+=1\n",
        "      if re.match(r'^(?=.+[$#@])$',n): #####CORRIGIR PARTE DO REGEX\n",
        "        ces+=1\n",
        "    if (min>=1 & mai>=1 & num>=1 & ces>=1):\n",
        "      print(f'{n} - Senha válida') \n",
        "    else:\n",
        "     print(f'{n} - Senha inválida')   \n",
        "  else:\n",
        "    print(f'{n} - Senha inválida')"
      ],
      "metadata": {
        "id": "E18f1DpSr_2w"
      },
      "execution_count": 84,
      "outputs": []
    },
    {
      "cell_type": "code",
      "source": [
        " for s in senha:\n",
        "   validacao_senha(s)"
      ],
      "metadata": {
        "colab": {
          "base_uri": "https://localhost:8080/"
        },
        "id": "11-qFWj1Y40s",
        "outputId": "641f0881-73b6-462c-b0c8-abc964813452"
      },
      "execution_count": 85,
      "outputs": [
        {
          "output_type": "stream",
          "name": "stdout",
          "text": [
            "12345678 - Senha inválida\n",
            "J3sus0 - Senha inválida\n",
            "#Te5t300 - Senha inválida\n",
            "J*90j12374 - Senha inválida\n",
            "Michheeul - Senha inválida\n",
            "Monk3y6 - Senha inválida\n"
          ]
        }
      ]
    }
  ]
}