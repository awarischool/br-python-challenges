{
  "nbformat": 4,
  "nbformat_minor": 0,
  "metadata": {
    "anaconda-cloud": {},
    "colab": {
      "name": "Desafio 8.ipynb",
      "provenance": [],
      "toc_visible": true,
      "include_colab_link": true
    },
    "kernelspec": {
      "display_name": "Python 3",
      "language": "python",
      "name": "python3"
    },
    "language_info": {
      "codemirror_mode": {
        "name": "ipython",
        "version": 3
      },
      "file_extension": ".py",
      "mimetype": "text/x-python",
      "name": "python",
      "nbconvert_exporter": "python",
      "pygments_lexer": "ipython3",
      "version": "3.7.9"
    }
  },
  "cells": [
    {
      "cell_type": "markdown",
      "metadata": {
        "id": "view-in-github",
        "colab_type": "text"
      },
      "source": [
        "<a href=\"https://colab.research.google.com/github/sergioGMedinaP/br-python-challenges/blob/master/Desafio_08.ipynb\" target=\"_parent\"><img src=\"https://colab.research.google.com/assets/colab-badge.svg\" alt=\"Open In Colab\"/></a>"
      ]
    },
    {
      "cell_type": "markdown",
      "metadata": {
        "id": "o3tkeMDNf6Jo"
      },
      "source": [
        "### Desafio 8\n",
        "\n",
        "Escreva um script Python para encontrar as 10 palavras mais longas em um arquivo de texto.\n",
        "O arquivo .txt está localizado na mesma pasta do projeto (**texto.txt**)."
      ]
    },
    {
      "cell_type": "code",
      "metadata": {
        "colab": {
          "base_uri": "https://localhost:8080/"
        },
        "id": "EknxjSG0f6Jo",
        "outputId": "1101f206-93e0-455d-c037-ef825bc359bf"
      },
      "source": [
        "# Seu código\n",
        "import os\n",
        "diretorioCorrente = os.getcwd() \n",
        "print(\"Vc está no seguinte diretorio\") \n",
        "print(diretorioCorrente)\n",
        "\n",
        "with open(\"texto.txt\", 'r') as arq:\n",
        "  linha = arq.read()\n",
        " \n",
        " \n",
        "conteudo1 = linha.split()\n",
        "print(conteudo1)\n",
        "\n"
      ],
      "execution_count": 54,
      "outputs": [
        {
          "output_type": "stream",
          "text": [
            "Vc está no seguinte diretorio\n",
            "/content\n",
            "['What', 'is', 'Python', 'language?', 'Python', 'is', 'a', 'widely', 'used', 'high-level,', 'general-purpose,', 'interpreted,', 'dynamic', 'programming', 'language.', 'Its', 'design', 'philosophy', 'emphasizes', 'code', 'readability,', 'and', 'its', 'syntax', 'allows', 'programmers', 'to', 'express', 'concepts', 'in', 'fewer', 'lines', 'of', 'code', 'than', 'possible', 'in', 'languages', 'such', 'as', 'C++', 'or', 'Java.', 'Python', 'supports', 'multiple', 'programming', 'paradigms,', 'including', 'object-oriented,', 'imperative', 'and', 'functional', 'programming', 'or', 'procedural', 'styles.It', 'features', 'a', 'dynamic', 'type', 'system', 'and', 'automatic', 'memory', 'management', 'and', 'has', 'a', 'large', 'and', 'comprehensive', 'standard', 'library.', 'The', 'best', 'way', 'we', 'learn', 'anything', 'is', 'by', 'practice', 'and', 'exercise', 'questions.', 'We', 'have', 'started', 'this', 'section', 'for', 'those', '(', 'beginner', 'to', 'intermediate', ')', 'who', 'are', 'familiar', 'with', 'Python.']\n"
          ],
          "name": "stdout"
        }
      ]
    },
    {
      "cell_type": "code",
      "metadata": {
        "colab": {
          "base_uri": "https://localhost:8080/"
        },
        "id": "ZYbqEWBG5nKx",
        "outputId": "7ed0ff04-c9bd-4580-ec99-38bf9b9278c4"
      },
      "source": [
        "\n",
        "\n",
        "tam_palavras = sorted(conteudo1, key=len, reverse=True)\n",
        "\n",
        "print(\"lista da 10 maiores palavras\")\n",
        "tam_palavras[0:10]"
      ],
      "execution_count": 56,
      "outputs": [
        {
          "output_type": "stream",
          "text": [
            "lista da 10 maiores palavras\n"
          ],
          "name": "stdout"
        },
        {
          "output_type": "execute_result",
          "data": {
            "text/plain": [
              "['general-purpose,',\n",
              " 'object-oriented,',\n",
              " 'comprehensive',\n",
              " 'interpreted,',\n",
              " 'readability,',\n",
              " 'intermediate',\n",
              " 'high-level,',\n",
              " 'programming',\n",
              " 'programmers',\n",
              " 'programming']"
            ]
          },
          "metadata": {
            "tags": []
          },
          "execution_count": 56
        }
      ]
    },
    {
      "cell_type": "code",
      "metadata": {
        "id": "-XEEYYJWqiI0"
      },
      "source": [
        ""
      ],
      "execution_count": 53,
      "outputs": []
    },
    {
      "cell_type": "code",
      "metadata": {
        "id": "4ip-580lmUN7",
        "outputId": "87837844-790e-41a7-9973-a32231f84110",
        "colab": {
          "base_uri": "https://localhost:8080/"
        }
      },
      "source": [
        ""
      ],
      "execution_count": 35,
      "outputs": [
        {
          "output_type": "stream",
          "text": [
            "['Python', 'supports', 'multiple', 'programming', 'paradigms,', 'including', 'object-oriented,', 'imperative', 'and', 'functional', 'programming', 'or', 'procedural', 'styles.It', 'features', 'a', 'dynamic', 'type', 'system', 'and', 'automatic', 'memory', 'management', 'and', 'has', 'a', 'large', 'and', 'comprehensive', 'standard', 'library.The', 'best', 'way', 'we', 'learn', 'anything', 'is', 'by', 'practice', 'and', 'exercise', 'questions.', 'We', 'have', 'started', 'this', 'section', 'for', 'those', '(beginner', 'to', 'intermediate)', 'who', 'are', 'familiar', 'with', 'Python.']\n"
          ],
          "name": "stdout"
        }
      ]
    },
    {
      "cell_type": "code",
      "metadata": {
        "id": "QBdZ7mafoJQu"
      },
      "source": [
        ""
      ],
      "execution_count": null,
      "outputs": []
    }
  ]
}