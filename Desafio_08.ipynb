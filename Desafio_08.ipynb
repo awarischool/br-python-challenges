{
  "nbformat": 4,
  "nbformat_minor": 0,
  "metadata": {
    "colab": {
      "name": "Desafio_08.ipynb",
      "provenance": [],
      "collapsed_sections": [],
      "authorship_tag": "ABX9TyNJJlGn9JKc3W1ThaTq9GQ/",
      "include_colab_link": true
    },
    "kernelspec": {
      "name": "python3",
      "display_name": "Python 3"
    },
    "language_info": {
      "name": "python"
    }
  },
  "cells": [
    {
      "cell_type": "markdown",
      "metadata": {
        "id": "view-in-github",
        "colab_type": "text"
      },
      "source": [
        "<a href=\"https://colab.research.google.com/github/matcarvalho/br-python-challenges/blob/master/Desafio_08.ipynb\" target=\"_parent\"><img src=\"https://colab.research.google.com/assets/colab-badge.svg\" alt=\"Open In Colab\"/></a>"
      ]
    },
    {
      "cell_type": "markdown",
      "metadata": {
        "id": "b3jQucMDgu50"
      },
      "source": [
        "Escreva um script Python para encontrar as 10 palavras mais longas em um arquivo de texto. O arquivo .txt está localizado na mesma pasta do projeto (texto.txt)."
      ]
    },
    {
      "cell_type": "code",
      "metadata": {
        "colab": {
          "base_uri": "https://localhost:8080/"
        },
        "id": "MnZCeH-lgqmg",
        "outputId": "2334d451-8013-4b3c-ed55-9d8bab23fe45"
      },
      "source": [
        "#Importando o arquivo texto.txt do github\n",
        "!wget https://raw.githubusercontent.com/matcarvalho/br-python-challenges/master/texto.txt"
      ],
      "execution_count": 1,
      "outputs": [
        {
          "output_type": "stream",
          "text": [
            "--2021-05-23 18:36:13--  https://raw.githubusercontent.com/matcarvalho/br-python-challenges/master/texto.txt\n",
            "Resolving raw.githubusercontent.com (raw.githubusercontent.com)... 185.199.110.133, 185.199.111.133, 185.199.108.133, ...\n",
            "Connecting to raw.githubusercontent.com (raw.githubusercontent.com)|185.199.110.133|:443... connected.\n",
            "HTTP request sent, awaiting response... 200 OK\n",
            "Length: 766 [text/plain]\n",
            "Saving to: ‘texto.txt’\n",
            "\n",
            "texto.txt           100%[===================>]     766  --.-KB/s    in 0s      \n",
            "\n",
            "2021-05-23 18:36:14 (34.9 MB/s) - ‘texto.txt’ saved [766/766]\n",
            "\n"
          ],
          "name": "stdout"
        }
      ]
    },
    {
      "cell_type": "code",
      "metadata": {
        "colab": {
          "base_uri": "https://localhost:8080/"
        },
        "id": "hMrSUZX9kJMq",
        "outputId": "95fdc2b4-4db8-4357-9a34-554f17d4fcbd"
      },
      "source": [
        "# https://algoritmosempython.com.br/cursos/programacao-python/conjuntos/\n",
        "\n",
        "arq = open(\"texto.txt\") #carregando o arquivo\n",
        "text = arq.readlines() #Lendo o conteúdo do arquivo\n",
        "text #Exibindo o conteúdo do arquivo"
      ],
      "execution_count": 31,
      "outputs": [
        {
          "output_type": "execute_result",
          "data": {
            "text/plain": [
              "['What is Python language?                                                \\n',\n",
              " 'Python is a widely used high-level, general-purpose, interpreted, dynamic programming language.Its design philosophy emphasizes code readability, and its syntax allows programmers to express concepts in fewer lines of code than possible in \\n',\n",
              " 'languages such as C++ or Java. \\n',\n",
              " 'Python supports multiple programming paradigms, including object-oriented, imperative and functional programming or procedural styles.It features a dynamic type system and automatic memory management and has a large and comprehensive standard library.The best way we learn anything is by practice and exercise questions. We  have started this section for those (beginner to intermediate) who are familiar with Python.']"
            ]
          },
          "metadata": {
            "tags": []
          },
          "execution_count": 31
        }
      ]
    },
    {
      "cell_type": "code",
      "metadata": {
        "colab": {
          "base_uri": "https://localhost:8080/"
        },
        "id": "mieeF14EmKbq",
        "outputId": "f269db48-7abe-4989-da41-a5f1dc3a0e84"
      },
      "source": [
        "import string #Importando a biblioteca string\n",
        "\n",
        "# Chamando a função que carrega caracteres não alfanumérico string.punctuation\n",
        "# O list comprehension verifica letra por letra para separar na nova lista somente palavras.\n",
        "new_text = \"\".join([w for w in str(text) if w not in string.punctuation])\n",
        "\n",
        "# Sorted -> Ordena a lista | Atributo key -> como será classificado | reverse é o tipo de ordenação - > true é decrescente\n",
        "# set -> Transforma a lista em valores únicos\n",
        "# split -> Separa as palavras pelos espaços\n",
        "# [0:10] -> somente os 10 primeiros\n",
        "sorted(set(new_text.split(\" \")), key=len, reverse=True)[0:10]"
      ],
      "execution_count": 60,
      "outputs": [
        {
          "output_type": "execute_result",
          "data": {
            "text/plain": [
              "['objectoriented',\n",
              " 'generalpurpose',\n",
              " 'comprehensive',\n",
              " 'intermediate',\n",
              " 'programming',\n",
              " 'readability',\n",
              " 'languageIts',\n",
              " 'interpreted',\n",
              " 'programmers',\n",
              " 'imperative']"
            ]
          },
          "metadata": {
            "tags": []
          },
          "execution_count": 60
        }
      ]
    }
  ]
}