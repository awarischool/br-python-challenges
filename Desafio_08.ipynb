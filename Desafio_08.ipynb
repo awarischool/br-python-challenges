{
  "nbformat": 4,
  "nbformat_minor": 0,
  "metadata": {
    "anaconda-cloud": {},
    "kernelspec": {
      "display_name": "Python 3",
      "language": "python",
      "name": "python3"
    },
    "language_info": {
      "codemirror_mode": {
        "name": "ipython",
        "version": 3
      },
      "file_extension": ".py",
      "mimetype": "text/x-python",
      "name": "python",
      "nbconvert_exporter": "python",
      "pygments_lexer": "ipython3",
      "version": "3.6.5"
    },
    "colab": {
      "name": "Desafio 8.ipynb",
      "provenance": [],
      "include_colab_link": true
    }
  },
  "cells": [
    {
      "cell_type": "markdown",
      "metadata": {
        "id": "view-in-github",
        "colab_type": "text"
      },
      "source": [
        "<a href=\"https://colab.research.google.com/github/armandocesar/br-python-challenges/blob/master/Desafio_08.ipynb\" target=\"_parent\"><img src=\"https://colab.research.google.com/assets/colab-badge.svg\" alt=\"Open In Colab\"/></a>"
      ]
    },
    {
      "cell_type": "markdown",
      "metadata": {
        "id": "o3tkeMDNf6Jo"
      },
      "source": [
        "### Desafio 8\n",
        "\n",
        "Escreva um script Python para encontrar as 10 palavras mais longas em um arquivo.\n",
        "\n",
        "O arquivo TXT está localizado na mesma pasta do projeto (texto.txt)."
      ]
    },
    {
      "cell_type": "code",
      "metadata": {
        "id": "EknxjSG0f6Jo"
      },
      "source": [
        "# Seu código"
      ],
      "execution_count": null,
      "outputs": []
    },
    {
      "cell_type": "code",
      "metadata": {
        "id": "ZYbqEWBG5nKx",
        "outputId": "f6f8a855-eda0-4108-8210-4b51a8c6dc00",
        "colab": {
          "base_uri": "https://localhost:8080/",
          "height": 68
        }
      },
      "source": [
        "!npx degit armandocesar/br-python-challenges -f"
      ],
      "execution_count": 2,
      "outputs": [
        {
          "output_type": "stream",
          "text": [
            "\u001b[K\u001b[?25hnpx: installed 1 in 2.426s\n",
            "\u001b[36m> destination directory is not empty. Using --force, continuing\u001b[39m\n",
            "\u001b[36m> cloned \u001b[1marmandocesar/br-python-challenges\u001b[22m#\u001b[1mmaster\u001b[22m\u001b[39m\n"
          ],
          "name": "stdout"
        }
      ]
    },
    {
      "cell_type": "code",
      "metadata": {
        "id": "WTXdu29_zC1_"
      },
      "source": [
        "arquivo = open(\"texto.txt\", \"rt\")\n",
        "texto = arquivo.read()\n",
        "lista_texto = list(texto.split())"
      ],
      "execution_count": 26,
      "outputs": []
    },
    {
      "cell_type": "code",
      "metadata": {
        "id": "auF1bPpbuc7i"
      },
      "source": [
        "tam = [len(i) for i in lista_texto]"
      ],
      "execution_count": 39,
      "outputs": []
    },
    {
      "cell_type": "code",
      "metadata": {
        "id": "oZmT-53qDc2o"
      },
      "source": [
        "merge = [(tam[i], lista_texto[i]) for i in range(len(tam))]"
      ],
      "execution_count": 41,
      "outputs": []
    },
    {
      "cell_type": "code",
      "metadata": {
        "id": "TUz-5WMjqS54"
      },
      "source": [
        "u_merge = list(set(merge))"
      ],
      "execution_count": 61,
      "outputs": []
    },
    {
      "cell_type": "code",
      "metadata": {
        "id": "ywvFzucYDlKn"
      },
      "source": [
        "sort = sorted(u_merge, reverse=True)"
      ],
      "execution_count": 62,
      "outputs": []
    },
    {
      "cell_type": "code",
      "metadata": {
        "id": "QgNh-KgJnnEs",
        "outputId": "b26acf33-8474-4d97-eca3-269d600bedb5",
        "colab": {
          "base_uri": "https://localhost:8080/",
          "height": 187
        }
      },
      "source": [
        "for x in range(10):\n",
        "  print(sort[x])"
      ],
      "execution_count": 64,
      "outputs": [
        {
          "output_type": "stream",
          "text": [
            "(16, 'object-oriented,')\n",
            "(16, 'general-purpose,')\n",
            "(13, 'intermediate)')\n",
            "(13, 'comprehensive')\n",
            "(12, 'readability,')\n",
            "(12, 'language.Its')\n",
            "(12, 'interpreted,')\n",
            "(11, 'programming')\n",
            "(11, 'programmers')\n",
            "(11, 'library.The')\n"
          ],
          "name": "stdout"
        }
      ]
    },
    {
      "cell_type": "code",
      "metadata": {
        "id": "mJf3o937pmyc"
      },
      "source": [
        ""
      ],
      "execution_count": null,
      "outputs": []
    }
  ]
}