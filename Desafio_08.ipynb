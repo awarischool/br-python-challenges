{
  "cells": [
    {
      "cell_type": "markdown",
      "metadata": {
        "id": "view-in-github",
        "colab_type": "text"
      },
      "source": [
        "<a href=\"https://colab.research.google.com/github/pabloviniciuzz/desafios-python/blob/master/Desafio_08.ipynb\" target=\"_parent\"><img src=\"https://colab.research.google.com/assets/colab-badge.svg\" alt=\"Open In Colab\"/></a>"
      ]
    },
    {
      "cell_type": "markdown",
      "metadata": {
        "id": "o3tkeMDNf6Jo"
      },
      "source": [
        "### Desafio 8\n",
        "\n",
        "Escreva um script Python para encontrar as 10 palavras mais longas em um arquivo de texto.\n",
        "O arquivo .txt está localizado na mesma pasta do projeto (**texto.txt**)."
      ]
    },
    {
      "cell_type": "code",
      "source": [
        "from operator import itemgetter\n",
        "with open('texto.txt', 'r') as f:\n",
        "    dic = {}    \n",
        "    conteudo = f.read().replace('.', ' ').replace('-', ' ').replace(',', ' ').replace(')', ' ')\n",
        "    for palavra in conteudo.split():\n",
        "        dic[f'{palavra}'] = len(palavra)\n",
        "        ordem = sorted(dic.items(), key=itemgetter(1), reverse=True)\n",
        "    for k, v in enumerate(ordem):\n",
        "        if k < 10:\n",
        "            print(v[0], v[1])"
      ],
      "metadata": {
        "id": "1WTFP4RxOWsl",
        "outputId": "dd0b97bc-25b8-44fd-ef4d-34f15d259a9d",
        "colab": {
          "base_uri": "https://localhost:8080/"
        }
      },
      "execution_count": 47,
      "outputs": [
        {
          "output_type": "stream",
          "name": "stdout",
          "text": [
            "comprehensive 13\n",
            "intermediate 12\n",
            "interpreted 11\n",
            "programming 11\n",
            "readability 11\n",
            "programmers 11\n",
            "philosophy 10\n",
            "emphasizes 10\n",
            "imperative 10\n",
            "functional 10\n"
          ]
        }
      ]
    }
  ],
  "metadata": {
    "anaconda-cloud": {},
    "colab": {
      "name": "Desafio 8.ipynb",
      "provenance": [],
      "include_colab_link": true
    },
    "kernelspec": {
      "display_name": "Python 3",
      "language": "python",
      "name": "python3"
    },
    "language_info": {
      "codemirror_mode": {
        "name": "ipython",
        "version": 3
      },
      "file_extension": ".py",
      "mimetype": "text/x-python",
      "name": "python",
      "nbconvert_exporter": "python",
      "pygments_lexer": "ipython3",
      "version": "3.7.9"
    }
  },
  "nbformat": 4,
  "nbformat_minor": 0
}