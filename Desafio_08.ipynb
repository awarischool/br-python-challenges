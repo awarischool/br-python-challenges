{
  "nbformat": 4,
  "nbformat_minor": 0,
  "metadata": {
    "anaconda-cloud": {},
    "colab": {
      "name": "Desafio 8.ipynb",
      "provenance": [],
      "include_colab_link": true
    },
    "kernelspec": {
      "display_name": "Python 3",
      "language": "python",
      "name": "python3"
    },
    "language_info": {
      "codemirror_mode": {
        "name": "ipython",
        "version": 3
      },
      "file_extension": ".py",
      "mimetype": "text/x-python",
      "name": "python",
      "nbconvert_exporter": "python",
      "pygments_lexer": "ipython3",
      "version": "3.7.9"
    }
  },
  "cells": [
    {
      "cell_type": "markdown",
      "metadata": {
        "id": "view-in-github",
        "colab_type": "text"
      },
      "source": [
        "<a href=\"https://colab.research.google.com/github/BielSousa/br-python-challenges/blob/master/Desafio_08.ipynb\" target=\"_parent\"><img src=\"https://colab.research.google.com/assets/colab-badge.svg\" alt=\"Open In Colab\"/></a>"
      ]
    },
    {
      "cell_type": "markdown",
      "metadata": {
        "id": "o3tkeMDNf6Jo"
      },
      "source": [
        "### Desafio 8\n",
        "\n",
        "Escreva um script Python para encontrar as 10 palavras mais longas em um arquivo de texto.\n",
        "O arquivo .txt está localizado na mesma pasta do projeto (**texto.txt**)."
      ]
    },
    {
      "cell_type": "code",
      "metadata": {
        "colab": {
          "base_uri": "https://localhost:8080/"
        },
        "id": "EknxjSG0f6Jo",
        "outputId": "5d2d55a9-8540-4bf4-b421-8719e130ce1d"
      },
      "source": [
        "with open('texto.txt', \"r\") as documento:\n",
        "    data = documento.read().replace(')', ' ').replace('(', ' ').replace('\\ufeff', ' ').replace('.', ' ').replace(',', ' ').replace('\\n', ' ').strip().split(' ')\n",
        "\n",
        "#Conta o tamanho das palavras\n",
        "words_len = {}\n",
        "for word in data:\n",
        "    words_len[word] = len(word)\n",
        "\n",
        "#Ordena as palavras pelo tamanho\n",
        "resultado = sorted(words_len, key = words_len.get, reverse=True)\n",
        "    \n",
        "#Cria novo dicinario contendo os valores ordenados\n",
        "n_dicionario = {}\n",
        "for r in resultado:\n",
        "    n_dicionario[r] = words_len[r]\n",
        "\n",
        "for i, word in enumerate(n_dicionario):\n",
        "    if i < 10:\n",
        "        print(f'{word}: {len(word)}')\n",
        "\n"
      ],
      "execution_count": 13,
      "outputs": [
        {
          "output_type": "stream",
          "text": [
            "general-purpose: 15\n",
            "object-oriented: 15\n",
            "comprehensive: 13\n",
            "intermediate: 12\n",
            "interpreted: 11\n",
            "programming: 11\n",
            "readability: 11\n",
            "programmers: 11\n",
            "high-level: 10\n",
            "philosophy: 10\n"
          ],
          "name": "stdout"
        }
      ]
    }
  ]
}