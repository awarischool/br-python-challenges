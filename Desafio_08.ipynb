{
  "nbformat": 4,
  "nbformat_minor": 0,
  "metadata": {
    "anaconda-cloud": {},
    "kernelspec": {
      "display_name": "Python 3",
      "language": "python",
      "name": "python3"
    },
    "language_info": {
      "codemirror_mode": {
        "name": "ipython",
        "version": 3
      },
      "file_extension": ".py",
      "mimetype": "text/x-python",
      "name": "python",
      "nbconvert_exporter": "python",
      "pygments_lexer": "ipython3",
      "version": "3.7.9-final"
    },
    "colab": {
      "name": "Desafio 8.ipynb",
      "provenance": [],
      "include_colab_link": true
    }
  },
  "cells": [
    {
      "cell_type": "markdown",
      "metadata": {
        "id": "view-in-github",
        "colab_type": "text"
      },
      "source": [
        "<a href=\"https://colab.research.google.com/github/WittmannF/br-data-science/blob/master/python/challenges/Desafio_8.ipynb\" target=\"_parent\"><img src=\"https://colab.research.google.com/assets/colab-badge.svg\" alt=\"Open In Colab\"/></a>"
      ]
    },
    {
      "cell_type": "markdown",
      "metadata": {
        "id": "o3tkeMDNf6Jo",
        "colab_type": "text"
      },
      "source": [
        "### Desafio 8\n",
        "\n",
        "Escreva um script Python para encontrar as 10 palavras mais longas em um arquivo.\n",
        "\n",
        "O arquivo TXT está localizado na mesma pasta do projeto (texto.txt)."
      ]
    },
    {
      "cell_type": "code",
      "metadata": {
        "id": "EknxjSG0f6Jo",
        "colab_type": "code",
        "colab": {}
      },
      "source": [
        "# import necessary libraries\n",
        "import re"
      ],
      "execution_count": 1,
      "outputs": []
    },
    {
      "cell_type": "code",
      "execution_count": 2,
      "metadata": {},
      "outputs": [],
      "source": [
        "def get_words(text):\n",
        "    '''Returns the 10 longest words of a given list'''\n",
        "    words = []\n",
        "    # read file and split into words by ' '\n",
        "    with open(text, 'r') as f:\n",
        "        words = f.read().split()\n",
        "    # clean punctuation\n",
        "    cl_words = []\n",
        "    for word in words:\n",
        "        cl_words.append(re.sub(r'[^\\w\\s]','',word))\n",
        "    # sort words by length - reversed\n",
        "    cl_words = sorted(cl_words, key=len, reverse=True)\n",
        "    \n",
        "    # check if there are at least 10 words in the list\n",
        "    if len(cl_words) > 10:\n",
        "        return cl_words[0:10]\n",
        "\n",
        "    return cl_words"
      ]
    },
    {
      "cell_type": "code",
      "execution_count": 3,
      "metadata": {},
      "outputs": [],
      "source": [
        " words = get_words('texto.txt')"
      ]
    },
    {
      "cell_type": "code",
      "execution_count": 4,
      "metadata": {},
      "outputs": [
        {
          "output_type": "execute_result",
          "data": {
            "text/plain": [
              "['generalpurpose',\n",
              " 'objectoriented',\n",
              " 'comprehensive',\n",
              " 'intermediate',\n",
              " 'interpreted',\n",
              " 'programming',\n",
              " 'languageIts',\n",
              " 'readability',\n",
              " 'programmers',\n",
              " 'programming']"
            ]
          },
          "metadata": {},
          "execution_count": 4
        }
      ],
      "source": [
        "words"
      ]
    },
    {
      "cell_type": "code",
      "execution_count": 5,
      "metadata": {},
      "outputs": [],
      "source": [
        "def print_ranking(words):\n",
        "    print(f'Ranking\\tWord')\n",
        "    for idx, word in enumerate(words):\n",
        "        print(f'{idx + 1:>7}\\t{word}')\n",
        "        "
      ]
    },
    {
      "cell_type": "code",
      "execution_count": 6,
      "metadata": {},
      "outputs": [
        {
          "output_type": "stream",
          "name": "stdout",
          "text": [
            "Ranking\tWord\n      1\tgeneralpurpose\n      2\tobjectoriented\n      3\tcomprehensive\n      4\tintermediate\n      5\tinterpreted\n      6\tprogramming\n      7\tlanguageIts\n      8\treadability\n      9\tprogrammers\n     10\tprogramming\n"
          ]
        }
      ],
      "source": [
        "print_ranking(words)"
      ]
    },
    {
      "cell_type": "code",
      "execution_count": null,
      "metadata": {},
      "outputs": [],
      "source": []
    }
  ]
}