{
 "cells": [
  {
   "cell_type": "markdown",
   "metadata": {
    "colab_type": "text",
    "id": "view-in-github"
   },
   "source": [
    "![](https://i.imgur.com/YX6UATs.png)"
   ]
  },
  {
   "cell_type": "markdown",
   "metadata": {
    "colab_type": "text",
    "id": "o3tkeMDNf6Jo"
   },
   "source": [
    "### Desafio 8\n",
    "\n",
    "Escreva um script Python para encontrar as 10 palavras mais longas em um arquivo de texto.\n",
    "O arquivo .txt está localizado na mesma pasta do projeto (**texto.txt**)."
   ]
  },
  {
   "source": [
    "### Abre e lê arquivo de texto"
   ],
   "cell_type": "markdown",
   "metadata": {
    "colab": {},
    "colab_type": "code",
    "id": "ZYbqEWBG5nKx"
   }
  },
  {
   "cell_type": "code",
   "execution_count": 9,
   "metadata": {},
   "outputs": [
    {
     "output_type": "execute_result",
     "data": {
      "text/plain": [
       "'What is Python language?                                                \\nPython is a widely used high-level, general-purpose, interpreted, dynamic programming language.Its design philosophy emphasizes code readability, and its syntax allows programmers to express concepts in fewer lines of code than possible in \\nlanguages such as C++ or Java. \\nPython supports multiple programming paradigms, including object-oriented, imperative and functional programming or procedural styles.It features a dynamic type system and automatic memory management and has a large and comprehensive standard library.The best way we learn anything is by practice and exercise questions. We  have started this section for those (beginner to intermediate) who are familiar with Python.'"
      ]
     },
     "metadata": {},
     "execution_count": 9
    }
   ],
   "source": [
    "texto = open(\"texto.txt\", \"r\").read()\n",
    "\n",
    "texto"
   ]
  },
  {
   "source": [
    "### Remove símbolos não pertencentes a palavras e os substitui por um espaço vazio"
   ],
   "cell_type": "markdown",
   "metadata": {}
  },
  {
   "cell_type": "code",
   "execution_count": 10,
   "metadata": {},
   "outputs": [
    {
     "output_type": "execute_result",
     "data": {
      "text/plain": [
       "'What is Python language                                                  Python is a widely used high-level  general-purpose  interpreted  dynamic programming language Its design philosophy emphasizes code readability  and its syntax allows programmers to express concepts in fewer lines of code than possible in  languages such as C++ or Java   Python supports multiple programming paradigms  including object-oriented  imperative and functional programming or procedural styles It features a dynamic type system and automatic memory management and has a large and comprehensive standard library The best way we learn anything is by practice and exercise questions  We  have started this section for those  beginner to intermediate  who are familiar with Python '"
      ]
     },
     "metadata": {},
     "execution_count": 10
    }
   ],
   "source": [
    "for simbolo in \",.)(?\\n\":\n",
    "    texto = texto.replace(simbolo, ' ')\n",
    "\n",
    "texto"
   ]
  },
  {
   "source": [
    "### Designa cada palavra como um item de uma lista e os ordena em ordem inversa de tamanho"
   ],
   "cell_type": "markdown",
   "metadata": {}
  },
  {
   "cell_type": "code",
   "execution_count": 11,
   "metadata": {},
   "outputs": [
    {
     "output_type": "execute_result",
     "data": {
      "text/plain": [
       "['general-purpose',\n",
       " 'object-oriented',\n",
       " 'comprehensive',\n",
       " 'intermediate',\n",
       " 'interpreted',\n",
       " 'programming',\n",
       " 'readability',\n",
       " 'programmers',\n",
       " 'programming',\n",
       " 'programming',\n",
       " 'high-level',\n",
       " 'philosophy',\n",
       " 'emphasizes',\n",
       " 'imperative',\n",
       " 'functional',\n",
       " 'procedural',\n",
       " 'management',\n",
       " 'languages',\n",
       " 'paradigms',\n",
       " 'including',\n",
       " 'automatic',\n",
       " 'questions',\n",
       " 'language',\n",
       " 'language',\n",
       " 'concepts',\n",
       " 'possible',\n",
       " 'supports',\n",
       " 'multiple',\n",
       " 'features',\n",
       " 'standard',\n",
       " 'anything',\n",
       " 'practice',\n",
       " 'exercise',\n",
       " 'beginner',\n",
       " 'familiar',\n",
       " 'dynamic',\n",
       " 'express',\n",
       " 'dynamic',\n",
       " 'library',\n",
       " 'started',\n",
       " 'section',\n",
       " 'Python',\n",
       " 'Python',\n",
       " 'widely',\n",
       " 'design',\n",
       " 'syntax',\n",
       " 'allows',\n",
       " 'Python',\n",
       " 'styles',\n",
       " 'system',\n",
       " 'memory',\n",
       " 'Python',\n",
       " 'fewer',\n",
       " 'lines',\n",
       " 'large',\n",
       " 'learn',\n",
       " 'those',\n",
       " 'What',\n",
       " 'used',\n",
       " 'code',\n",
       " 'code',\n",
       " 'than',\n",
       " 'such',\n",
       " 'Java',\n",
       " 'type',\n",
       " 'best',\n",
       " 'have',\n",
       " 'this',\n",
       " 'with',\n",
       " 'Its',\n",
       " 'and',\n",
       " 'its',\n",
       " 'C++',\n",
       " 'and',\n",
       " 'and',\n",
       " 'and',\n",
       " 'has',\n",
       " 'and',\n",
       " 'The',\n",
       " 'way',\n",
       " 'and',\n",
       " 'for',\n",
       " 'who',\n",
       " 'are',\n",
       " 'is',\n",
       " 'is',\n",
       " 'to',\n",
       " 'in',\n",
       " 'of',\n",
       " 'in',\n",
       " 'as',\n",
       " 'or',\n",
       " 'or',\n",
       " 'It',\n",
       " 'we',\n",
       " 'is',\n",
       " 'by',\n",
       " 'We',\n",
       " 'to',\n",
       " 'a',\n",
       " 'a',\n",
       " 'a']"
      ]
     },
     "metadata": {},
     "execution_count": 11
    }
   ],
   "source": [
    "lista_de_palavras = texto.split()\n",
    "\n",
    "def tamanho(x):\n",
    "    return len(x)\n",
    "\n",
    "lista_de_palavras.sort(key=tamanho, reverse=True)\n",
    "\n",
    "lista_de_palavras"
   ]
  },
  {
   "source": [
    "### Lista 10 maiores palavras em ordem crescente sem repetição"
   ],
   "cell_type": "markdown",
   "metadata": {}
  },
  {
   "cell_type": "code",
   "execution_count": 13,
   "metadata": {},
   "outputs": [
    {
     "output_type": "stream",
     "name": "stdout",
     "text": [
      "Maiores palavras: \n1ª - general-purpose\n2ª - object-oriented\n3ª - comprehensive\n4ª - intermediate\n5ª - interpreted\n6ª - programming\n7ª - readability\n8ª - programmers\n9ª - high-level\n10ª - philosophy\n"
     ]
    }
   ],
   "source": [
    "maiores_palavras =[]\n",
    "contador = 0\n",
    "\n",
    "while len(maiores_palavras)<10:\n",
    "    if lista_de_palavras[contador] not in maiores_palavras:\n",
    "        maiores_palavras.append(lista_de_palavras[contador])\n",
    "    else:\n",
    "        contador += 1\n",
    "\n",
    "print(\"Maiores palavras: \")\n",
    "\n",
    "for x in range(0,10):\n",
    "    print(f'{x+1}ª - {maiores_palavras[x]}')"
   ]
  },
  {
   "cell_type": "code",
   "execution_count": null,
   "metadata": {},
   "outputs": [],
   "source": []
  }
 ],
 "metadata": {
  "anaconda-cloud": {},
  "colab": {
   "include_colab_link": true,
   "name": "Desafio 8.ipynb",
   "provenance": []
  },
  "kernelspec": {
   "display_name": "Python 3",
   "language": "python",
   "name": "python3"
  },
  "language_info": {
   "codemirror_mode": {
    "name": "ipython",
    "version": 3
   },
   "file_extension": ".py",
   "mimetype": "text/x-python",
   "name": "python",
   "nbconvert_exporter": "python",
   "pygments_lexer": "ipython3",
   "version": "3.8.5"
  }
 },
 "nbformat": 4,
 "nbformat_minor": 1
}