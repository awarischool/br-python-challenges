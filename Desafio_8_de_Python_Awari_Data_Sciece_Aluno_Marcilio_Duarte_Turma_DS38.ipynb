{
  "nbformat": 4,
  "nbformat_minor": 0,
  "metadata": {
    "colab": {
      "name": "Desafio 8 de Python - Awari_Data Sciece - Aluno: Marcilio Duarte_Turma_DS38",
      "provenance": [],
      "authorship_tag": "ABX9TyMSSSI36flsE0MkU2NVRDau",
      "include_colab_link": true
    },
    "kernelspec": {
      "name": "python3",
      "display_name": "Python 3"
    },
    "language_info": {
      "name": "python"
    }
  },
  "cells": [
    {
      "cell_type": "markdown",
      "metadata": {
        "id": "view-in-github",
        "colab_type": "text"
      },
      "source": [
        "<a href=\"https://colab.research.google.com/github/marcilioduarte/br-python-challenges/blob/master/Desafio_8_de_Python_Awari_Data_Sciece_Aluno_Marcilio_Duarte_Turma_DS38.ipynb\" target=\"_parent\"><img src=\"https://colab.research.google.com/assets/colab-badge.svg\" alt=\"Open In Colab\"/></a>"
      ]
    },
    {
      "cell_type": "markdown",
      "source": [
        "![](https://i.imgur.com/YX6UATs.png)\n"
      ],
      "metadata": {
        "id": "MacXeo6FTB7r"
      }
    },
    {
      "cell_type": "markdown",
      "source": [
        "### Desafio 8\n",
        "\n",
        "Escreva um script Python para encontrar as 10 palavras mais longas em um arquivo de texto.\n",
        "O arquivo .txt está localizado na mesma pasta do projeto (**texto.txt**)."
      ],
      "metadata": {
        "id": "mqI_oC0ATGbk"
      }
    },
    {
      "cell_type": "code",
      "source": [
        "#colei porque não consegui fazer sozinho\n",
        "\n",
        "from operator import itemgetter\n",
        "with open('texto.txt','r') as t_base:\n",
        "  dic={}\n",
        "  conteudo=t_base.read().replace('.',' ').replace('-', \" \").replace(',',' ').replace(')', ' ')\n",
        "  for palavra in conteudo.split():\n",
        "    dic[f'{palavra}']=len(palavra)\n",
        "    ordem=sorted(dic.items(),key=itemgetter(1),reverse=True)\n",
        "  for k, v in enumerate(ordem):\n",
        "    if k < 10:\n",
        "      print(v[0],v[1])"
      ],
      "metadata": {
        "id": "IX-Z5n1ATKGR",
        "colab": {
          "base_uri": "https://localhost:8080/"
        },
        "outputId": "8bdc06bf-6559-4606-ed36-1c6ea0dc65c4"
      },
      "execution_count": null,
      "outputs": [
        {
          "output_type": "stream",
          "name": "stdout",
          "text": [
            "comprehensive 13\n",
            "intermediate 12\n",
            "interpreted 11\n",
            "programming 11\n",
            "readability 11\n",
            "programmers 11\n",
            "philosophy 10\n",
            "emphasizes 10\n",
            "imperative 10\n",
            "functional 10\n"
          ]
        }
      ]
    },
    {
      "cell_type": "code",
      "source": [
        ""
      ],
      "metadata": {
        "id": "ouy8i6u24W3U"
      },
      "execution_count": null,
      "outputs": []
    }
  ]
}