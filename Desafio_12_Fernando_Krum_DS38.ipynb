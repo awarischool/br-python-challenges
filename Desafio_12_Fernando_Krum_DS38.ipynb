{
  "cells": [
    {
      "cell_type": "markdown",
      "metadata": {
        "id": "view-in-github",
        "colab_type": "text"
      },
      "source": [
        "<a href=\"https://colab.research.google.com/github/ferkrum/DS-Notebooks-br-python-challenges/blob/master/Desafio_12_Fernando_Krum_DS38.ipynb\" target=\"_parent\"><img src=\"https://colab.research.google.com/assets/colab-badge.svg\" alt=\"Open In Colab\"/></a>"
      ]
    },
    {
      "cell_type": "markdown",
      "metadata": {
        "id": "AYHY2YXQf6J2"
      },
      "source": [
        "### Desafio 12\n",
        "\n",
        "Escreva uma função em Python para verificar a validade de uma senha.\n",
        "\n",
        "A senha deve ter:\n",
        "\n",
        "* Pelo menos 1 letra entre [a-z] e 1 letra entre [A-Z].\n",
        "* Pelo menos 1 número entre [0-9].\n",
        "* Pelo menos 1 caractere de [$ # @].\n",
        "* Comprimento mínimo de 6 caracteres.\n",
        "* Comprimento máximo de 16 caracteres.\n",
        "\n",
        "Entradas: \"12345678\", \"J3sus0\", \"#Te5t300\", \"J*90j12374\", \"Michheeul\", \"Monk3y6\"\n",
        "\n",
        "A saída deve ser a senha e um texto indicando se a senha é válida ou inválida:\n",
        "\n",
        "```\n",
        "\"1234\" - Senha inválida\n",
        "\"Qw#1234\" - Senha válida\n",
        "```"
      ]
    },
    {
      "cell_type": "code",
      "source": [
        "texto = 'fernando'"
      ],
      "metadata": {
        "id": "wnFRu_2oCuiW"
      },
      "execution_count": 7,
      "outputs": []
    },
    {
      "cell_type": "code",
      "source": [
        "'f' in texto"
      ],
      "metadata": {
        "id": "NBtG1ptFERDO",
        "outputId": "6324326d-80c7-4ef1-edab-315266d94d81",
        "colab": {
          "base_uri": "https://localhost:8080/"
        }
      },
      "execution_count": 24,
      "outputs": [
        {
          "output_type": "execute_result",
          "data": {
            "text/plain": [
              "True"
            ]
          },
          "metadata": {},
          "execution_count": 24
        }
      ]
    },
    {
      "cell_type": "code",
      "execution_count": 56,
      "metadata": {
        "id": "UGgtGYGGf6J3"
      },
      "outputs": [],
      "source": [
        "# Seu código\n",
        "#para checar as senhas vamos obter os valores ASCII das entradas das\n",
        "#letras em minúsculo, em maiúsculo, os números 0-9 e os caracteres especiais.\n",
        "#A função ord() devolve o valor ascii\n",
        "#A função chr() faz o contrário\n",
        "#a-z = 97 a 123\n",
        "#A-Z = 65 a 90\n",
        "#0-9 = 48 a 57\n",
        "#$ = 36, # = 35, @ = 64\n",
        "\n",
        "def validaSenha(senha):\n",
        "  testeTamanho = False\n",
        "  testeMinusculo = False\n",
        "  testeMaiusculo = False\n",
        "  testeNumeros = False\n",
        "  testeCaractEsp = False\n",
        "  if (len(senha)>=6) and (len(senha)<=16):\n",
        "    testeTamanho = True\n",
        "  for i in senha:\n",
        "    if (ord(i) >= 97) and (ord(i) <= 123):\n",
        "      testeMinusculo = True\n",
        "    if (ord(i) >= 65) and (ord(i) <= 90):\n",
        "      testeMaiusculo = True\n",
        "    if (ord(i) >= 48) and (ord(i) <= 57):\n",
        "      testeNumeros = True\n",
        "    if (ord(i) == 36) or (ord(i) == 35) or (ord(i) == 64):\n",
        "      testeCaractEsp = True\n",
        "  \n",
        "  \n",
        "  print('testeTamanho:', testeTamanho)\n",
        "  print('testeMinusculo:', testeMinusculo)\n",
        "  print('testeMaiusculo:', testeMaiusculo)\n",
        "  print('testeNumeros:', testeNumeros)\n",
        "  print('testeCaractEsp:', testeCaractEsp)\n",
        "  \n",
        "  if (testeMinusculo and testeMaiusculo and testeNumeros and testeCaractEsp and testeTamanho):\n",
        "    print(senha)\n",
        "    print('Senha válida!')\n",
        "  else:\n",
        "    print('Senha inválida!')"
      ]
    },
    {
      "cell_type": "code",
      "source": [
        "validaSenha('akjkjMaaa9@')"
      ],
      "metadata": {
        "id": "l-ogL4x5F2Ma",
        "outputId": "e02e131d-ebf7-4da7-82f1-d3f18c356b3c",
        "colab": {
          "base_uri": "https://localhost:8080/"
        }
      },
      "execution_count": 58,
      "outputs": [
        {
          "output_type": "stream",
          "name": "stdout",
          "text": [
            "testeTamanho: True\n",
            "testeMinusculo: True\n",
            "testeMaiusculo: True\n",
            "testeNumeros: True\n",
            "testeCaractEsp: True\n",
            "akjkjMaaa9@\n",
            "Senha válida!\n"
          ]
        }
      ]
    }
  ],
  "metadata": {
    "anaconda-cloud": {},
    "colab": {
      "name": "Desafio 12.ipynb",
      "provenance": [],
      "include_colab_link": true
    },
    "kernelspec": {
      "display_name": "Python 3",
      "language": "python",
      "name": "python3"
    },
    "language_info": {
      "codemirror_mode": {
        "name": "ipython",
        "version": 3
      },
      "file_extension": ".py",
      "mimetype": "text/x-python",
      "name": "python",
      "nbconvert_exporter": "python",
      "pygments_lexer": "ipython3",
      "version": "3.7.9"
    }
  },
  "nbformat": 4,
  "nbformat_minor": 0
}