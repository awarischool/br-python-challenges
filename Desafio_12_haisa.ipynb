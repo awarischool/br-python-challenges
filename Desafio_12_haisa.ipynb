{
 "cells": [
  {
   "cell_type": "markdown",
   "metadata": {
    "colab_type": "text",
    "id": "view-in-github"
   },
   "source": [
    "![](https://i.imgur.com/YX6UATs.png)"
   ]
  },
  {
   "cell_type": "markdown",
   "metadata": {
    "colab_type": "text",
    "id": "AYHY2YXQf6J2"
   },
   "source": [
    "### Desafio 12\n",
    "\n",
    "Escreva uma função em Python para verificar a validade de uma senha.\n",
    "\n",
    "A senha deve ter:\n",
    "\n",
    "* Pelo menos 1 letra entre [a-z] e 1 letra entre [A-Z].\n",
    "* Pelo menos 1 número entre [0-9].\n",
    "* Pelo menos 1 caractere de [$ # @].\n",
    "* Comprimento mínimo de 6 caracteres.\n",
    "* Comprimento máximo de 16 caracteres.\n",
    "\n",
    "Entradas: \"12345678\", \"J3sus0\", \"#Te5t300\", \"J*90j12374\", \"Michheeul\", \"Monk3y6\"\n",
    "\n",
    "A saída deve ser a senha e um texto indicando se a senha é válida ou inválida:\n",
    "\n",
    "```\n",
    "\"1234\" - Senha inválida\n",
    "\"Qw#1234\" - Senha válida\n",
    "```"
   ]
  },
  {
   "cell_type": "code",
   "execution_count": 6,
   "metadata": {
    "colab": {},
    "colab_type": "code",
    "id": "UGgtGYGGf6J3"
   },
   "outputs": [
    {
     "name": "stdout",
     "output_type": "stream",
     "text": [
      "\"1234\": Senha inválida\n",
      "\"Qw#1234\": Senha válida\n"
     ]
    }
   ],
   "source": [
    "def verificar_senha(senha):\n",
    "    mi, ma, nu, ca = 0, 0, 0, 0\n",
    "    senha = str(senha)\n",
    "    if (len(senha)>= 6 and len(senha)<=16):\n",
    "        for i in senha:\n",
    "            if (i.islower()):\n",
    "                mi+=1\n",
    "            if (i.isupper()):\n",
    "                ma+=1\n",
    "            if (i.isdigit()):\n",
    "                nu+=1\n",
    "            if (i=='$' or i=='@' or i=='#'):\n",
    "                ca+=1\n",
    "    if (mi>=1 and ma>=1 and nu>=1 and ca>=1 and mi+ma+nu+ca==len(senha)):\n",
    "        print(f'\"{senha}\": Senha válida')  \n",
    "    else:\n",
    "        print(f'\"{senha}\": Senha inválida')\n",
    "\n",
    "verificar_senha(1234)\n",
    "verificar_senha(\"Qw#1234\")"
   ]
  },
  {
   "cell_type": "code",
   "execution_count": null,
   "metadata": {},
   "outputs": [],
   "source": []
  }
 ],
 "metadata": {
  "anaconda-cloud": {},
  "colab": {
   "include_colab_link": true,
   "name": "Desafio 12.ipynb",
   "provenance": []
  },
  "kernelspec": {
   "display_name": "Python 3",
   "language": "python",
   "name": "python3"
  },
  "language_info": {
   "codemirror_mode": {
    "name": "ipython",
    "version": 3
   },
   "file_extension": ".py",
   "mimetype": "text/x-python",
   "name": "python",
   "nbconvert_exporter": "python",
   "pygments_lexer": "ipython3",
   "version": "3.8.5"
  }
 },
 "nbformat": 4,
 "nbformat_minor": 1
}
