{
  "cells": [
    {
      "cell_type": "markdown",
      "metadata": {
        "id": "9apVxxygf6JR"
      },
      "source": [
        "### Challenge 3\n",
        "\n",
        "Write a function that takes a list as input and returns a new ordered list with no duplicate values.\n"
      ]
    },
    {
      "cell_type": "code",
      "source": [
        "# Code\n",
        "\n",
        "def list_order(input_list):\n",
        "  output_list = set(input_list)\n",
        "  output_list = list(output_list)\n",
        "  output_list.sort()\n",
        "  return output_list\n"
      ],
      "metadata": {
        "id": "f8nPzidCWfbu"
      },
      "execution_count": 4,
      "outputs": []
    },
    {
      "cell_type": "code",
      "execution_count": 5,
      "metadata": {
        "colab": {
          "base_uri": "https://localhost:8080/"
        },
        "id": "ndTkQEUBf6JS",
        "outputId": "8ae5e31a-e350-4359-e24f-9cca512a61b4"
      },
      "outputs": [
        {
          "output_type": "stream",
          "name": "stdout",
          "text": [
            "[1, 2, 3, 4, 5, 6, 9, 13, 15, 30, 45]\n"
          ]
        }
      ],
      "source": [
        "values_list = [1,2,3,4,3,30,3,4,5,6,9,3,2,1,2,4,5,15,6,6,3,13,4,45,5]\n",
        "\n",
        "print(list_order(values_list))"
      ]
    }
  ],
  "metadata": {
    "anaconda-cloud": {},
    "colab": {
      "name": "Desafio 3.ipynb",
      "provenance": []
    },
    "kernelspec": {
      "display_name": "Python 3",
      "language": "python",
      "name": "python3"
    },
    "language_info": {
      "codemirror_mode": {
        "name": "ipython",
        "version": 3
      },
      "file_extension": ".py",
      "mimetype": "text/x-python",
      "name": "python",
      "nbconvert_exporter": "python",
      "pygments_lexer": "ipython3",
      "version": "3.7.9"
    }
  },
  "nbformat": 4,
  "nbformat_minor": 0
}