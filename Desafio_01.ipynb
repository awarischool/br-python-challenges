{
 "cells": [
  {
   "cell_type": "markdown",
   "metadata": {
    "colab_type": "text",
    "id": "view-in-github"
   },
   "source": [
    "<a href=\"https://colab.research.google.com/github/WittmannF/br-data-science/blob/master/python/challenges/Desafio_1.ipynb\" target=\"_parent\"><img src=\"https://colab.research.google.com/assets/colab-badge.svg\" alt=\"Open In Colab\"/></a>"
   ]
  },
  {
   "cell_type": "markdown",
   "metadata": {
    "colab_type": "text",
    "id": "SbLLE9q1eldC"
   },
   "source": [
    "### Desafio 1\n",
    "\n",
    "Escreva um programa em Python para contabilizar a quantidade de ocorrências de cada palavra."
   ]
  },
  {
   "cell_type": "code",
   "execution_count": 15,
   "metadata": {
    "colab": {},
    "colab_type": "code",
    "id": "WhtbdwFseldD"
   },
   "outputs": [
    {
     "name": "stdout",
     "output_type": "stream",
     "text": [
      "O número de vez que red aparece é: 4 vezes\n",
      "O número de vez que green aparece é: 4 vezes\n",
      "O número de vez que black aparece é: 5 vezes\n",
      "O número de vez que pink aparece é: 6 vezes\n",
      "O número de vez que white aparece é: 5 vezes\n",
      "O número de vez que eyes aparece é: 1 vezes\n",
      "O número de vez que orange aparece é: 4 vezes\n"
     ]
    }
   ],
   "source": [
    "palavras = [\n",
    "   'red', 'green', 'black', 'pink', 'black', 'white', 'black', 'eyes',\n",
    "   'white', 'black', 'orange', 'pink', 'pink', 'red', 'red', 'white', 'orange',\n",
    "   'white', \"black\", 'pink', 'green', 'green', 'pink', 'green', 'pink',\n",
    "   'white', 'orange', \"orange\", 'red'\n",
    "]\n",
    "\n",
    "print(f'O número de vez que red aparece é: {palavras.count(\"red\")} vezes')\n",
    "print(f'O número de vez que green aparece é: {palavras.count(\"green\")} vezes')\n",
    "print(f'O número de vez que black aparece é: {palavras.count(\"black\")} vezes')\n",
    "print(f'O número de vez que pink aparece é: {palavras.count(\"pink\")} vezes')\n",
    "print(f'O número de vez que white aparece é: {palavras.count(\"white\")} vezes')\n",
    "print(f'O número de vez que eyes aparece é: {palavras.count(\"eyes\")} vezes')\n",
    "print(f'O número de vez que orange aparece é: {palavras.count(\"orange\")} vezes')\n"
   ]
  },
  {
   "cell_type": "code",
   "execution_count": 42,
   "metadata": {},
   "outputs": [
    {
     "name": "stdout",
     "output_type": "stream",
     "text": [
      "O número de vezes que black aparece é: 5\n",
      "O número de vezes que eyes aparece é: 1\n",
      "O número de vezes que green aparece é: 4\n",
      "O número de vezes que orange aparece é: 4\n",
      "O número de vezes que pink aparece é: 6\n",
      "O número de vezes que red aparece é: 4\n",
      "O número de vezes que white aparece é: 5\n",
      "['black', 'black', 'black', 'black', 'black', 'eyes', 'green', 'green', 'green', 'green', 'orange', 'orange', 'orange', 'orange', 'pink', 'pink', 'pink', 'pink', 'pink', 'pink', 'red', 'red', 'red', 'red', 'white', 'white', 'white', 'white', 'white']\n"
     ]
    }
   ],
   "source": [
    "palavras = [\n",
    "   'red', 'green', 'black', 'pink', 'black', 'white', 'black', 'eyes',\n",
    "   'white', 'black', 'orange', 'pink', 'pink', 'red', 'red', 'white', 'orange',\n",
    "   'white', \"black\", 'pink', 'green', 'green', 'pink', 'green', 'pink',\n",
    "   'white', 'orange', \"orange\", 'red'\n",
    "]\n",
    "\n",
    "palavras.sort()  ## coloca em ordem alfabética\n",
    "palavras.insert(len(palavras),'lkdjsaldj') ## adciona uma palavra aleatória para poder realizar o print do último objeto\n",
    "\n",
    "item = palavras[0]\n",
    "contador =0\n",
    "for ele in palavras:\n",
    "    if ele == item:\n",
    "        contador = contador + 1\n",
    "    else:\n",
    "        print(f'O número de vezes que {item} aparece é: {contador}')\n",
    "        item = ele\n",
    "        contador = 1\n",
    "del palavras[-1]"
   ]
  },
  {
   "cell_type": "code",
   "execution_count": 41,
   "metadata": {},
   "outputs": [
    {
     "name": "stdout",
     "output_type": "stream",
     "text": [
      " O número de vezes que aparece {'red': 4, 'green': 4, 'black': 5, 'pink': 6, 'white': 5, 'eyes': 1, 'orange': 4}\n"
     ]
    }
   ],
   "source": [
    "## Mentoria \n",
    "\n",
    "palavras = [\n",
    "   'red', 'green', 'black', 'pink', 'black', 'white', 'black', 'eyes',\n",
    "   'white', 'black', 'orange', 'pink', 'pink', 'red', 'red', 'white', 'orange',\n",
    "   'white', \"black\", 'pink', 'green', 'green', 'pink', 'green', 'pink',\n",
    "   'white', 'orange', \"orange\", 'red'\n",
    "]\n",
    "biblioteca = {}\n",
    "\n",
    "for pal in palavras:\n",
    "    if pal in biblioteca.keys():\n",
    "        biblioteca[pal] = biblioteca[pal] + 1\n",
    "    else:\n",
    "        biblioteca[pal] = 1\n",
    "\n",
    "print(f' O número de vezes que aparece {biblioteca}')"
   ]
  },
  {
   "cell_type": "code",
   "execution_count": null,
   "metadata": {},
   "outputs": [],
   "source": []
  }
 ],
 "metadata": {
  "anaconda-cloud": {},
  "colab": {
   "include_colab_link": true,
   "name": "Desafio 1.ipynb",
   "provenance": []
  },
  "kernelspec": {
   "display_name": "Python 3",
   "language": "python",
   "name": "python3"
  },
  "language_info": {
   "codemirror_mode": {
    "name": "ipython",
    "version": 3
   },
   "file_extension": ".py",
   "mimetype": "text/x-python",
   "name": "python",
   "nbconvert_exporter": "python",
   "pygments_lexer": "ipython3",
   "version": "3.7.6"
  }
 },
 "nbformat": 4,
 "nbformat_minor": 1
}
