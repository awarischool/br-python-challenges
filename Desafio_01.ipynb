{
  "nbformat": 4,
  "nbformat_minor": 0,
  "metadata": {
    "colab": {
      "name": "Desafio_01.ipynb",
      "provenance": [],
      "collapsed_sections": [],
      "authorship_tag": "ABX9TyPQqjWtYWlcduMB6RqsSfWy",
      "include_colab_link": true
    },
    "kernelspec": {
      "name": "python3",
      "display_name": "Python 3"
    },
    "language_info": {
      "name": "python"
    }
  },
  "cells": [
    {
      "cell_type": "markdown",
      "metadata": {
        "id": "view-in-github",
        "colab_type": "text"
      },
      "source": [
        "<a href=\"https://colab.research.google.com/github/matcarvalho/br-python-challenges/blob/master/Desafio_01.ipynb\" target=\"_parent\"><img src=\"https://colab.research.google.com/assets/colab-badge.svg\" alt=\"Open In Colab\"/></a>"
      ]
    },
    {
      "cell_type": "markdown",
      "metadata": {
        "id": "-sFLbI5BS3hn"
      },
      "source": [
        "Escreva um programa em Python para contabilizar a quantidade de ocorrências de cada palavra.\n"
      ]
    },
    {
      "cell_type": "code",
      "metadata": {
        "id": "mAteVeM2SISr"
      },
      "source": [
        "#lista de palavras\n",
        "palavras = [\n",
        "   'red', 'green', 'black', 'pink', 'black', 'white', 'black', 'eyes',\n",
        "   'white', 'black', 'orange', 'pink', 'pink', 'red', 'red', 'white', 'orange',\n",
        "   'white', \"black\", 'pink', 'green', 'green', 'pink', 'green', 'pink',\n",
        "   'white', 'orange', \"orange\", 'red'\n",
        "]"
      ],
      "execution_count": 3,
      "outputs": []
    },
    {
      "cell_type": "code",
      "metadata": {
        "colab": {
          "base_uri": "https://localhost:8080/"
        },
        "id": "xonP_yDRSlTv",
        "outputId": "b0e34832-f6c4-463a-d02b-84b7e4799290"
      },
      "source": [
        "#Quantidade de elementos total na minha lista\n",
        "len(palavras)"
      ],
      "execution_count": null,
      "outputs": [
        {
          "output_type": "execute_result",
          "data": {
            "text/plain": [
              "29"
            ]
          },
          "metadata": {
            "tags": []
          },
          "execution_count": 4
        }
      ]
    },
    {
      "cell_type": "code",
      "metadata": {
        "colab": {
          "base_uri": "https://localhost:8080/"
        },
        "id": "C7v7szsESwaP",
        "outputId": "5900b556-4fc9-4548-f3f4-4127f12d61e5"
      },
      "source": [
        "#ordenando e selecionando apenas os elementos únicos da minha lista\n",
        "distinto = sorted(set(palavras))\n",
        "\n",
        "#Exibindo a quantidade de elementos na minha lista\n",
        "for i in distinto:\n",
        "  print(f\"{i}, aparece na lista {palavras.count(i)} vezes\")"
      ],
      "execution_count": null,
      "outputs": [
        {
          "output_type": "stream",
          "text": [
            "black, aparece na lista 5 vezes\n",
            "eyes, aparece na lista 1 vezes\n",
            "green, aparece na lista 4 vezes\n",
            "orange, aparece na lista 4 vezes\n",
            "pink, aparece na lista 6 vezes\n",
            "red, aparece na lista 4 vezes\n",
            "white, aparece na lista 5 vezes\n"
          ],
          "name": "stdout"
        }
      ]
    },
    {
      "cell_type": "code",
      "metadata": {
        "colab": {
          "base_uri": "https://localhost:8080/"
        },
        "id": "gnh6QkNIevRq",
        "outputId": "5e975241-bb31-4bd4-c235-514d9e87e52c"
      },
      "source": [
        "#Segunda forma\n",
        "palavras_unicas = set(palavras)\n",
        "ocorrencias = {palavra: palavras.count(palavra) for palavra in palavras_unicas}\n",
        "ocorrencias"
      ],
      "execution_count": 5,
      "outputs": [
        {
          "output_type": "execute_result",
          "data": {
            "text/plain": [
              "{'black': 5,\n",
              " 'eyes': 1,\n",
              " 'green': 4,\n",
              " 'orange': 4,\n",
              " 'pink': 6,\n",
              " 'red': 4,\n",
              " 'white': 5}"
            ]
          },
          "metadata": {
            "tags": []
          },
          "execution_count": 5
        }
      ]
    }
  ]
}