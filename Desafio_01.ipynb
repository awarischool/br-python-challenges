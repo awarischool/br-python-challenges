{
  "nbformat": 4,
  "nbformat_minor": 0,
  "metadata": {
    "anaconda-cloud": {},
    "colab": {
      "name": "Desafio 1.ipynb",
      "provenance": [],
      "include_colab_link": true
    },
    "kernelspec": {
      "display_name": "Python 3",
      "language": "python",
      "name": "python3"
    },
    "language_info": {
      "codemirror_mode": {
        "name": "ipython",
        "version": 3
      },
      "file_extension": ".py",
      "mimetype": "text/x-python",
      "name": "python",
      "nbconvert_exporter": "python",
      "pygments_lexer": "ipython3",
      "version": "3.7.9"
    }
  },
  "cells": [
    {
      "cell_type": "markdown",
      "metadata": {
        "id": "view-in-github",
        "colab_type": "text"
      },
      "source": [
        "<a href=\"https://colab.research.google.com/github/sergioGMedinaP/br-python-challenges/blob/master/Desafio_01.ipynb\" target=\"_parent\"><img src=\"https://colab.research.google.com/assets/colab-badge.svg\" alt=\"Open In Colab\"/></a>"
      ]
    },
    {
      "cell_type": "markdown",
      "metadata": {
        "id": "SbLLE9q1eldC"
      },
      "source": [
        "### Desafio 1\n",
        "\n",
        "Escreva um programa em Python para contabilizar a quantidade de ocorrências de cada palavra."
      ]
    },
    {
      "cell_type": "code",
      "metadata": {
        "id": "WhtbdwFseldD"
      },
      "source": [
        "palavras = [\n",
        "   'red', 'green', 'black', 'pink', 'black', 'white', 'black', 'eyes',\n",
        "   'white', 'black', 'orange', 'pink', 'pink', 'red', 'red', 'white', 'orange',\n",
        "   'white', \"black\", 'pink', 'green', 'green', 'pink', 'green', 'pink',\n",
        "   'white', 'orange', \"orange\", 'red'\n",
        "]\n",
        "\n",
        "\n",
        "# Seu código"
      ],
      "execution_count": 2,
      "outputs": []
    },
    {
      "cell_type": "code",
      "metadata": {
        "colab": {
          "base_uri": "https://localhost:8080/"
        },
        "id": "M58o1U9KfAxa",
        "outputId": "a302e184-d1a5-4703-dace-724084cf6618"
      },
      "source": [
        "palavras"
      ],
      "execution_count": 3,
      "outputs": [
        {
          "output_type": "execute_result",
          "data": {
            "text/plain": [
              "['red',\n",
              " 'green',\n",
              " 'black',\n",
              " 'pink',\n",
              " 'black',\n",
              " 'white',\n",
              " 'black',\n",
              " 'eyes',\n",
              " 'white',\n",
              " 'black',\n",
              " 'orange',\n",
              " 'pink',\n",
              " 'pink',\n",
              " 'red',\n",
              " 'red',\n",
              " 'white',\n",
              " 'orange',\n",
              " 'white',\n",
              " 'black',\n",
              " 'pink',\n",
              " 'green',\n",
              " 'green',\n",
              " 'pink',\n",
              " 'green',\n",
              " 'pink',\n",
              " 'white',\n",
              " 'orange',\n",
              " 'orange',\n",
              " 'red']"
            ]
          },
          "metadata": {
            "tags": []
          },
          "execution_count": 3
        }
      ]
    },
    {
      "cell_type": "code",
      "metadata": {
        "colab": {
          "base_uri": "https://localhost:8080/"
        },
        "id": "dyxLTwqf92w1",
        "outputId": "677c85f4-493f-4821-a038-082131ad003b"
      },
      "source": [
        "for cores in palavras:\n",
        "  print(cores)\n"
      ],
      "execution_count": 7,
      "outputs": [
        {
          "output_type": "stream",
          "text": [
            "red\n",
            "green\n",
            "black\n",
            "pink\n",
            "black\n",
            "white\n",
            "black\n",
            "eyes\n",
            "white\n",
            "black\n",
            "orange\n",
            "pink\n",
            "pink\n",
            "red\n",
            "red\n",
            "white\n",
            "orange\n",
            "white\n",
            "black\n",
            "pink\n",
            "green\n",
            "green\n",
            "pink\n",
            "green\n",
            "pink\n",
            "white\n",
            "orange\n",
            "orange\n",
            "red\n"
          ],
          "name": "stdout"
        }
      ]
    },
    {
      "cell_type": "code",
      "metadata": {
        "colab": {
          "base_uri": "https://localhost:8080/"
        },
        "id": "bJlTS-92_y0y",
        "outputId": "b83aeae1-44ad-4fbc-a108-fe050da21f3a"
      },
      "source": [
        "for letra in palavras:\n",
        "  repeticoes = palavras.count(letra)\n",
        "  print(\"Cor \", letra, \" =\", repeticoes)"
      ],
      "execution_count": 23,
      "outputs": [
        {
          "output_type": "stream",
          "text": [
            "Cor  red  = 4\n",
            "Cor  green  = 4\n",
            "Cor  black  = 5\n",
            "Cor  pink  = 6\n",
            "Cor  black  = 5\n",
            "Cor  white  = 5\n",
            "Cor  black  = 5\n",
            "Cor  eyes  = 1\n",
            "Cor  white  = 5\n",
            "Cor  black  = 5\n",
            "Cor  orange  = 4\n",
            "Cor  pink  = 6\n",
            "Cor  pink  = 6\n",
            "Cor  red  = 4\n",
            "Cor  red  = 4\n",
            "Cor  white  = 5\n",
            "Cor  orange  = 4\n",
            "Cor  white  = 5\n",
            "Cor  black  = 5\n",
            "Cor  pink  = 6\n",
            "Cor  green  = 4\n",
            "Cor  green  = 4\n",
            "Cor  pink  = 6\n",
            "Cor  green  = 4\n",
            "Cor  pink  = 6\n",
            "Cor  white  = 5\n",
            "Cor  orange  = 4\n",
            "Cor  orange  = 4\n",
            "Cor  red  = 4\n"
          ],
          "name": "stdout"
        }
      ]
    },
    {
      "cell_type": "code",
      "metadata": {
        "id": "MZq78Akp_yaz"
      },
      "source": [
        ""
      ],
      "execution_count": null,
      "outputs": []
    }
  ]
}