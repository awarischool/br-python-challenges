{
 "cells": [
  {
   "cell_type": "markdown",
   "metadata": {
    "colab_type": "text",
    "id": "view-in-github"
   },
   "source": [
    "<a href=\"https://colab.research.google.com/github/WittmannF/br-data-science/blob/master/python/challenges/Desafio_7.ipynb\" target=\"_parent\"><img src=\"https://colab.research.google.com/assets/colab-badge.svg\" alt=\"Open In Colab\"/></a>"
   ]
  },
  {
   "cell_type": "markdown",
   "metadata": {
    "colab_type": "text",
    "id": "gQbaWOWcW1g_"
   },
   "source": [
    "# Desafio 7\n",
    "Um professor de universidade tem uma turma com os seguintes números de telefones:"
   ]
  },
  {
   "cell_type": "code",
   "execution_count": 1,
   "metadata": {
    "colab": {},
    "colab_type": "code",
    "id": "T68FjcUmWear"
   },
   "outputs": [],
   "source": [
    "telefones_alunos = ['(873) 810-8267', '(633) 244-7325', '(300) 303-5462', \n",
    "                    '(938) 300-8890', '(429) 264-7427', '(737) 805-2326', \n",
    "                    '(768) 956-8497', '(941) 225-3869', '(203) 606-9463', \n",
    "                    '(294) 430-7720', '(896) 781-5087', '(397) 845-8267', \n",
    "                    '(788) 717-6858', '(419) 734-4188', '(682) 595-3278', \n",
    "                    '(835) 955-1498', '(296) 415-9944', '(897) 932-2512', \n",
    "                    '(263) 415-3893', '(822) 640-8496', '(640) 427-2597', \n",
    "                    '(856) 338-7094', '(807) 554-4076', '(641) 367-5279', \n",
    "                    '(828) 866-0696', '(727) 376-5749', '(921) 948-2244', \n",
    "                    '(964) 710-9625', '(596) 685-1242', '(403) 343-7705', \n",
    "                    '(227) 389-3685', '(264) 372-7298', '(797) 649-3653', \n",
    "                    '(374) 361-3844', '(618) 490-4228', '(987) 803-5550', \n",
    "                    '(228) 976-9699', '(757) 450-9985', '(491) 666-5367',\n",
    "                    ]"
   ]
  },
  {
   "cell_type": "markdown",
   "metadata": {
    "colab_type": "text",
    "id": "ryYrStScXgZ3"
   },
   "source": [
    "Ele criou um grupo do whatapp no entanto somente os seguintes números entraram:"
   ]
  },
  {
   "cell_type": "code",
   "execution_count": 2,
   "metadata": {
    "colab": {},
    "colab_type": "code",
    "id": "0Hxk13ciXZ3h"
   },
   "outputs": [],
   "source": [
    "entraram_no_grupo = ['(596) 685-1242', '(727) 376-5749', '(987) 803-5550', \n",
    "                     '(633) 244-7325', '(828) 866-0696', '(263) 415-3893', \n",
    "                     '(203) 606-9463', '(296) 415-9944', '(419) 734-4188', \n",
    "                     '(618) 490-4228', '(682) 595-3278', '(938) 300-8890', \n",
    "                     '(264) 372-7298', '(768) 956-8497', '(737) 805-2326', \n",
    "                     '(788) 717-6858', '(228) 976-9699', '(896) 781-5087',\n",
    "                     '(374) 361-3844', '(921) 948-2244', '(807) 554-4076', \n",
    "                     '(822) 640-8496', '(227) 389-3685', '(429) 264-7427', \n",
    "                     '(397) 845-8267']"
   ]
  },
  {
   "cell_type": "markdown",
   "metadata": {
    "colab_type": "text",
    "id": "-inLXlaxoWnC"
   },
   "source": [
    "Você seria capaz de criar uma lista dos alunos que ainda não entraram no grupo para que sejam contatados individualmente?"
   ]
  },
  {
   "cell_type": "code",
   "execution_count": 14,
   "metadata": {},
   "outputs": [],
   "source": [
    "lista_final = [numero for numero in telefones_alunos if numero not in entraram_no_grupo]"
   ]
  },
  {
   "cell_type": "code",
   "execution_count": 15,
   "metadata": {},
   "outputs": [
    {
     "data": {
      "text/plain": [
       "['(873) 810-8267',\n",
       " '(300) 303-5462',\n",
       " '(941) 225-3869',\n",
       " '(294) 430-7720',\n",
       " '(835) 955-1498',\n",
       " '(897) 932-2512',\n",
       " '(640) 427-2597',\n",
       " '(856) 338-7094',\n",
       " '(641) 367-5279',\n",
       " '(964) 710-9625',\n",
       " '(403) 343-7705',\n",
       " '(797) 649-3653',\n",
       " '(757) 450-9985',\n",
       " '(491) 666-5367']"
      ]
     },
     "execution_count": 15,
     "metadata": {},
     "output_type": "execute_result"
    }
   ],
   "source": [
    "lista_final"
   ]
  }
 ],
 "metadata": {
  "colab": {
   "authorship_tag": "ABX9TyPinyzdF60Dyi+YfEQiCPfO",
   "include_colab_link": true,
   "name": "Desafio 7.ipynb",
   "provenance": []
  },
  "kernelspec": {
   "display_name": "Python 3",
   "language": "python",
   "name": "python3"
  },
  "language_info": {
   "codemirror_mode": {
    "name": "ipython",
    "version": 3
   },
   "file_extension": ".py",
   "mimetype": "text/x-python",
   "name": "python",
   "nbconvert_exporter": "python",
   "pygments_lexer": "ipython3",
   "version": "3.7.6"
  }
 },
 "nbformat": 4,
 "nbformat_minor": 1
}
