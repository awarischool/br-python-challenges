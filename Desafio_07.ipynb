{
  "cells": [
    {
      "cell_type": "markdown",
      "metadata": {
        "id": "view-in-github",
        "colab_type": "text"
      },
      "source": [
        "<a href=\"https://colab.research.google.com/github/pabloviniciuzz/desafios-python/blob/master/Desafio_07.ipynb\" target=\"_parent\"><img src=\"https://colab.research.google.com/assets/colab-badge.svg\" alt=\"Open In Colab\"/></a>"
      ]
    },
    {
      "cell_type": "markdown",
      "metadata": {
        "id": "gQbaWOWcW1g_"
      },
      "source": [
        "# Desafio 7\n",
        "Um professor de universidade tem uma turma com os seguintes números de telefones:"
      ]
    },
    {
      "cell_type": "code",
      "execution_count": 2,
      "metadata": {
        "id": "T68FjcUmWear"
      },
      "outputs": [],
      "source": [
        "telefones_alunos = ['(873) 810-8267', '(633) 244-7325', '(300) 303-5462', \n",
        "                    '(938) 300-8890', '(429) 264-7427', '(737) 805-2326', \n",
        "                    '(768) 956-8497', '(941) 225-3869', '(203) 606-9463', \n",
        "                    '(294) 430-7720', '(896) 781-5087', '(397) 845-8267', \n",
        "                    '(788) 717-6858', '(419) 734-4188', '(682) 595-3278', \n",
        "                    '(835) 955-1498', '(296) 415-9944', '(897) 932-2512', \n",
        "                    '(263) 415-3893', '(822) 640-8496', '(640) 427-2597', \n",
        "                    '(856) 338-7094', '(807) 554-4076', '(641) 367-5279', \n",
        "                    '(828) 866-0696', '(727) 376-5749', '(921) 948-2244', \n",
        "                    '(964) 710-9625', '(596) 685-1242', '(403) 343-7705', \n",
        "                    '(227) 389-3685', '(264) 372-7298', '(797) 649-3653', \n",
        "                    '(374) 361-3844', '(618) 490-4228', '(987) 803-5550', \n",
        "                    '(228) 976-9699', '(757) 450-9985', '(491) 666-5367',\n",
        "                    ]"
      ]
    },
    {
      "cell_type": "markdown",
      "metadata": {
        "id": "ryYrStScXgZ3"
      },
      "source": [
        "Ele criou um grupo do WhatsApp. No entanto, somente os seguintes números entraram no grupo."
      ]
    },
    {
      "cell_type": "code",
      "execution_count": 3,
      "metadata": {
        "id": "0Hxk13ciXZ3h"
      },
      "outputs": [],
      "source": [
        "entraram_no_grupo = ['(596) 685-1242', '(727) 376-5749', '(987) 803-5550', \n",
        "                     '(633) 244-7325', '(828) 866-0696', '(263) 415-3893', \n",
        "                     '(203) 606-9463', '(296) 415-9944', '(419) 734-4188', \n",
        "                     '(618) 490-4228', '(682) 595-3278', '(938) 300-8890', \n",
        "                     '(264) 372-7298', '(768) 956-8497', '(737) 805-2326', \n",
        "                     '(788) 717-6858', '(228) 976-9699', '(896) 781-5087',\n",
        "                     '(374) 361-3844', '(921) 948-2244', '(807) 554-4076', \n",
        "                     '(822) 640-8496', '(227) 389-3685', '(429) 264-7427', \n",
        "                     '(397) 845-8267']"
      ]
    },
    {
      "cell_type": "markdown",
      "metadata": {
        "id": "-inLXlaxoWnC"
      },
      "source": [
        "Você seria capaz de criar uma lista dos alunos que ainda não entraram no grupo para que sejam contatados individualmente?"
      ]
    },
    {
      "cell_type": "code",
      "execution_count": 1,
      "metadata": {
        "id": "_OSrDQ1noh62"
      },
      "outputs": [],
      "source": [
        "from pprint import pprint"
      ]
    },
    {
      "cell_type": "code",
      "source": [
        "alunos = set(telefones_alunos)\n",
        "grupo = set(entraram_no_grupo)\n",
        "faltantes = list(alunos.difference(grupo))\n",
        "pprint(faltantes)"
      ],
      "metadata": {
        "id": "J8LE_hgF8vZ5",
        "outputId": "b3fed325-bae3-4595-bde8-d47b3001a2ba",
        "colab": {
          "base_uri": "https://localhost:8080/"
        }
      },
      "execution_count": 5,
      "outputs": [
        {
          "output_type": "stream",
          "name": "stdout",
          "text": [
            "['(294) 430-7720',\n",
            " '(641) 367-5279',\n",
            " '(757) 450-9985',\n",
            " '(964) 710-9625',\n",
            " '(403) 343-7705',\n",
            " '(897) 932-2512',\n",
            " '(873) 810-8267',\n",
            " '(491) 666-5367',\n",
            " '(941) 225-3869',\n",
            " '(640) 427-2597',\n",
            " '(300) 303-5462',\n",
            " '(835) 955-1498',\n",
            " '(797) 649-3653',\n",
            " '(856) 338-7094']\n"
          ]
        }
      ]
    }
  ],
  "metadata": {
    "colab": {
      "name": "Desafio 7.ipynb",
      "provenance": [],
      "include_colab_link": true
    },
    "kernelspec": {
      "display_name": "Python 3",
      "language": "python",
      "name": "python3"
    },
    "language_info": {
      "codemirror_mode": {
        "name": "ipython",
        "version": 3
      },
      "file_extension": ".py",
      "mimetype": "text/x-python",
      "name": "python",
      "nbconvert_exporter": "python",
      "pygments_lexer": "ipython3",
      "version": "3.7.9"
    }
  },
  "nbformat": 4,
  "nbformat_minor": 0
}