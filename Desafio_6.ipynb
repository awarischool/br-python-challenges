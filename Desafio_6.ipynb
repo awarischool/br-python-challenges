{
  "nbformat": 4,
  "nbformat_minor": 0,
  "metadata": {
    "anaconda-cloud": {},
    "colab": {
      "name": "Cópia de Desafio 6.ipynb",
      "provenance": [],
      "include_colab_link": true
    },
    "kernelspec": {
      "display_name": "Python 3",
      "language": "python",
      "name": "python3"
    },
    "language_info": {
      "codemirror_mode": {
        "name": "ipython",
        "version": 3
      },
      "file_extension": ".py",
      "mimetype": "text/x-python",
      "name": "python",
      "nbconvert_exporter": "python",
      "pygments_lexer": "ipython3",
      "version": "3.7.9"
    }
  },
  "cells": [
    {
      "cell_type": "markdown",
      "metadata": {
        "id": "view-in-github",
        "colab_type": "text"
      },
      "source": [
        "<a href=\"https://colab.research.google.com/github/sergioGMedinaP/br-python-challenges/blob/master/Desafio_6.ipynb\" target=\"_parent\"><img src=\"https://colab.research.google.com/assets/colab-badge.svg\" alt=\"Open In Colab\"/></a>"
      ]
    },
    {
      "cell_type": "markdown",
      "metadata": {
        "id": "AiI1_KNTf6Jh"
      },
      "source": [
        "### Desafio 6\n",
        "\n",
        "Crie uma função que receba duas listas e retorne uma lista que contenha apenas os elementos comuns entre as listas (sem repetição). A função deve suportar lista de tamanhos diferentes.\n"
      ]
    },
    {
      "cell_type": "markdown",
      "metadata": {
        "id": "qnlUgp2QFD3X"
      },
      "source": [
        "**Listas**"
      ]
    },
    {
      "cell_type": "code",
      "metadata": {
        "id": "Ffu12jHZFD3b"
      },
      "source": [
        "a = [1, 1, 2, 3, 5, 8, 13, 21, 34, 55, 89]\n",
        "b = [1, 2, 3, 4, 5, 6, 7, 8, 9, 10, 11, 12, 13]"
      ],
      "execution_count": null,
      "outputs": []
    },
    {
      "cell_type": "code",
      "metadata": {
        "id": "mvxpy_vCf6Jh",
        "colab": {
          "base_uri": "https://localhost:8080/"
        },
        "outputId": "02a33a9d-8f67-4684-a6e3-39827187d044"
      },
      "source": [
        "# Seu código\n",
        "print(a)\n",
        "print(b)"
      ],
      "execution_count": null,
      "outputs": [
        {
          "output_type": "stream",
          "text": [
            "[1, 1, 2, 3, 5, 8, 13, 21, 34, 55, 89]\n",
            "[1, 2, 3, 4, 5, 6, 7, 8, 9, 10, 11, 12, 13]\n"
          ],
          "name": "stdout"
        }
      ]
    },
    {
      "cell_type": "code",
      "metadata": {
        "id": "ly-N_Aq624RQ",
        "colab": {
          "base_uri": "https://localhost:8080/"
        },
        "outputId": "98efeabc-5fd2-40fb-c415-aa849bdf8138"
      },
      "source": [
        "def soma_lista(a, b):\n",
        "  c = a + b\n",
        "  lista = list(dict.fromkeys(c))\n",
        "  return (lista)\n",
        "\n",
        "print(\"Nova lista =\", soma_lista(a, b))\n",
        "print(\"Tamanho da lista nova lista = \", len(lista))"
      ],
      "execution_count": null,
      "outputs": [
        {
          "output_type": "stream",
          "text": [
            "Nova lista = [1, 2, 3, 5, 8, 13, 21, 34, 55, 89, 4, 6, 7, 9, 10, 11, 12]\n",
            "Tamanho da lista nova lista =  17\n"
          ],
          "name": "stdout"
        }
      ]
    },
    {
      "cell_type": "code",
      "metadata": {
        "id": "Izl-EGwqGiai"
      },
      "source": [
        ""
      ],
      "execution_count": null,
      "outputs": []
    }
  ]
}