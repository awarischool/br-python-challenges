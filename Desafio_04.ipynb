{
  "nbformat": 4,
  "nbformat_minor": 0,
  "metadata": {
    "colab": {
      "name": "Desafio_04.ipynb",
      "provenance": [],
      "collapsed_sections": [],
      "authorship_tag": "ABX9TyNc3AwhFrtYRGxDR1l+Fg82",
      "include_colab_link": true
    },
    "kernelspec": {
      "name": "python3",
      "display_name": "Python 3"
    },
    "language_info": {
      "name": "python"
    }
  },
  "cells": [
    {
      "cell_type": "markdown",
      "metadata": {
        "id": "view-in-github",
        "colab_type": "text"
      },
      "source": [
        "<a href=\"https://colab.research.google.com/github/matcarvalho/br-python-challenges/blob/master/Desafio_04.ipynb\" target=\"_parent\"><img src=\"https://colab.research.google.com/assets/colab-badge.svg\" alt=\"Open In Colab\"/></a>"
      ]
    },
    {
      "cell_type": "markdown",
      "metadata": {
        "id": "c2Ivg-LabcJY"
      },
      "source": [
        "Escreva uma função cuja entrada é uma string e a saída é outra string com as palavras em ordem inversa.\n",
        "\n",
        "Exemplo:\n",
        "\n",
        "inverte_texto(\"Python é legal\") ➞ \"legal é Python\""
      ]
    },
    {
      "cell_type": "code",
      "metadata": {
        "colab": {
          "base_uri": "https://localhost:8080/"
        },
        "id": "KwE6XAeObWMy",
        "outputId": "ed5a6b7f-e234-4b08-8ec6-1dce8ce87bf2"
      },
      "source": [
        "#Escrevendo as palavras em ordem inversa\n",
        "texto = \"python é legal\"\n",
        "\n",
        "def inverter_texto(texto):\n",
        "  #Dividindo o texto em partes\n",
        "  inverso = texto.split()\n",
        "  #Invertendo o texto e juntando\n",
        "  print(\" \".join(inverso[::-1]))\n",
        "\n",
        "#chamada da função inverter\n",
        "inverter_texto(texto)\n"
      ],
      "execution_count": 20,
      "outputs": [
        {
          "output_type": "stream",
          "text": [
            "legal é python\n"
          ],
          "name": "stdout"
        }
      ]
    }
  ]
}