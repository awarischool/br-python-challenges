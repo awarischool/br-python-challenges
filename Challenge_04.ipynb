{
  "cells": [
    {
      "cell_type": "markdown",
      "metadata": {
        "id": "dOqcKUYZf6JW"
      },
      "source": [
        "### Challenge 4\n",
        "\n",
        "Write a function whose input is a string and the output is another string with the words in reverse order.\n",
        "\n",
        "Example:\n",
        "\n",
        "text_inverter(\"Python is nice\") ➞ \"nice is Python\""
      ]
    },
    {
      "cell_type": "code",
      "execution_count": 5,
      "metadata": {
        "colab": {
          "base_uri": "https://localhost:8080/"
        },
        "id": "I5TInJDaf6JW",
        "outputId": "bbf659ca-a6a8-4448-d208-8e5ff4d7ef96"
      },
      "outputs": [
        {
          "output_type": "stream",
          "name": "stdout",
          "text": [
            "order reverse in words the with string another is output the and string a is input whose function a Write\n"
          ]
        }
      ],
      "source": [
        "# Code\n",
        "\n",
        "def text_inverter(text):\n",
        "  inv = text.split()\n",
        "  inv.reverse()\n",
        "  return ( ' '.join(inv) )\n",
        "\n",
        "test = 'Write a function whose input is a string and the output is another string with the words in reverse order'\n",
        "print( text_inverter(test) )"
      ]
    }
  ],
  "metadata": {
    "anaconda-cloud": {},
    "colab": {
      "name": "Desafio 4.ipynb",
      "provenance": []
    },
    "kernelspec": {
      "display_name": "Python 3",
      "language": "python",
      "name": "python3"
    },
    "language_info": {
      "codemirror_mode": {
        "name": "ipython",
        "version": 3
      },
      "file_extension": ".py",
      "mimetype": "text/x-python",
      "name": "python",
      "nbconvert_exporter": "python",
      "pygments_lexer": "ipython3",
      "version": "3.7.9"
    }
  },
  "nbformat": 4,
  "nbformat_minor": 0
}