{
  "cells": [
    {
      "cell_type": "markdown",
      "metadata": {
        "id": "o3tkeMDNf6Jo"
      },
      "source": [
        "### Challenge 8\n",
        "\n",
        "Write a Python script to find the 10 longest words in a text file.\n",
        "\n",
        "The .txt file is located in the same folder as the project (**texto.txt**)."
      ]
    },
    {
      "cell_type": "code",
      "source": [
        "# Importing the .txt file from github\n",
        "\n",
        "!curl --remote-name \\\n",
        "     -H 'Accept: application/vnd.github.v3.raw' \\\n",
        "     --location https://raw.githubusercontent.com/antunes-lima/Python-Challenges/master/texto.txt"
      ],
      "metadata": {
        "id": "DRNo009_PCcR",
        "outputId": "cb383946-9ad5-4fa4-fdcd-ba891a96718d",
        "colab": {
          "base_uri": "https://localhost:8080/"
        }
      },
      "execution_count": 1,
      "outputs": [
        {
          "output_type": "stream",
          "name": "stdout",
          "text": [
            "  % Total    % Received % Xferd  Average Speed   Time    Time     Time  Current\n",
            "                                 Dload  Upload   Total   Spent    Left  Speed\n",
            "100   766  100   766    0     0   4052      0 --:--:-- --:--:-- --:--:--  4052\n"
          ]
        }
      ]
    },
    {
      "cell_type": "code",
      "execution_count": 2,
      "metadata": {
        "id": "EknxjSG0f6Jo"
      },
      "outputs": [],
      "source": [
        "# Code\n",
        "\n",
        "text = open('/content/texto.txt', 'r')\n",
        "\n",
        "text = text.read()"
      ]
    },
    {
      "cell_type": "code",
      "source": [
        "# removing comma, period, parentheses, question mark\n",
        "\n",
        "text = text.replace(',', ' ').replace('.', ' ').replace('(', ' ').replace(')', ' ').replace('?', ' ').replace('-', ' ')\n",
        "\n",
        "text = text.split()"
      ],
      "metadata": {
        "id": "VlMtmvKYeSy3"
      },
      "execution_count": 3,
      "outputs": []
    },
    {
      "cell_type": "code",
      "source": [
        "print(text)"
      ],
      "metadata": {
        "id": "c99mktWbf0DC",
        "outputId": "e7151e08-35a2-4a42-cd8a-4e912794af64",
        "colab": {
          "base_uri": "https://localhost:8080/"
        }
      },
      "execution_count": 4,
      "outputs": [
        {
          "output_type": "stream",
          "name": "stdout",
          "text": [
            "['What', 'is', 'Python', 'language', 'Python', 'is', 'a', 'widely', 'used', 'high', 'level', 'general', 'purpose', 'interpreted', 'dynamic', 'programming', 'language', 'Its', 'design', 'philosophy', 'emphasizes', 'code', 'readability', 'and', 'its', 'syntax', 'allows', 'programmers', 'to', 'express', 'concepts', 'in', 'fewer', 'lines', 'of', 'code', 'than', 'possible', 'in', 'languages', 'such', 'as', 'C++', 'or', 'Java', 'Python', 'supports', 'multiple', 'programming', 'paradigms', 'including', 'object', 'oriented', 'imperative', 'and', 'functional', 'programming', 'or', 'procedural', 'styles', 'It', 'features', 'a', 'dynamic', 'type', 'system', 'and', 'automatic', 'memory', 'management', 'and', 'has', 'a', 'large', 'and', 'comprehensive', 'standard', 'library', 'The', 'best', 'way', 'we', 'learn', 'anything', 'is', 'by', 'practice', 'and', 'exercise', 'questions', 'We', 'have', 'started', 'this', 'section', 'for', 'those', 'beginner', 'to', 'intermediate', 'who', 'are', 'familiar', 'with', 'Python']\n"
          ]
        }
      ]
    },
    {
      "cell_type": "code",
      "source": [
        "# creating a dict with words and respective lenght\n",
        "\n",
        "words_lenght = dict()\n",
        "\n",
        "for word in text:\n",
        "  words_lenght[word] = len(word)\n",
        "\n",
        "print(words_lenght)"
      ],
      "metadata": {
        "id": "WGZ0bkmdcU_d",
        "outputId": "e6bdeb3d-9e24-4b4d-975d-1736ff157820",
        "colab": {
          "base_uri": "https://localhost:8080/"
        }
      },
      "execution_count": 10,
      "outputs": [
        {
          "output_type": "stream",
          "name": "stdout",
          "text": [
            "{'What': 4, 'is': 2, 'Python': 6, 'language': 8, 'a': 1, 'widely': 6, 'used': 4, 'high': 4, 'level': 5, 'general': 7, 'purpose': 7, 'interpreted': 11, 'dynamic': 7, 'programming': 11, 'Its': 3, 'design': 6, 'philosophy': 10, 'emphasizes': 10, 'code': 4, 'readability': 11, 'and': 3, 'its': 3, 'syntax': 6, 'allows': 6, 'programmers': 11, 'to': 2, 'express': 7, 'concepts': 8, 'in': 2, 'fewer': 5, 'lines': 5, 'of': 2, 'than': 4, 'possible': 8, 'languages': 9, 'such': 4, 'as': 2, 'C++': 3, 'or': 2, 'Java': 4, 'supports': 8, 'multiple': 8, 'paradigms': 9, 'including': 9, 'object': 6, 'oriented': 8, 'imperative': 10, 'functional': 10, 'procedural': 10, 'styles': 6, 'It': 2, 'features': 8, 'type': 4, 'system': 6, 'automatic': 9, 'memory': 6, 'management': 10, 'has': 3, 'large': 5, 'comprehensive': 13, 'standard': 8, 'library': 7, 'The': 3, 'best': 4, 'way': 3, 'we': 2, 'learn': 5, 'anything': 8, 'by': 2, 'practice': 8, 'exercise': 8, 'questions': 9, 'We': 2, 'have': 4, 'started': 7, 'this': 4, 'section': 7, 'for': 3, 'those': 5, 'beginner': 8, 'intermediate': 12, 'who': 3, 'are': 3, 'familiar': 8, 'with': 4}\n"
          ]
        }
      ]
    },
    {
      "cell_type": "code",
      "source": [
        "# getting the 10 longest words\n",
        "\n",
        "c = int()\n",
        "w = str()\n",
        "longest_words = list()\n",
        "\n",
        "# this block repeats until selecting the 10 longest\n",
        "\n",
        "while len(longest_words) < 10:\n",
        "\n",
        "  # this subblock selects the longest word not already selected\n",
        "\n",
        "  for word in words_lenght:\n",
        "    if word not in longest_words:\n",
        "      if words_lenght[word] > c:\n",
        "        c = words_lenght[word]\n",
        "        w = word\n",
        "  longest_words.append(w)\n",
        "  c = 0\n",
        "  w = ''\n",
        "\n",
        "print('Here is a list of the 10 longest words:')\n",
        "print(longest_words)\n"
      ],
      "metadata": {
        "id": "Zs7kHnP4gi8m",
        "outputId": "bd9f57e8-869e-49d0-9bca-b72c3e2a74b0",
        "colab": {
          "base_uri": "https://localhost:8080/"
        }
      },
      "execution_count": 15,
      "outputs": [
        {
          "output_type": "stream",
          "name": "stdout",
          "text": [
            "Here is a list of the 10 longest words:\n",
            "['comprehensive', 'intermediate', 'interpreted', 'programming', 'readability', 'programmers', 'philosophy', 'emphasizes', 'imperative', 'functional']\n"
          ]
        }
      ]
    }
  ],
  "metadata": {
    "anaconda-cloud": {},
    "colab": {
      "name": "Desafio 8.ipynb",
      "provenance": []
    },
    "kernelspec": {
      "display_name": "Python 3",
      "language": "python",
      "name": "python3"
    },
    "language_info": {
      "codemirror_mode": {
        "name": "ipython",
        "version": 3
      },
      "file_extension": ".py",
      "mimetype": "text/x-python",
      "name": "python",
      "nbconvert_exporter": "python",
      "pygments_lexer": "ipython3",
      "version": "3.7.9"
    }
  },
  "nbformat": 4,
  "nbformat_minor": 0
}