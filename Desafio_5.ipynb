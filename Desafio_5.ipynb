{
  "nbformat": 4,
  "nbformat_minor": 0,
  "metadata": {
    "colab": {
      "name": "Cópia de Desafio 5.ipynb",
      "provenance": [],
      "collapsed_sections": [],
      "include_colab_link": true
    },
    "kernelspec": {
      "display_name": "Python 3",
      "language": "python",
      "name": "python3"
    },
    "language_info": {
      "codemirror_mode": {
        "name": "ipython",
        "version": 3
      },
      "file_extension": ".py",
      "mimetype": "text/x-python",
      "name": "python",
      "nbconvert_exporter": "python",
      "pygments_lexer": "ipython3",
      "version": "3.7.9"
    }
  },
  "cells": [
    {
      "cell_type": "markdown",
      "metadata": {
        "id": "view-in-github",
        "colab_type": "text"
      },
      "source": [
        "<a href=\"https://colab.research.google.com/github/sergioGMedinaP/br-python-challenges/blob/master/Desafio_5.ipynb\" target=\"_parent\"><img src=\"https://colab.research.google.com/assets/colab-badge.svg\" alt=\"Open In Colab\"/></a>"
      ]
    },
    {
      "cell_type": "markdown",
      "metadata": {
        "id": "gQbaWOWcW1g_"
      },
      "source": [
        "# Desafio 5\n",
        "Você trabalha em uma loja de sapatos e deve contatar uma série de clientes. Seus números de telefone estão na lista abaixo. No entanto, é possível notar números duplicados na lista dada. Você seria capaz de remover estes duplicados para evitar que clientes sejam contatados mais de uma vez?"
      ]
    },
    {
      "cell_type": "code",
      "metadata": {
        "id": "T68FjcUmWear"
      },
      "source": [
        "numeros_telefone = [\n",
        "'(765) 368-1506',\n",
        "'(285) 608-2448',\n",
        "'(255) 826-9050',\n",
        "'(554) 994-1517',\n",
        "'(285) 608-2448',\n",
        "'(596) 336-5508',\n",
        "'(511) 821-7870',\n",
        "'(410) 665-4447',\n",
        "'(821) 642-8987',\n",
        "'(285) 608-2448',\n",
        "'(311) 799-3883',\n",
        "'(935) 875-2054',\n",
        "'(464) 788-2397',\n",
        "'(765) 368-1506',\n",
        "'(650) 684-1437',\n",
        "'(812) 816-0881',\n",
        "'(285) 608-2448',\n",
        "'(885) 407-1719',\n",
        "'(943) 769-1061',\n",
        "'(596) 336-5508',\n",
        "'(765) 368-1506',\n",
        "'(255) 826-9050',\n",
        "]"
      ],
      "execution_count": null,
      "outputs": []
    },
    {
      "cell_type": "code",
      "metadata": {
        "id": "F8n1sN-4XrW3",
        "colab": {
          "base_uri": "https://localhost:8080/"
        },
        "outputId": "a9a4ee46-b236-4def-994e-68702dde91f4"
      },
      "source": [
        "#Seu código\n",
        "print(len(numeros_telefone))\n",
        "lista2= list(dict.fromkeys(numeros_telefone))\n",
        "\n",
        "print(\"Lista telefonica oringinal \" ,numeros_telefone)\n",
        "print(\"Tamanho da Lista telefonica oringinal = \" , len(numeros_telefone))\n",
        "print()\n",
        "print(\"Tamanho da nova lista\", len(lista2))\n",
        "\"Nova lista telefonica\" ,lista2"
      ],
      "execution_count": null,
      "outputs": [
        {
          "output_type": "stream",
          "text": [
            "22\n",
            "Lista telefonica oringinal  ['(765) 368-1506', '(285) 608-2448', '(255) 826-9050', '(554) 994-1517', '(285) 608-2448', '(596) 336-5508', '(511) 821-7870', '(410) 665-4447', '(821) 642-8987', '(285) 608-2448', '(311) 799-3883', '(935) 875-2054', '(464) 788-2397', '(765) 368-1506', '(650) 684-1437', '(812) 816-0881', '(285) 608-2448', '(885) 407-1719', '(943) 769-1061', '(596) 336-5508', '(765) 368-1506', '(255) 826-9050']\n",
            "Tamanho da Lista telefonica oringinal =  22\n",
            "\n",
            "Tamanho da nova lista 15\n"
          ],
          "name": "stdout"
        },
        {
          "output_type": "execute_result",
          "data": {
            "text/plain": [
              "('Nova lista telefonica',\n",
              " ['(765) 368-1506',\n",
              "  '(285) 608-2448',\n",
              "  '(255) 826-9050',\n",
              "  '(554) 994-1517',\n",
              "  '(596) 336-5508',\n",
              "  '(511) 821-7870',\n",
              "  '(410) 665-4447',\n",
              "  '(821) 642-8987',\n",
              "  '(311) 799-3883',\n",
              "  '(935) 875-2054',\n",
              "  '(464) 788-2397',\n",
              "  '(650) 684-1437',\n",
              "  '(812) 816-0881',\n",
              "  '(885) 407-1719',\n",
              "  '(943) 769-1061'])"
            ]
          },
          "metadata": {
            "tags": []
          },
          "execution_count": 8
        }
      ]
    },
    {
      "cell_type": "code",
      "metadata": {
        "id": "2VCkldxDD1PW"
      },
      "source": [
        ""
      ],
      "execution_count": null,
      "outputs": []
    }
  ]
}