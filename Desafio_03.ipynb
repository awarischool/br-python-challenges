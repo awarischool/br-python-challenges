{
  "nbformat": 4,
  "nbformat_minor": 0,
  "metadata": {
    "colab": {
      "name": "Desafio_03.ipynb",
      "provenance": [],
      "authorship_tag": "ABX9TyPOg1AALwmQJ/qUARKwMvue",
      "include_colab_link": true
    },
    "kernelspec": {
      "name": "python3",
      "display_name": "Python 3"
    },
    "language_info": {
      "name": "python"
    }
  },
  "cells": [
    {
      "cell_type": "markdown",
      "metadata": {
        "id": "view-in-github",
        "colab_type": "text"
      },
      "source": [
        "<a href=\"https://colab.research.google.com/github/matcarvalho/br-python-challenges/blob/master/Desafio_03.ipynb\" target=\"_parent\"><img src=\"https://colab.research.google.com/assets/colab-badge.svg\" alt=\"Open In Colab\"/></a>"
      ]
    },
    {
      "cell_type": "markdown",
      "metadata": {
        "id": "egqeGF0aako6"
      },
      "source": [
        "Escreva uma função que receba uma lista como entrada e retorne uma nova lista ordenada e sem valores duplicados."
      ]
    },
    {
      "cell_type": "code",
      "metadata": {
        "id": "gj9kO44FaffV"
      },
      "source": [
        "#Lista de valores\n",
        "lista = [1,2,3,4,3,30,3,4,5,6,9,3,2,1,2,4,5,15,6,6,3,13,4,45,5]"
      ],
      "execution_count": 1,
      "outputs": []
    },
    {
      "cell_type": "code",
      "metadata": {
        "colab": {
          "base_uri": "https://localhost:8080/"
        },
        "id": "S__igKuDaton",
        "outputId": "72f99c50-fdde-48ea-ef62-c0481d67fdf9"
      },
      "source": [
        "#Lista com valores únicos e ordenados\n",
        "lista_unica = sorted(set(lista))\n",
        "print(lista_unica)"
      ],
      "execution_count": 3,
      "outputs": [
        {
          "output_type": "stream",
          "text": [
            "[1, 2, 3, 4, 5, 6, 9, 13, 15, 30, 45]\n"
          ],
          "name": "stdout"
        }
      ]
    }
  ]
}