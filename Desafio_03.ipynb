{
  "nbformat": 4,
  "nbformat_minor": 2,
  "metadata": {
    "anaconda-cloud": {},
    "colab": {
      "name": "Desafio 3.ipynb",
      "provenance": [],
      "include_colab_link": true
    },
    "kernelspec": {
      "display_name": "Python 3",
      "language": "python",
      "name": "python3"
    },
    "language_info": {
      "codemirror_mode": {
        "name": "ipython",
        "version": 3
      },
      "file_extension": ".py",
      "mimetype": "text/x-python",
      "name": "python",
      "nbconvert_exporter": "python",
      "pygments_lexer": "ipython3",
      "version": "3.7.9"
    }
  },
  "cells": [
    {
      "cell_type": "markdown",
      "source": [
        "<a href=\"https://colab.research.google.com/github/BielSousa/br-python-challenges/blob/master/Desafio_03.ipynb\" target=\"_parent\"><img src=\"https://colab.research.google.com/assets/colab-badge.svg\" alt=\"Open In Colab\"/></a>"
      ],
      "metadata": {
        "id": "view-in-github",
        "colab_type": "text"
      }
    },
    {
      "cell_type": "markdown",
      "source": [
        "### Desafio 3\n",
        "\n",
        "Escreva uma função que receba uma lista como entrada e retorne uma nova lista ordenada e sem valores duplicados.\n"
      ],
      "metadata": {
        "id": "9apVxxygf6JR"
      }
    },
    {
      "cell_type": "code",
      "execution_count": 1,
      "source": [
        "lista = [1,2,3,4,3,30,3,4,5,6,9,3,2,1,2,4,5,15,6,6,3,13,4,45,5]\n"
      ],
      "outputs": [],
      "metadata": {
        "id": "ndTkQEUBf6JS"
      }
    },
    {
      "cell_type": "code",
      "execution_count": 18,
      "source": [
        "def sort_and_drop_duplicates(nlista):\n",
        "    xlista = []\n",
        "    for pos, number in enumerate(nlista):\n",
        "        if number not in xlista:\n",
        "            xlista.append(number)\n",
        "    \n",
        "    return(sorted(xlista, reverse=True))\n",
        "    \n",
        "print(sort_and_drop_duplicates(lista))"
      ],
      "outputs": [
        {
          "output_type": "stream",
          "name": "stdout",
          "text": [
            "[45, 30, 15, 13, 9, 6, 5, 4, 3, 2, 1]\n"
          ]
        }
      ],
      "metadata": {
        "colab": {
          "base_uri": "https://localhost:8080/"
        },
        "id": "wo2rA-NriFtO",
        "outputId": "15606b22-5ea0-4d0b-ee51-00fae5730508"
      }
    }
  ]
}