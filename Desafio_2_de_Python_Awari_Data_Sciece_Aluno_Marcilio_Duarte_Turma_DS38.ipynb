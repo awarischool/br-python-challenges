{
  "nbformat": 4,
  "nbformat_minor": 0,
  "metadata": {
    "colab": {
      "name": "Desafio 2 de Python - Awari_Data Sciece - Aluno: Marcilio Duarte_Turma_DS38",
      "provenance": [],
      "collapsed_sections": [],
      "authorship_tag": "ABX9TyPt9QtN37Aa0mwcbG+2QpnU",
      "include_colab_link": true
    },
    "kernelspec": {
      "name": "python3",
      "display_name": "Python 3"
    },
    "language_info": {
      "name": "python"
    }
  },
  "cells": [
    {
      "cell_type": "markdown",
      "metadata": {
        "id": "view-in-github",
        "colab_type": "text"
      },
      "source": [
        "<a href=\"https://colab.research.google.com/github/marcilioduarte/br-python-challenges/blob/master/Desafio_2_de_Python_Awari_Data_Sciece_Aluno_Marcilio_Duarte_Turma_DS38.ipynb\" target=\"_parent\"><img src=\"https://colab.research.google.com/assets/colab-badge.svg\" alt=\"Open In Colab\"/></a>"
      ]
    },
    {
      "cell_type": "markdown",
      "source": [
        "![](https://i.imgur.com/YX6UATs.png)"
      ],
      "metadata": {
        "id": "FrFjUlLrcTDh"
      }
    },
    {
      "cell_type": "markdown",
      "source": [
        "\n",
        "### Desafio 2\n",
        "\n",
        "Escreva uma função que receba um número inteiro de horas e converta esse número para segundos.\n",
        "\n",
        "Exemplo:\n",
        "\n",
        "convert(5) ➞ 18000\n",
        "\n",
        "convert(3) ➞ 10800\n",
        "\n",
        "convert(2) ➞ 7200\n",
        "\n"
      ],
      "metadata": {
        "id": "BkVaOex-bcX4"
      }
    },
    {
      "cell_type": "code",
      "execution_count": null,
      "metadata": {
        "colab": {
          "base_uri": "https://localhost:8080/"
        },
        "id": "5K3W-K-sbaRU",
        "outputId": "a53dc8c1-3df4-4950-c348-dd3ce52b6584"
      },
      "outputs": [
        {
          "output_type": "stream",
          "name": "stdout",
          "text": [
            "3600\n",
            "7200\n"
          ]
        }
      ],
      "source": [
        "#opção 1:\n",
        "def convert_to_sec(number):\n",
        "    x=number * 3600\n",
        "    print(x)\n",
        "convert_to_sec(1)\n",
        "convert_to_sec(2)"
      ]
    }
  ]
}