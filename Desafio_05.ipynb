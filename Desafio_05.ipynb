{
  "nbformat": 4,
  "nbformat_minor": 0,
  "metadata": {
    "colab": {
      "name": "Desafio 5.ipynb",
      "provenance": [],
      "include_colab_link": true
    },
    "kernelspec": {
      "display_name": "Python 3",
      "language": "python",
      "name": "python3"
    },
    "language_info": {
      "codemirror_mode": {
        "name": "ipython",
        "version": 3
      },
      "file_extension": ".py",
      "mimetype": "text/x-python",
      "name": "python",
      "nbconvert_exporter": "python",
      "pygments_lexer": "ipython3",
      "version": "3.7.9"
    }
  },
  "cells": [
    {
      "cell_type": "markdown",
      "metadata": {
        "id": "view-in-github",
        "colab_type": "text"
      },
      "source": [
        "<a href=\"https://colab.research.google.com/github/BielSousa/br-python-challenges/blob/master/Desafio_05.ipynb\" target=\"_parent\"><img src=\"https://colab.research.google.com/assets/colab-badge.svg\" alt=\"Open In Colab\"/></a>"
      ]
    },
    {
      "cell_type": "markdown",
      "metadata": {
        "id": "gQbaWOWcW1g_"
      },
      "source": [
        "# Desafio 5\n",
        "Você trabalha em uma loja de sapatos e deve contatar uma série de clientes. Seus números de telefone estão na lista abaixo. No entanto, é possível notar números duplicados na lista dada. Você seria capaz de remover estes duplicados para evitar que clientes sejam contatados mais de uma vez?"
      ]
    },
    {
      "cell_type": "code",
      "metadata": {
        "id": "T68FjcUmWear"
      },
      "source": [
        "numeros_telefone = [\n",
        "'(765) 368-1506',\n",
        "'(285) 608-2448',\n",
        "'(255) 826-9050',\n",
        "'(554) 994-1517',\n",
        "'(285) 608-2448',\n",
        "'(596) 336-5508',\n",
        "'(511) 821-7870',\n",
        "'(410) 665-4447',\n",
        "'(821) 642-8987',\n",
        "'(285) 608-2448',\n",
        "'(311) 799-3883',\n",
        "'(935) 875-2054',\n",
        "'(464) 788-2397',\n",
        "'(765) 368-1506',\n",
        "'(650) 684-1437',\n",
        "'(812) 816-0881',\n",
        "'(285) 608-2448',\n",
        "'(885) 407-1719',\n",
        "'(943) 769-1061',\n",
        "'(596) 336-5508',\n",
        "'(765) 368-1506',\n",
        "'(255) 826-9050',\n",
        "]"
      ],
      "execution_count": 2,
      "outputs": []
    },
    {
      "cell_type": "markdown",
      "metadata": {
        "id": "cjLaWiOwMF_W"
      },
      "source": [
        "#Utilizando SET"
      ]
    },
    {
      "cell_type": "code",
      "metadata": {
        "colab": {
          "base_uri": "https://localhost:8080/"
        },
        "id": "F8n1sN-4XrW3",
        "outputId": "083c19fb-c932-4985-89f8-0394e753f2d1"
      },
      "source": [
        "list(set(numeros_telefone))"
      ],
      "execution_count": 5,
      "outputs": [
        {
          "output_type": "execute_result",
          "data": {
            "text/plain": [
              "['(311) 799-3883',\n",
              " '(464) 788-2397',\n",
              " '(285) 608-2448',\n",
              " '(554) 994-1517',\n",
              " '(943) 769-1061',\n",
              " '(255) 826-9050',\n",
              " '(821) 642-8987',\n",
              " '(812) 816-0881',\n",
              " '(511) 821-7870',\n",
              " '(410) 665-4447',\n",
              " '(650) 684-1437',\n",
              " '(935) 875-2054',\n",
              " '(765) 368-1506',\n",
              " '(596) 336-5508',\n",
              " '(885) 407-1719']"
            ]
          },
          "metadata": {
            "tags": []
          },
          "execution_count": 5
        }
      ]
    },
    {
      "cell_type": "markdown",
      "metadata": {
        "id": "vDgsY_SANaDL"
      },
      "source": [
        "#Sem o SET"
      ]
    },
    {
      "cell_type": "code",
      "metadata": {
        "id": "YMrnJDViNZOS",
        "outputId": "2b1cf70e-6d0e-4386-cb72-73d7a2c4b142",
        "colab": {
          "base_uri": "https://localhost:8080/"
        }
      },
      "source": [
        "def drop_duplicates(nlista):\n",
        "    xlista = []\n",
        "    for n in nlista:\n",
        "        if n not in xlista:\n",
        "            xlista.append(n)\n",
        "    return xlista\n",
        "\n",
        "drop_duplicates(numeros_telefone)"
      ],
      "execution_count": 6,
      "outputs": [
        {
          "output_type": "execute_result",
          "data": {
            "text/plain": [
              "['(765) 368-1506',\n",
              " '(285) 608-2448',\n",
              " '(255) 826-9050',\n",
              " '(554) 994-1517',\n",
              " '(596) 336-5508',\n",
              " '(511) 821-7870',\n",
              " '(410) 665-4447',\n",
              " '(821) 642-8987',\n",
              " '(311) 799-3883',\n",
              " '(935) 875-2054',\n",
              " '(464) 788-2397',\n",
              " '(650) 684-1437',\n",
              " '(812) 816-0881',\n",
              " '(885) 407-1719',\n",
              " '(943) 769-1061']"
            ]
          },
          "metadata": {
            "tags": []
          },
          "execution_count": 6
        }
      ]
    }
  ]
}