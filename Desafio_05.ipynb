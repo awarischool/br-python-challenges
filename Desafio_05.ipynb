{
  "nbformat": 4,
  "nbformat_minor": 0,
  "metadata": {
    "colab": {
      "name": "Desafio_05.ipynb",
      "provenance": [],
      "collapsed_sections": [],
      "authorship_tag": "ABX9TyMaVMKvFWWkJfqI8lZDVnMi",
      "include_colab_link": true
    },
    "kernelspec": {
      "name": "python3",
      "display_name": "Python 3"
    },
    "language_info": {
      "name": "python"
    }
  },
  "cells": [
    {
      "cell_type": "markdown",
      "metadata": {
        "id": "view-in-github",
        "colab_type": "text"
      },
      "source": [
        "<a href=\"https://colab.research.google.com/github/matcarvalho/br-python-challenges/blob/master/Desafio_05.ipynb\" target=\"_parent\"><img src=\"https://colab.research.google.com/assets/colab-badge.svg\" alt=\"Open In Colab\"/></a>"
      ]
    },
    {
      "cell_type": "markdown",
      "metadata": {
        "id": "P6rCoteG8QhF"
      },
      "source": [
        "Você trabalha em uma loja de sapatos e deve contatar uma série de clientes. Seus números de telefone estão na lista abaixo. No entanto, é possível notar números duplicados na lista dada. Você seria capaz de remover estes duplicados para evitar que clientes sejam contatados mais de uma vez?"
      ]
    },
    {
      "cell_type": "code",
      "metadata": {
        "id": "bFRYC_0O8L1y"
      },
      "source": [
        "numeros_telefone = [\n",
        "'(765) 368-1506',\n",
        "'(285) 608-2448',\n",
        "'(255) 826-9050',\n",
        "'(554) 994-1517',\n",
        "'(285) 608-2448',\n",
        "'(596) 336-5508',\n",
        "'(511) 821-7870',\n",
        "'(410) 665-4447',\n",
        "'(821) 642-8987',\n",
        "'(285) 608-2448',\n",
        "'(311) 799-3883',\n",
        "'(935) 875-2054',\n",
        "'(464) 788-2397',\n",
        "'(765) 368-1506',\n",
        "'(650) 684-1437',\n",
        "'(812) 816-0881',\n",
        "'(285) 608-2448',\n",
        "'(885) 407-1719',\n",
        "'(943) 769-1061',\n",
        "'(596) 336-5508',\n",
        "'(765) 368-1506',\n",
        "'(255) 826-9050',\n",
        "]"
      ],
      "execution_count": 1,
      "outputs": []
    },
    {
      "cell_type": "code",
      "metadata": {
        "colab": {
          "base_uri": "https://localhost:8080/"
        },
        "id": "A22QuqHZ8at9",
        "outputId": "aecc5a94-2795-4610-d1ee-519c78b97e9d"
      },
      "source": [
        "#Exibindo uma lista única sem caracteres\n",
        "for i in set(numeros_telefone):\n",
        "  print(i)\n",
        "\n",
        "#Poderia ser dessa forma, mas acho esteticamente feia\n",
        "#print(set(numeros_telefone))"
      ],
      "execution_count": 34,
      "outputs": [
        {
          "output_type": "stream",
          "text": [
            "(943) 769-1061\n",
            "(821) 642-8987\n",
            "(464) 788-2397\n",
            "(311) 799-3883\n",
            "(650) 684-1437\n",
            "(554) 994-1517\n",
            "(596) 336-5508\n",
            "(511) 821-7870\n",
            "(935) 875-2054\n",
            "(885) 407-1719\n",
            "(255) 826-9050\n",
            "(410) 665-4447\n",
            "(765) 368-1506\n",
            "(812) 816-0881\n",
            "(285) 608-2448\n"
          ],
          "name": "stdout"
        }
      ]
    }
  ]
}