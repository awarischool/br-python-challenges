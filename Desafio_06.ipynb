{
  "nbformat": 4,
  "nbformat_minor": 0,
  "metadata": {
    "colab": {
      "name": "Desafio_06.ipynb",
      "provenance": [],
      "collapsed_sections": [],
      "authorship_tag": "ABX9TyPrEpup1RZFJzW5wL62cTLn",
      "include_colab_link": true
    },
    "kernelspec": {
      "name": "python3",
      "display_name": "Python 3"
    },
    "language_info": {
      "name": "python"
    }
  },
  "cells": [
    {
      "cell_type": "markdown",
      "metadata": {
        "id": "view-in-github",
        "colab_type": "text"
      },
      "source": [
        "<a href=\"https://colab.research.google.com/github/matcarvalho/br-python-challenges/blob/master/Desafio_06.ipynb\" target=\"_parent\"><img src=\"https://colab.research.google.com/assets/colab-badge.svg\" alt=\"Open In Colab\"/></a>"
      ]
    },
    {
      "cell_type": "markdown",
      "metadata": {
        "id": "VY0vIdMoBwL9"
      },
      "source": [
        "Crie uma função que receba duas listas e retorne uma lista que contenha apenas os elementos comuns entre as listas (sem repetição). A função deve suportar lista de tamanhos diferentes."
      ]
    },
    {
      "cell_type": "code",
      "metadata": {
        "id": "PRmjtrdEBthN"
      },
      "source": [
        "a = [1, 1, 2, 3, 5, 8, 13, 21, 34, 55, 89]\n",
        "b = [1, 2, 3, 4, 5, 6, 7, 8, 9, 10, 11, 12, 13]"
      ],
      "execution_count": 28,
      "outputs": []
    },
    {
      "cell_type": "code",
      "metadata": {
        "colab": {
          "base_uri": "https://localhost:8080/"
        },
        "id": "yXpMJtD0ZpXj",
        "outputId": "255ebac5-51e6-4805-df77-2cc412fa36dd"
      },
      "source": [
        "#Forma mais simples\n",
        "def listaUnica(a,b):\n",
        "  resultado = set(a + b)\n",
        "  return resultado\n",
        "\n",
        "listaUnica(a,b)\n"
      ],
      "execution_count": 54,
      "outputs": [
        {
          "output_type": "execute_result",
          "data": {
            "text/plain": [
              "{1, 2, 3, 4, 5, 6, 7, 8, 9, 10, 11, 12, 13, 21, 34, 55, 89}"
            ]
          },
          "metadata": {
            "tags": []
          },
          "execution_count": 54
        }
      ]
    },
    {
      "cell_type": "code",
      "metadata": {
        "colab": {
          "base_uri": "https://localhost:8080/"
        },
        "id": "uQX9mFXORGnh",
        "outputId": "223b1b68-0394-4d54-caa9-127b00a01959"
      },
      "source": [
        "#Utilizando for mais função itertools\n",
        "\n",
        "def juncaoListas(a,b):\n",
        "  #importando a Biblioteca itertools\n",
        "  import itertools\n",
        "  #Criando as listas auxiliares\n",
        "  novaLista = []\n",
        "  listaUnica = []\n",
        "  #Chamando a função zip_longest da biblioteca itertools\n",
        "  for i,j in itertools.zip_longest(a,b, fillvalue=a[0]):\n",
        "  #Adicionando os elementos à lista\n",
        "    novaLista.append(i)\n",
        "    novaLista.append(j)\n",
        "  #Criando a lista única\n",
        "  listaUnica = set(novaLista)\n",
        "  print(listaUnica)\n",
        "\n",
        "juncaoListas(a,b)\n"
      ],
      "execution_count": 43,
      "outputs": [
        {
          "output_type": "stream",
          "text": [
            "{1, 2, 3, 4, 5, 6, 7, 8, 34, 9, 10, 11, 13, 12, 21, 55, 89}\n"
          ],
          "name": "stdout"
        }
      ]
    },
    {
      "cell_type": "code",
      "metadata": {
        "colab": {
          "base_uri": "https://localhost:8080/"
        },
        "id": "zLo6r4jtYt6y",
        "outputId": "a1681fb1-19f6-4f5f-d1d3-6ee5ce8ce289"
      },
      "source": [
        "#Segunda Forma com muitas iterações\n",
        "\n",
        "def niteracoes(a,b):\n",
        "  lista3 = []\n",
        "  for i in a:\n",
        "    for j in b:\n",
        "      lista3.append(j)\n",
        "    lista3.append(i)\n",
        "  print(set(lista3))\n",
        "\n",
        "niteracoes(a,b)\n"
      ],
      "execution_count": 53,
      "outputs": [
        {
          "output_type": "stream",
          "text": [
            "{1, 2, 3, 4, 5, 6, 7, 8, 9, 10, 11, 12, 13, 34, 21, 55, 89}\n"
          ],
          "name": "stdout"
        }
      ]
    }
  ]
}