{
  "nbformat": 4,
  "nbformat_minor": 0,
  "metadata": {
    "colab": {
      "name": "Desafio_06.ipynb",
      "provenance": [],
      "collapsed_sections": [],
      "authorship_tag": "ABX9TyPo7EG07MlyPqG/wvbU2QYB",
      "include_colab_link": true
    },
    "kernelspec": {
      "name": "python3",
      "display_name": "Python 3"
    },
    "language_info": {
      "name": "python"
    }
  },
  "cells": [
    {
      "cell_type": "markdown",
      "metadata": {
        "id": "view-in-github",
        "colab_type": "text"
      },
      "source": [
        "<a href=\"https://colab.research.google.com/github/matcarvalho/br-python-challenges/blob/master/Desafio_06.ipynb\" target=\"_parent\"><img src=\"https://colab.research.google.com/assets/colab-badge.svg\" alt=\"Open In Colab\"/></a>"
      ]
    },
    {
      "cell_type": "markdown",
      "metadata": {
        "id": "VY0vIdMoBwL9"
      },
      "source": [
        "Crie uma função que receba duas listas e retorne uma lista que contenha apenas os elementos comuns entre as listas (sem repetição). A função deve suportar lista de tamanhos diferentes."
      ]
    },
    {
      "cell_type": "code",
      "metadata": {
        "id": "PRmjtrdEBthN"
      },
      "source": [
        "a = [1, 1, 2, 3, 5, 8, 13, 21, 34, 55, 89]\n",
        "b = [1, 2, 3, 4, 5, 6, 7, 8, 9, 10, 11, 12, 13]"
      ],
      "execution_count": 1,
      "outputs": []
    },
    {
      "cell_type": "code",
      "metadata": {
        "colab": {
          "base_uri": "https://localhost:8080/"
        },
        "id": "yXpMJtD0ZpXj",
        "outputId": "410dae6a-601d-4a3e-d5e2-b2f1af9299b0"
      },
      "source": [
        "#Forma mais simples\n",
        "def listaUnica(a,b):\n",
        "  resultado = set(a).intersection(b)\n",
        "  return list(resultado)\n",
        "\n",
        "listaUnica(a,b)\n"
      ],
      "execution_count": 7,
      "outputs": [
        {
          "output_type": "execute_result",
          "data": {
            "text/plain": [
              "[1, 2, 3, 5, 8, 13]"
            ]
          },
          "metadata": {
            "tags": []
          },
          "execution_count": 7
        }
      ]
    }
  ]
}