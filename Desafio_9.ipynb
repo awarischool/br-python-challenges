{
  "nbformat": 4,
  "nbformat_minor": 0,
  "metadata": {
    "anaconda-cloud": {},
    "colab": {
      "name": "Cópia de Desafio 9.ipynb",
      "provenance": [],
      "collapsed_sections": [],
      "include_colab_link": true
    },
    "kernelspec": {
      "display_name": "Python 3",
      "language": "python",
      "name": "python3"
    },
    "language_info": {
      "codemirror_mode": {
        "name": "ipython",
        "version": 3
      },
      "file_extension": ".py",
      "mimetype": "text/x-python",
      "name": "python",
      "nbconvert_exporter": "python",
      "pygments_lexer": "ipython3",
      "version": "3.7.9"
    }
  },
  "cells": [
    {
      "cell_type": "markdown",
      "metadata": {
        "id": "view-in-github",
        "colab_type": "text"
      },
      "source": [
        "<a href=\"https://colab.research.google.com/github/sergioGMedinaP/br-python-challenges/blob/master/Desafio_9.ipynb\" target=\"_parent\"><img src=\"https://colab.research.google.com/assets/colab-badge.svg\" alt=\"Open In Colab\"/></a>"
      ]
    },
    {
      "cell_type": "markdown",
      "metadata": {
        "id": "HpvTpUBGf6Jr"
      },
      "source": [
        "### Desafio 9\n",
        "\n",
        "Escreva uma função que retorne a soma dos múltiplos de 3 e 5 entre 0 e um número limite, que vai ser utilizado como parâmetro. \\\n",
        "Por exemplo, se o limite for 20, ele retornará a soma de 3, 5, 6, 9, 10, 12, 15, 18, 20."
      ]
    },
    {
      "cell_type": "code",
      "metadata": {
        "colab": {
          "base_uri": "https://localhost:8080/"
        },
        "id": "knuGh0nYyNic",
        "outputId": "49a27441-0ad6-41db-de72-b211ea9886bb"
      },
      "source": [
        "def determina_multiplo(num, base):\n",
        "  if (num % base == 0):\n",
        "    print(\"Valor e num \", num)\n",
        "    return num\n",
        "  else:\n",
        "    return 0\n",
        "\n",
        "num = int(input(\"Digite um numero inteiro = \"))\n",
        "soma = 0\n",
        "\n",
        "for n in range(0, num+1):\n",
        "  soma = soma + determina_multiplo(n,3)\n",
        "  soma = soma + determina_multiplo(n,5)\n",
        "  #print(soma)\n",
        "\n",
        "print(f'Resultdo da soma de todos os elementos múltiplos de 3 e 5 dentro do limite (0 , {num}) informado é de: {soma}')\n"
      ],
      "execution_count": 61,
      "outputs": [
        {
          "output_type": "stream",
          "text": [
            "Digite um numero inteiro = 6\n",
            "Valor e num  0\n",
            "Valor e num  0\n",
            "Valor e num  3\n",
            "Valor e num  5\n",
            "Valor e num  6\n",
            "Resultdo da soma de todos os elementos múltiplos de 3 e 5 dentro do limite (0 , 6) informado é de: 14\n"
          ],
          "name": "stdout"
        }
      ]
    },
    {
      "cell_type": "code",
      "metadata": {
        "id": "3mN5o2Ap03Qv"
      },
      "source": [
        ""
      ],
      "execution_count": null,
      "outputs": []
    }
  ]
}