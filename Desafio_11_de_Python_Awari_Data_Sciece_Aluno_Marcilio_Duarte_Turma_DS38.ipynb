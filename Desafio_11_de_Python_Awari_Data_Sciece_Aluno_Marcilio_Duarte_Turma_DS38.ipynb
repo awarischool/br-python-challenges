{
  "nbformat": 4,
  "nbformat_minor": 0,
  "metadata": {
    "colab": {
      "name": "Desafio 11 de Python - Awari_Data Sciece - Aluno: Marcilio Duarte_Turma_DS38",
      "provenance": [],
      "authorship_tag": "ABX9TyP/y9wswfpfNMfkO89d/P9c",
      "include_colab_link": true
    },
    "kernelspec": {
      "name": "python3",
      "display_name": "Python 3"
    },
    "language_info": {
      "name": "python"
    }
  },
  "cells": [
    {
      "cell_type": "markdown",
      "metadata": {
        "id": "view-in-github",
        "colab_type": "text"
      },
      "source": [
        "<a href=\"https://colab.research.google.com/github/marcilioduarte/br-python-challenges/blob/master/Desafio_11_de_Python_Awari_Data_Sciece_Aluno_Marcilio_Duarte_Turma_DS38.ipynb\" target=\"_parent\"><img src=\"https://colab.research.google.com/assets/colab-badge.svg\" alt=\"Open In Colab\"/></a>"
      ]
    },
    {
      "cell_type": "markdown",
      "source": [
        "![](https://i.imgur.com/YX6UATs.png)"
      ],
      "metadata": {
        "id": "Khf4Hipaom-h"
      }
    },
    {
      "cell_type": "markdown",
      "source": [
        "### Desafio 11\n",
        "Dados uma sequência com `n` números inteiros, determinar quantos números da sequência são pares e quantos são ímpares.\\\n",
        "Por exemplo, para a sequência\n",
        "\n",
        "`6   2   7  -5   8  -4`\n",
        "\n",
        "a sua função deve retornar o número 4 para o número de pares e 2 para o de ímpares.\\\n",
        "A saída deve ser um **tupla** contendo primeiramente o número de pares e em seguida o número de ímpares.\\\n",
        "Para o exemplo anterior, a saída seria `(4, 2)`."
      ],
      "metadata": {
        "id": "_NGs9dWWodso"
      }
    },
    {
      "cell_type": "code",
      "source": [
        "#solução 1:\n",
        "lista_aleatoria=[22,24,26,27,29,31,33]\n",
        "pares=[]\n",
        "impares=[]\n",
        "def imp_ou_par(lst):\n",
        "  for i in lst:\n",
        "    if i%2==0:\n",
        "      pares.append(i)\n",
        "    elif i%2!=0:\n",
        "      impares.append(i)\n",
        "  tupla=(len(pares),len(impares))\n",
        "  print(f'A quantidade de números pares é: {len(pares)}', f'e a quantidade de números ímpares é: {len(impares)}')\n",
        "  print(f'Logo, a tupla é: {tupla}')\n",
        "imp_ou_par(lista_aleatoria)"
      ],
      "metadata": {
        "colab": {
          "base_uri": "https://localhost:8080/"
        },
        "id": "D5A-HqQIopuF",
        "outputId": "e772a098-e827-48b3-8580-d7f48bac9007"
      },
      "execution_count": 49,
      "outputs": [
        {
          "output_type": "stream",
          "name": "stdout",
          "text": [
            "A quantidade de números pares é: 3 e a quantidade de números ímpares é: 4\n",
            "Logo, a tupla é: (3, 4)\n"
          ]
        }
      ]
    }
  ]
}